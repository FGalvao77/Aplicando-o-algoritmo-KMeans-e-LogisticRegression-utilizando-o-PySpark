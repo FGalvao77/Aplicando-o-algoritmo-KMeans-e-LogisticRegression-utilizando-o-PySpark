{
  "nbformat": 4,
  "nbformat_minor": 0,
  "metadata": {
    "colab": {
      "name": "Aplicação prática dos algoritmos KMeans e LogisticRegression utilizando o PySpark.ipynb",
      "provenance": [],
      "collapsed_sections": [],
      "authorship_tag": "ABX9TyMRLPcoiWjclcaK1clSoKrX",
      "include_colab_link": true
    },
    "kernelspec": {
      "name": "python3",
      "display_name": "Python 3"
    },
    "language_info": {
      "name": "python"
    }
  },
  "cells": [
    {
      "cell_type": "markdown",
      "metadata": {
        "id": "view-in-github",
        "colab_type": "text"
      },
      "source": [
        "<a href=\"https://colab.research.google.com/github/FGalvao77/Aplicando-os-algoritmos-KMeans-e-LogisticRegression-utilizando-o-PySpark/blob/main/Aplica%C3%A7%C3%A3o_pr%C3%A1tica_dos_algoritmos_KMeans_e_LogisticRegression_utilizando_o_PySpark.ipynb\" target=\"_parent\"><img src=\"https://colab.research.google.com/assets/colab-badge.svg\" alt=\"Open In Colab\"/></a>"
      ]
    },
    {
      "cell_type": "markdown",
      "metadata": {
        "id": "PQU5D37BmFXN"
      },
      "source": [
        "# **Aplicação prática dos algoritmos _KMeans_ e _LogisticRegression_ utilizando o `PySpark`**\n",
        "\n",
        "---\n",
        "\n"
      ]
    },
    {
      "cell_type": "markdown",
      "metadata": {
        "id": "IQgZxQefn077"
      },
      "source": [
        "Primeiro vamos configurar o ambiente do _google colab_ para utilização do `PySpark`."
      ]
    },
    {
      "cell_type": "code",
      "metadata": {
        "id": "8MKK7asDeozc",
        "colab": {
          "base_uri": "https://localhost:8080/"
        },
        "outputId": "1807cd09-aefd-4fcc-f436-e547ac089cc4"
      },
      "source": [
        "# instalando as dependências\n",
        "!apt-get install openjdk-8-jdk-headless -qq > /dev/null\n",
        "!wget -q https://archive.apache.org/dist/spark/spark-3.1.2/spark-3.1.2-bin-hadoop3.2.tgz\n",
        "!tar xf spark-3.1.2-bin-hadoop3.2.tgz\n",
        "!pip install -q findspark\n",
        "!pip install -q pyspark"
      ],
      "execution_count": 1,
      "outputs": [
        {
          "output_type": "stream",
          "name": "stdout",
          "text": [
            "\u001b[K     |████████████████████████████████| 281.3 MB 38 kB/s \n",
            "\u001b[K     |████████████████████████████████| 198 kB 43.4 MB/s \n",
            "\u001b[?25h  Building wheel for pyspark (setup.py) ... \u001b[?25l\u001b[?25hdone\n"
          ]
        }
      ]
    },
    {
      "cell_type": "code",
      "metadata": {
        "colab": {
          "base_uri": "https://localhost:8080/"
        },
        "id": "uJION0vtawCm",
        "outputId": "79f4c5e3-48f4-4a31-b28a-223d5b4d67b4"
      },
      "source": [
        "# visualizando o diretório principal\n",
        "%ls"
      ],
      "execution_count": 3,
      "outputs": [
        {
          "output_type": "stream",
          "name": "stdout",
          "text": [
            "hack_data.csv  \u001b[0m\u001b[01;34mspark-3.1.2-bin-hadoop3.2\u001b[0m/\n",
            "\u001b[01;34msample_data\u001b[0m/   spark-3.1.2-bin-hadoop3.2.tgz\n"
          ]
        }
      ]
    },
    {
      "cell_type": "code",
      "metadata": {
        "colab": {
          "base_uri": "https://localhost:8080/"
        },
        "id": "iu7IeZn_cK3u",
        "outputId": "3ea32365-bdaf-4ded-b9c9-d6ccbb04c979"
      },
      "source": [
        "# visualizando a pasta e seus elementos\n",
        "%ls sample_data/"
      ],
      "execution_count": 4,
      "outputs": [
        {
          "output_type": "stream",
          "name": "stdout",
          "text": [
            "\u001b[0m\u001b[01;32manscombe.json\u001b[0m*                mnist_test.csv\n",
            "california_housing_test.csv   mnist_train_small.csv\n",
            "california_housing_train.csv  \u001b[01;32mREADME.md\u001b[0m*\n"
          ]
        }
      ]
    },
    {
      "cell_type": "code",
      "metadata": {
        "id": "pGhxpgslfJMm"
      },
      "source": [
        "# configurando as variáveis de ambiente\n",
        "import os\n",
        "\n",
        "os.environ['JAVA_HOME'] = '/usr/lib/jvm/java-8-openjdk-amd64'\n",
        "os.environ['SPARK_HOME'] = '/content/spark-3.1.2-bin-hadoop3.2'\n",
        "\n",
        "# tornando o pyspark \"importável\"\n",
        "import findspark\n",
        "findspark.init()"
      ],
      "execution_count": 5,
      "outputs": []
    },
    {
      "cell_type": "code",
      "metadata": {
        "colab": {
          "base_uri": "https://localhost:8080/"
        },
        "id": "kApKSqPjgdYL",
        "outputId": "e2bf6ca1-c930-4a39-e761-880e54fa68e0"
      },
      "source": [
        "# visualizando se os diretórios/dependências necessita de atualizações\n",
        "!apt-get update"
      ],
      "execution_count": 6,
      "outputs": [
        {
          "output_type": "stream",
          "name": "stdout",
          "text": [
            "\r0% [Working]\r            \rIgn:1 https://developer.download.nvidia.com/compute/cuda/repos/ubuntu1804/x86_64  InRelease\n",
            "\r0% [Connecting to archive.ubuntu.com (91.189.88.142)] [Connecting to security.u\r                                                                               \rHit:2 https://cloud.r-project.org/bin/linux/ubuntu bionic-cran40/ InRelease\n",
            "\r0% [Connecting to archive.ubuntu.com (91.189.88.142)] [Connecting to security.u\r                                                                               \rIgn:3 https://developer.download.nvidia.com/compute/machine-learning/repos/ubuntu1804/x86_64  InRelease\n",
            "\r0% [Connecting to archive.ubuntu.com (91.189.88.142)] [Connecting to security.u\r0% [2 InRelease gpgv 3,626 B] [Connecting to archive.ubuntu.com (91.189.88.142)\r                                                                               \rHit:4 https://developer.download.nvidia.com/compute/cuda/repos/ubuntu1804/x86_64  Release\n",
            "\r0% [2 InRelease gpgv 3,626 B] [Connecting to archive.ubuntu.com (91.189.88.142)\r                                                                               \rHit:5 https://developer.download.nvidia.com/compute/machine-learning/repos/ubuntu1804/x86_64  Release\n",
            "\r0% [2 InRelease gpgv 3,626 B] [Connecting to archive.ubuntu.com (91.189.88.142)\r                                                                               \rHit:6 http://security.ubuntu.com/ubuntu bionic-security InRelease\n",
            "\r                                                                               \r0% [2 InRelease gpgv 3,626 B] [Waiting for headers] [Waiting for headers]\r                                                                         \r0% [Waiting for headers] [Waiting for headers]\r0% [Release.gpg gpgv 696 B] [Waiting for headers] [Waiting for headers]\r                                                                       \rHit:7 http://archive.ubuntu.com/ubuntu bionic InRelease\n",
            "Hit:8 http://ppa.launchpad.net/c2d4u.team/c2d4u4.0+/ubuntu bionic InRelease\n",
            "Hit:9 http://archive.ubuntu.com/ubuntu bionic-updates InRelease\n",
            "Hit:11 http://archive.ubuntu.com/ubuntu bionic-backports InRelease\n",
            "Hit:12 http://ppa.launchpad.net/cran/libgit2/ubuntu bionic InRelease\n",
            "Hit:14 http://ppa.launchpad.net/deadsnakes/ppa/ubuntu bionic InRelease\n",
            "Hit:15 http://ppa.launchpad.net/graphics-drivers/ppa/ubuntu bionic InRelease\n",
            "Reading package lists... Done\n"
          ]
        }
      ]
    },
    {
      "cell_type": "code",
      "metadata": {
        "colab": {
          "base_uri": "https://localhost:8080/"
        },
        "id": "N5ZfWhrGgl-v",
        "outputId": "1264dd8c-70ef-43f9-cff6-f54002cab38d"
      },
      "source": [
        "# atualizando os diretórios/dependências\n",
        "!apt upgrade"
      ],
      "execution_count": 7,
      "outputs": [
        {
          "output_type": "stream",
          "name": "stdout",
          "text": [
            "Reading package lists... Done\n",
            "Building dependency tree       \n",
            "Reading state information... Done\n",
            "Calculating upgrade... Done\n",
            "The following packages have been kept back:\n",
            "  libcudnn8 libcudnn8-dev libnccl-dev libnccl2\n",
            "0 upgraded, 0 newly installed, 0 to remove and 4 not upgraded.\n"
          ]
        }
      ]
    },
    {
      "cell_type": "code",
      "metadata": {
        "colab": {
          "base_uri": "https://localhost:8080/"
        },
        "id": "KjK-A-hSgmfz",
        "outputId": "0cc2b99b-5236-4fcc-c256-7dee1a2e95a3"
      },
      "source": [
        "# removendo aplicações obsoletas\n",
        "!apt autoremove"
      ],
      "execution_count": 8,
      "outputs": [
        {
          "output_type": "stream",
          "name": "stdout",
          "text": [
            "Reading package lists... Done\n",
            "Building dependency tree       \n",
            "Reading state information... Done\n",
            "0 upgraded, 0 newly installed, 0 to remove and 4 not upgraded.\n"
          ]
        }
      ]
    },
    {
      "cell_type": "code",
      "metadata": {
        "id": "TVcm-naZmBFj"
      },
      "source": [
        "# instalando o PySpark\n",
        "# !pip install pyspark"
      ],
      "execution_count": 9,
      "outputs": []
    },
    {
      "cell_type": "markdown",
      "metadata": {
        "id": "w9Z4dxQLoHky"
      },
      "source": [
        "**Inicializando a sessão Spark**\n",
        "\n",
        "Segundo passo, precisamos inicializar a sessão Spark."
      ]
    },
    {
      "cell_type": "code",
      "metadata": {
        "id": "Pc1rxvBPmaOL"
      },
      "source": [
        "# importando a biblioteca para iniciar a sessão spark\n",
        "from pyspark.sql import SparkSession"
      ],
      "execution_count": 10,
      "outputs": []
    },
    {
      "cell_type": "code",
      "metadata": {
        "id": "0LeuexnTmaLN"
      },
      "source": [
        "# iniciando a sessão spark\n",
        "spark = SparkSession.builder\\\n",
        "    .appName('PySpark MLlib - KMeans | LogisticRegression')\\\n",
        "    .getOrCreate()"
      ],
      "execution_count": 11,
      "outputs": []
    },
    {
      "cell_type": "code",
      "metadata": {
        "colab": {
          "base_uri": "https://localhost:8080/",
          "height": 219
        },
        "id": "HhxpsMKQmaH8",
        "outputId": "117d200d-c2c6-410a-b384-05ae08241228"
      },
      "source": [
        "# visualizando a sessão instanciada\n",
        "spark"
      ],
      "execution_count": 12,
      "outputs": [
        {
          "output_type": "execute_result",
          "data": {
            "text/html": [
              "\n",
              "            <div>\n",
              "                <p><b>SparkSession - in-memory</b></p>\n",
              "                \n",
              "        <div>\n",
              "            <p><b>SparkContext</b></p>\n",
              "\n",
              "            <p><a href=\"http://f7bf2df46d9f:4040\">Spark UI</a></p>\n",
              "\n",
              "            <dl>\n",
              "              <dt>Version</dt>\n",
              "                <dd><code>v3.1.2</code></dd>\n",
              "              <dt>Master</dt>\n",
              "                <dd><code>local[*]</code></dd>\n",
              "              <dt>AppName</dt>\n",
              "                <dd><code>PySpark MLlib - KMeans | LogisticRegression</code></dd>\n",
              "            </dl>\n",
              "        </div>\n",
              "        \n",
              "            </div>\n",
              "        "
            ],
            "text/plain": [
              "<pyspark.sql.session.SparkSession at 0x7f40aafc1790>"
            ]
          },
          "metadata": {},
          "execution_count": 12
        }
      ]
    },
    {
      "cell_type": "markdown",
      "metadata": {
        "id": "Bv9DrypY1Zsi"
      },
      "source": [
        "## **KMeans**"
      ]
    },
    {
      "cell_type": "markdown",
      "metadata": {
        "id": "GzlflV3VuRnH"
      },
      "source": [
        "**Encontrando Hackers com PySpark MLlib**\n",
        "\n",
        "Um sistema da empresa foi hackeado e muitos dados foram roubados. Felizmente, os metadados de cada sessão usada pelos hackers para se conectar foram gravados e estão disponíveis para nós. Existem 3 possíveis hackers, ou até mais.\n",
        "\n",
        "Uma prática comum entre os hackers é a compensação do trabalho. Isso significa que os hackers fazem aproximadamente a mesma quantidade de hacks. \n",
        "\n",
        "- **Descrição do problema:**\n",
        "\n",
        " Encontrar o número de hackers que invadiu o sistema. Então, vamos usar o _clustering_ para descobrir o número de hackers."
      ]
    },
    {
      "cell_type": "markdown",
      "metadata": {
        "id": "Xddjgd-m11B4"
      },
      "source": [
        "**Carregando o conjunto de dados**\n",
        "\n",
        "Primeiro importaremos o conjunto de dados e para em seguida, utilizando o método `spark.read.csv` para realizarmos a leitura do mesmo. "
      ]
    },
    {
      "cell_type": "code",
      "metadata": {
        "colab": {
          "base_uri": "https://localhost:8080/"
        },
        "id": "o-XGAoEymaBy",
        "outputId": "d458ccb3-f068-4a12-9c1a-825fc95e0a68"
      },
      "source": [
        "# importando o conjunto de dados\n",
        "!wget 'https://raw.githubusercontent.com/farhanafayez/PySpark-K-means-Clustering-ML/master/hack_data.csv'"
      ],
      "execution_count": 10,
      "outputs": [
        {
          "output_type": "stream",
          "name": "stdout",
          "text": [
            "--2021-12-04 21:53:08--  https://raw.githubusercontent.com/farhanafayez/PySpark-K-means-Clustering-ML/master/hack_data.csv\n",
            "Resolving raw.githubusercontent.com (raw.githubusercontent.com)... 185.199.110.133, 185.199.109.133, 185.199.108.133, ...\n",
            "Connecting to raw.githubusercontent.com (raw.githubusercontent.com)|185.199.110.133|:443... connected.\n",
            "HTTP request sent, awaiting response... 200 OK\n",
            "Length: 14268 (14K) [text/plain]\n",
            "Saving to: ‘hack_data.csv’\n",
            "\n",
            "hack_data.csv       100%[===================>]  13.93K  --.-KB/s    in 0s      \n",
            "\n",
            "2021-12-04 21:53:08 (101 MB/s) - ‘hack_data.csv’ saved [14268/14268]\n",
            "\n"
          ]
        }
      ]
    },
    {
      "cell_type": "code",
      "metadata": {
        "colab": {
          "base_uri": "https://localhost:8080/"
        },
        "id": "M99SPvlLb-BE",
        "outputId": "36dd829a-aa66-4138-900a-63ec739c6a72"
      },
      "source": [
        "# visualizando o diretório principal\n",
        "%ls"
      ],
      "execution_count": 14,
      "outputs": [
        {
          "output_type": "stream",
          "name": "stdout",
          "text": [
            "hack_data.csv  \u001b[0m\u001b[01;34mspark-3.1.2-bin-hadoop3.2\u001b[0m/\n",
            "\u001b[01;34msample_data\u001b[0m/   spark-3.1.2-bin-hadoop3.2.tgz\n"
          ]
        }
      ]
    },
    {
      "cell_type": "code",
      "metadata": {
        "colab": {
          "base_uri": "https://localhost:8080/"
        },
        "id": "_ZaMeJI0W96d",
        "outputId": "9a9fbf82-a137-44bf-9ff5-f35ebc56dad0"
      },
      "source": [
        "# visualizando o conjunto de dados\n",
        "!head hack_data.csv"
      ],
      "execution_count": 17,
      "outputs": [
        {
          "output_type": "stream",
          "name": "stdout",
          "text": [
            "Session_Connection_Time,Bytes Transferred,Kali_Trace_Used,Servers_Corrupted,Pages_Corrupted,Location,WPM_Typing_Speed\n",
            "8.0,391.09,1,2.96,7.0,Slovenia,72.37\n",
            "20.0,720.99,0,3.04,9.0,British Virgin Islands,69.08\n",
            "31.0,356.32,1,3.71,8.0,Tokelau,70.58\n",
            "2.0,228.08,1,2.48,8.0,Bolivia,70.8\n",
            "20.0,408.5,0,3.57,8.0,Iraq,71.28\n",
            "1.0,390.69,1,2.79,9.0,Marshall Islands,71.57\n",
            "18.0,342.97,1,5.1,7.0,Georgia,72.32\n",
            "22.0,101.61,1,3.03,7.0,Timor-Leste,72.03\n",
            "15.0,275.53,1,3.53,8.0,Palestinian Territory,70.17\n"
          ]
        }
      ]
    },
    {
      "cell_type": "code",
      "metadata": {
        "id": "niugca3RmZ_M"
      },
      "source": [
        "# carregando o conjunto de dados e instanciando no objeto \"df\"\n",
        "df = spark.read.csv('/content/hack_data.csv', \n",
        "                    header = True, \n",
        "                    inferSchema = True)"
      ],
      "execution_count": 18,
      "outputs": []
    },
    {
      "cell_type": "markdown",
      "metadata": {
        "id": "OMKxKp4rp_0N"
      },
      "source": [
        "**Esquema dos dados recuperados**\n",
        "\n",
        "Vamos dar uma olhada no esquema de dados para entender melhor com o que estamos lidando."
      ]
    },
    {
      "cell_type": "code",
      "metadata": {
        "colab": {
          "base_uri": "https://localhost:8080/"
        },
        "id": "LF5QmVFkmZ9K",
        "outputId": "4277b53d-6cf8-4eab-e37b-137891dbd536"
      },
      "source": [
        "# visualizando o tipo de dado de cada atributo\n",
        "df.printSchema()"
      ],
      "execution_count": 19,
      "outputs": [
        {
          "output_type": "stream",
          "name": "stdout",
          "text": [
            "root\n",
            " |-- Session_Connection_Time: double (nullable = true)\n",
            " |-- Bytes Transferred: double (nullable = true)\n",
            " |-- Kali_Trace_Used: integer (nullable = true)\n",
            " |-- Servers_Corrupted: double (nullable = true)\n",
            " |-- Pages_Corrupted: double (nullable = true)\n",
            " |-- Location: string (nullable = true)\n",
            " |-- WPM_Typing_Speed: double (nullable = true)\n",
            "\n"
          ]
        }
      ]
    },
    {
      "cell_type": "code",
      "metadata": {
        "colab": {
          "base_uri": "https://localhost:8080/"
        },
        "id": "NqZ_GqC7XYgr",
        "outputId": "71458b91-9de4-4e9f-e284-214ba7be8c55"
      },
      "source": [
        "# quantidade de observações presente no conjunto de dados\n",
        "df.count()"
      ],
      "execution_count": 20,
      "outputs": [
        {
          "output_type": "execute_result",
          "data": {
            "text/plain": [
              "334"
            ]
          },
          "metadata": {},
          "execution_count": 20
        }
      ]
    },
    {
      "cell_type": "code",
      "metadata": {
        "colab": {
          "base_uri": "https://localhost:8080/"
        },
        "id": "t4SZMOzcX09d",
        "outputId": "3e393d4b-0d6a-4b2c-ac9c-7c1ebb473ff3"
      },
      "source": [
        "# visualizando as 5 primeiras linhas\n",
        "df.head(5)"
      ],
      "execution_count": 21,
      "outputs": [
        {
          "output_type": "execute_result",
          "data": {
            "text/plain": [
              "[Row(Session_Connection_Time=8.0, Bytes Transferred=391.09, Kali_Trace_Used=1, Servers_Corrupted=2.96, Pages_Corrupted=7.0, Location='Slovenia', WPM_Typing_Speed=72.37),\n",
              " Row(Session_Connection_Time=20.0, Bytes Transferred=720.99, Kali_Trace_Used=0, Servers_Corrupted=3.04, Pages_Corrupted=9.0, Location='British Virgin Islands', WPM_Typing_Speed=69.08),\n",
              " Row(Session_Connection_Time=31.0, Bytes Transferred=356.32, Kali_Trace_Used=1, Servers_Corrupted=3.71, Pages_Corrupted=8.0, Location='Tokelau', WPM_Typing_Speed=70.58),\n",
              " Row(Session_Connection_Time=2.0, Bytes Transferred=228.08, Kali_Trace_Used=1, Servers_Corrupted=2.48, Pages_Corrupted=8.0, Location='Bolivia', WPM_Typing_Speed=70.8),\n",
              " Row(Session_Connection_Time=20.0, Bytes Transferred=408.5, Kali_Trace_Used=0, Servers_Corrupted=3.57, Pages_Corrupted=8.0, Location='Iraq', WPM_Typing_Speed=71.28)]"
            ]
          },
          "metadata": {},
          "execution_count": 21
        }
      ]
    },
    {
      "cell_type": "code",
      "metadata": {
        "colab": {
          "base_uri": "https://localhost:8080/"
        },
        "id": "IiCcYoJSXxMb",
        "outputId": "7105bacc-0d24-47c3-a04e-f40a29b1ee80"
      },
      "source": [
        "# visualizando as 5 primeiras linhas de forma estrutura como tabela\n",
        "df.show(5)"
      ],
      "execution_count": 22,
      "outputs": [
        {
          "output_type": "stream",
          "name": "stdout",
          "text": [
            "+-----------------------+-----------------+---------------+-----------------+---------------+--------------------+----------------+\n",
            "|Session_Connection_Time|Bytes Transferred|Kali_Trace_Used|Servers_Corrupted|Pages_Corrupted|            Location|WPM_Typing_Speed|\n",
            "+-----------------------+-----------------+---------------+-----------------+---------------+--------------------+----------------+\n",
            "|                    8.0|           391.09|              1|             2.96|            7.0|            Slovenia|           72.37|\n",
            "|                   20.0|           720.99|              0|             3.04|            9.0|British Virgin Is...|           69.08|\n",
            "|                   31.0|           356.32|              1|             3.71|            8.0|             Tokelau|           70.58|\n",
            "|                    2.0|           228.08|              1|             2.48|            8.0|             Bolivia|            70.8|\n",
            "|                   20.0|            408.5|              0|             3.57|            8.0|                Iraq|           71.28|\n",
            "+-----------------------+-----------------+---------------+-----------------+---------------+--------------------+----------------+\n",
            "only showing top 5 rows\n",
            "\n"
          ]
        }
      ]
    },
    {
      "cell_type": "code",
      "metadata": {
        "colab": {
          "base_uri": "https://localhost:8080/",
          "height": 206
        },
        "id": "zw9uwSeOdXnv",
        "outputId": "1b511c5c-4ab9-487a-ddbd-a5377f092b10"
      },
      "source": [
        "# podemos visualizar o conjunto de dados em formato da tabela do \"Pandas\"\n",
        "df.toPandas().head()    # as 5 primeiras linhas"
      ],
      "execution_count": 25,
      "outputs": [
        {
          "output_type": "execute_result",
          "data": {
            "text/html": [
              "<div>\n",
              "<style scoped>\n",
              "    .dataframe tbody tr th:only-of-type {\n",
              "        vertical-align: middle;\n",
              "    }\n",
              "\n",
              "    .dataframe tbody tr th {\n",
              "        vertical-align: top;\n",
              "    }\n",
              "\n",
              "    .dataframe thead th {\n",
              "        text-align: right;\n",
              "    }\n",
              "</style>\n",
              "<table border=\"1\" class=\"dataframe\">\n",
              "  <thead>\n",
              "    <tr style=\"text-align: right;\">\n",
              "      <th></th>\n",
              "      <th>Session_Connection_Time</th>\n",
              "      <th>Bytes Transferred</th>\n",
              "      <th>Kali_Trace_Used</th>\n",
              "      <th>Servers_Corrupted</th>\n",
              "      <th>Pages_Corrupted</th>\n",
              "      <th>Location</th>\n",
              "      <th>WPM_Typing_Speed</th>\n",
              "    </tr>\n",
              "  </thead>\n",
              "  <tbody>\n",
              "    <tr>\n",
              "      <th>0</th>\n",
              "      <td>8.0</td>\n",
              "      <td>391.09</td>\n",
              "      <td>1</td>\n",
              "      <td>2.96</td>\n",
              "      <td>7.0</td>\n",
              "      <td>Slovenia</td>\n",
              "      <td>72.37</td>\n",
              "    </tr>\n",
              "    <tr>\n",
              "      <th>1</th>\n",
              "      <td>20.0</td>\n",
              "      <td>720.99</td>\n",
              "      <td>0</td>\n",
              "      <td>3.04</td>\n",
              "      <td>9.0</td>\n",
              "      <td>British Virgin Islands</td>\n",
              "      <td>69.08</td>\n",
              "    </tr>\n",
              "    <tr>\n",
              "      <th>2</th>\n",
              "      <td>31.0</td>\n",
              "      <td>356.32</td>\n",
              "      <td>1</td>\n",
              "      <td>3.71</td>\n",
              "      <td>8.0</td>\n",
              "      <td>Tokelau</td>\n",
              "      <td>70.58</td>\n",
              "    </tr>\n",
              "    <tr>\n",
              "      <th>3</th>\n",
              "      <td>2.0</td>\n",
              "      <td>228.08</td>\n",
              "      <td>1</td>\n",
              "      <td>2.48</td>\n",
              "      <td>8.0</td>\n",
              "      <td>Bolivia</td>\n",
              "      <td>70.80</td>\n",
              "    </tr>\n",
              "    <tr>\n",
              "      <th>4</th>\n",
              "      <td>20.0</td>\n",
              "      <td>408.50</td>\n",
              "      <td>0</td>\n",
              "      <td>3.57</td>\n",
              "      <td>8.0</td>\n",
              "      <td>Iraq</td>\n",
              "      <td>71.28</td>\n",
              "    </tr>\n",
              "  </tbody>\n",
              "</table>\n",
              "</div>"
            ],
            "text/plain": [
              "   Session_Connection_Time  ...  WPM_Typing_Speed\n",
              "0                      8.0  ...             72.37\n",
              "1                     20.0  ...             69.08\n",
              "2                     31.0  ...             70.58\n",
              "3                      2.0  ...             70.80\n",
              "4                     20.0  ...             71.28\n",
              "\n",
              "[5 rows x 7 columns]"
            ]
          },
          "metadata": {},
          "execution_count": 25
        }
      ]
    },
    {
      "cell_type": "code",
      "metadata": {
        "colab": {
          "base_uri": "https://localhost:8080/"
        },
        "id": "8kvjtqS5ysHl",
        "outputId": "f87b5ab4-a8be-484f-d494-656a51db2573"
      },
      "source": [
        "# estatística descritiva do conjunto de dados\n",
        "df.describe().show()"
      ],
      "execution_count": 26,
      "outputs": [
        {
          "output_type": "stream",
          "name": "stdout",
          "text": [
            "+-------+-----------------------+------------------+------------------+-----------------+------------------+-----------+------------------+\n",
            "|summary|Session_Connection_Time| Bytes Transferred|   Kali_Trace_Used|Servers_Corrupted|   Pages_Corrupted|   Location|  WPM_Typing_Speed|\n",
            "+-------+-----------------------+------------------+------------------+-----------------+------------------+-----------+------------------+\n",
            "|  count|                    334|               334|               334|              334|               334|        334|               334|\n",
            "|   mean|     30.008982035928145| 607.2452694610777|0.5119760479041916|5.258502994011977|10.838323353293413|       null|57.342395209580864|\n",
            "| stddev|     14.088200614636158|286.33593163576757|0.5006065264451406| 2.30190693339697|  3.06352633036022|       null| 13.41106336843464|\n",
            "|    min|                    1.0|              10.0|                 0|              1.0|               6.0|Afghanistan|              40.0|\n",
            "|    max|                   60.0|            1330.5|                 1|             10.0|              15.0|   Zimbabwe|              75.0|\n",
            "+-------+-----------------------+------------------+------------------+-----------------+------------------+-----------+------------------+\n",
            "\n"
          ]
        }
      ]
    },
    {
      "cell_type": "code",
      "metadata": {
        "colab": {
          "base_uri": "https://localhost:8080/"
        },
        "id": "YfYvheDszSmF",
        "outputId": "15ec1248-1da6-4197-a622-35e665239937"
      },
      "source": [
        "# estatística descritiva de um atributo específico\n",
        "df.select('Bytes Transferred').describe().show()"
      ],
      "execution_count": 27,
      "outputs": [
        {
          "output_type": "stream",
          "name": "stdout",
          "text": [
            "+-------+------------------+\n",
            "|summary| Bytes Transferred|\n",
            "+-------+------------------+\n",
            "|  count|               334|\n",
            "|   mean| 607.2452694610777|\n",
            "| stddev|286.33593163576757|\n",
            "|    min|              10.0|\n",
            "|    max|            1330.5|\n",
            "+-------+------------------+\n",
            "\n"
          ]
        }
      ]
    },
    {
      "cell_type": "code",
      "metadata": {
        "colab": {
          "base_uri": "https://localhost:8080/"
        },
        "id": "HaTBm5bIzlhi",
        "outputId": "9cde36ca-6eb3-4b77-a5b1-3e3afc4561fa"
      },
      "source": [
        "# estatística descritiva de dois atributos específicos\n",
        "df.select('Bytes Transferred', 'Kali_Trace_Used').describe().show()"
      ],
      "execution_count": 28,
      "outputs": [
        {
          "output_type": "stream",
          "name": "stdout",
          "text": [
            "+-------+------------------+------------------+\n",
            "|summary| Bytes Transferred|   Kali_Trace_Used|\n",
            "+-------+------------------+------------------+\n",
            "|  count|               334|               334|\n",
            "|   mean| 607.2452694610777|0.5119760479041916|\n",
            "| stddev|286.33593163576757|0.5006065264451406|\n",
            "|    min|              10.0|                 0|\n",
            "|    max|            1330.5|                 1|\n",
            "+-------+------------------+------------------+\n",
            "\n"
          ]
        }
      ]
    },
    {
      "cell_type": "code",
      "metadata": {
        "colab": {
          "base_uri": "https://localhost:8080/",
          "height": 206
        },
        "id": "sFFNUlazYGQg",
        "outputId": "018dd303-63e9-4bd5-8626-bd8ae2f34f4f"
      },
      "source": [
        "# estatística descritiva do conjunto de dados, utilizando a função \".toPandas()\"\n",
        "df.describe().toPandas()"
      ],
      "execution_count": 29,
      "outputs": [
        {
          "output_type": "execute_result",
          "data": {
            "text/html": [
              "<div>\n",
              "<style scoped>\n",
              "    .dataframe tbody tr th:only-of-type {\n",
              "        vertical-align: middle;\n",
              "    }\n",
              "\n",
              "    .dataframe tbody tr th {\n",
              "        vertical-align: top;\n",
              "    }\n",
              "\n",
              "    .dataframe thead th {\n",
              "        text-align: right;\n",
              "    }\n",
              "</style>\n",
              "<table border=\"1\" class=\"dataframe\">\n",
              "  <thead>\n",
              "    <tr style=\"text-align: right;\">\n",
              "      <th></th>\n",
              "      <th>summary</th>\n",
              "      <th>Session_Connection_Time</th>\n",
              "      <th>Bytes Transferred</th>\n",
              "      <th>Kali_Trace_Used</th>\n",
              "      <th>Servers_Corrupted</th>\n",
              "      <th>Pages_Corrupted</th>\n",
              "      <th>Location</th>\n",
              "      <th>WPM_Typing_Speed</th>\n",
              "    </tr>\n",
              "  </thead>\n",
              "  <tbody>\n",
              "    <tr>\n",
              "      <th>0</th>\n",
              "      <td>count</td>\n",
              "      <td>334</td>\n",
              "      <td>334</td>\n",
              "      <td>334</td>\n",
              "      <td>334</td>\n",
              "      <td>334</td>\n",
              "      <td>334</td>\n",
              "      <td>334</td>\n",
              "    </tr>\n",
              "    <tr>\n",
              "      <th>1</th>\n",
              "      <td>mean</td>\n",
              "      <td>30.008982035928145</td>\n",
              "      <td>607.2452694610777</td>\n",
              "      <td>0.5119760479041916</td>\n",
              "      <td>5.258502994011977</td>\n",
              "      <td>10.838323353293413</td>\n",
              "      <td>None</td>\n",
              "      <td>57.342395209580864</td>\n",
              "    </tr>\n",
              "    <tr>\n",
              "      <th>2</th>\n",
              "      <td>stddev</td>\n",
              "      <td>14.088200614636158</td>\n",
              "      <td>286.33593163576757</td>\n",
              "      <td>0.5006065264451406</td>\n",
              "      <td>2.30190693339697</td>\n",
              "      <td>3.06352633036022</td>\n",
              "      <td>None</td>\n",
              "      <td>13.41106336843464</td>\n",
              "    </tr>\n",
              "    <tr>\n",
              "      <th>3</th>\n",
              "      <td>min</td>\n",
              "      <td>1.0</td>\n",
              "      <td>10.0</td>\n",
              "      <td>0</td>\n",
              "      <td>1.0</td>\n",
              "      <td>6.0</td>\n",
              "      <td>Afghanistan</td>\n",
              "      <td>40.0</td>\n",
              "    </tr>\n",
              "    <tr>\n",
              "      <th>4</th>\n",
              "      <td>max</td>\n",
              "      <td>60.0</td>\n",
              "      <td>1330.5</td>\n",
              "      <td>1</td>\n",
              "      <td>10.0</td>\n",
              "      <td>15.0</td>\n",
              "      <td>Zimbabwe</td>\n",
              "      <td>75.0</td>\n",
              "    </tr>\n",
              "  </tbody>\n",
              "</table>\n",
              "</div>"
            ],
            "text/plain": [
              "  summary Session_Connection_Time  ...     Location    WPM_Typing_Speed\n",
              "0   count                     334  ...          334                 334\n",
              "1    mean      30.008982035928145  ...         None  57.342395209580864\n",
              "2  stddev      14.088200614636158  ...         None   13.41106336843464\n",
              "3     min                     1.0  ...  Afghanistan                40.0\n",
              "4     max                    60.0  ...     Zimbabwe                75.0\n",
              "\n",
              "[5 rows x 8 columns]"
            ]
          },
          "metadata": {},
          "execution_count": 29
        }
      ]
    },
    {
      "cell_type": "code",
      "metadata": {
        "colab": {
          "base_uri": "https://localhost:8080/",
          "height": 206
        },
        "id": "WBPYKc5gYGNr",
        "outputId": "56951602-c4d8-4435-8d62-aa8c9df8cbdf"
      },
      "source": [
        "# estatística descritiva de um atributo específico\n",
        "df.select('Session_Connection_Time').describe().toPandas()"
      ],
      "execution_count": 30,
      "outputs": [
        {
          "output_type": "execute_result",
          "data": {
            "text/html": [
              "<div>\n",
              "<style scoped>\n",
              "    .dataframe tbody tr th:only-of-type {\n",
              "        vertical-align: middle;\n",
              "    }\n",
              "\n",
              "    .dataframe tbody tr th {\n",
              "        vertical-align: top;\n",
              "    }\n",
              "\n",
              "    .dataframe thead th {\n",
              "        text-align: right;\n",
              "    }\n",
              "</style>\n",
              "<table border=\"1\" class=\"dataframe\">\n",
              "  <thead>\n",
              "    <tr style=\"text-align: right;\">\n",
              "      <th></th>\n",
              "      <th>summary</th>\n",
              "      <th>Session_Connection_Time</th>\n",
              "    </tr>\n",
              "  </thead>\n",
              "  <tbody>\n",
              "    <tr>\n",
              "      <th>0</th>\n",
              "      <td>count</td>\n",
              "      <td>334</td>\n",
              "    </tr>\n",
              "    <tr>\n",
              "      <th>1</th>\n",
              "      <td>mean</td>\n",
              "      <td>30.008982035928145</td>\n",
              "    </tr>\n",
              "    <tr>\n",
              "      <th>2</th>\n",
              "      <td>stddev</td>\n",
              "      <td>14.088200614636158</td>\n",
              "    </tr>\n",
              "    <tr>\n",
              "      <th>3</th>\n",
              "      <td>min</td>\n",
              "      <td>1.0</td>\n",
              "    </tr>\n",
              "    <tr>\n",
              "      <th>4</th>\n",
              "      <td>max</td>\n",
              "      <td>60.0</td>\n",
              "    </tr>\n",
              "  </tbody>\n",
              "</table>\n",
              "</div>"
            ],
            "text/plain": [
              "  summary Session_Connection_Time\n",
              "0   count                     334\n",
              "1    mean      30.008982035928145\n",
              "2  stddev      14.088200614636158\n",
              "3     min                     1.0\n",
              "4     max                    60.0"
            ]
          },
          "metadata": {},
          "execution_count": 30
        }
      ]
    },
    {
      "cell_type": "code",
      "metadata": {
        "colab": {
          "base_uri": "https://localhost:8080/",
          "height": 143
        },
        "id": "2RXbQTGsYGK5",
        "outputId": "619a572d-d3cf-42fd-ddff-54246b22c9b0"
      },
      "source": [
        "# estatística descritiva de dois atributos específicos\n",
        "df.select('Session_Connection_Time', 'Pages_Corrupted')\\\n",
        "    .describe().toPandas().T"
      ],
      "execution_count": 31,
      "outputs": [
        {
          "output_type": "execute_result",
          "data": {
            "text/html": [
              "<div>\n",
              "<style scoped>\n",
              "    .dataframe tbody tr th:only-of-type {\n",
              "        vertical-align: middle;\n",
              "    }\n",
              "\n",
              "    .dataframe tbody tr th {\n",
              "        vertical-align: top;\n",
              "    }\n",
              "\n",
              "    .dataframe thead th {\n",
              "        text-align: right;\n",
              "    }\n",
              "</style>\n",
              "<table border=\"1\" class=\"dataframe\">\n",
              "  <thead>\n",
              "    <tr style=\"text-align: right;\">\n",
              "      <th></th>\n",
              "      <th>0</th>\n",
              "      <th>1</th>\n",
              "      <th>2</th>\n",
              "      <th>3</th>\n",
              "      <th>4</th>\n",
              "    </tr>\n",
              "  </thead>\n",
              "  <tbody>\n",
              "    <tr>\n",
              "      <th>summary</th>\n",
              "      <td>count</td>\n",
              "      <td>mean</td>\n",
              "      <td>stddev</td>\n",
              "      <td>min</td>\n",
              "      <td>max</td>\n",
              "    </tr>\n",
              "    <tr>\n",
              "      <th>Session_Connection_Time</th>\n",
              "      <td>334</td>\n",
              "      <td>30.008982035928145</td>\n",
              "      <td>14.088200614636158</td>\n",
              "      <td>1.0</td>\n",
              "      <td>60.0</td>\n",
              "    </tr>\n",
              "    <tr>\n",
              "      <th>Pages_Corrupted</th>\n",
              "      <td>334</td>\n",
              "      <td>10.838323353293413</td>\n",
              "      <td>3.06352633036022</td>\n",
              "      <td>6.0</td>\n",
              "      <td>15.0</td>\n",
              "    </tr>\n",
              "  </tbody>\n",
              "</table>\n",
              "</div>"
            ],
            "text/plain": [
              "                             0                   1  ...    3     4\n",
              "summary                  count                mean  ...  min   max\n",
              "Session_Connection_Time    334  30.008982035928145  ...  1.0  60.0\n",
              "Pages_Corrupted            334  10.838323353293413  ...  6.0  15.0\n",
              "\n",
              "[3 rows x 5 columns]"
            ]
          },
          "metadata": {},
          "execution_count": 31
        }
      ]
    },
    {
      "cell_type": "markdown",
      "metadata": {
        "id": "EIy0svTsqTlW"
      },
      "source": [
        "**Importando o `VectorAssembler` e criando os recursos necessários para aplicação do modelo**\n",
        "\n",
        "Devemos transformar os dados do tipo numérico usando a função `VectorAssembler` em uma única coluna onde cada linha do DataFrame contém um vetor de recurso. Para criar nossos clusters, precisamos selecionar colunas com base nas quais criaremos nossa coluna de recursos. São elas:\n",
        "\n",
        "- Session_Connection_Time\n",
        "- Bytes transferidos\n",
        "- Kali_Trace_Used\n",
        "- Servers_Corrupted\n",
        "- Pages_Corrupted\n",
        "- WPM_Typing_Speed"
      ]
    },
    {
      "cell_type": "code",
      "metadata": {
        "id": "TxEBuP7bmZ6K"
      },
      "source": [
        "# importando os algoritmos \"Vectors\" e \"VectorAssembler\"\n",
        "from pyspark.ml.linalg import Vectors\n",
        "from pyspark.ml.feature import VectorAssembler"
      ],
      "execution_count": 32,
      "outputs": []
    },
    {
      "cell_type": "code",
      "metadata": {
        "colab": {
          "base_uri": "https://localhost:8080/"
        },
        "id": "gYNvFMBtmZ3T",
        "outputId": "f002fb27-9603-4dc0-8cd8-b057ce37704c"
      },
      "source": [
        "# visualizando o nome dos atributos\n",
        "df.columns"
      ],
      "execution_count": 33,
      "outputs": [
        {
          "output_type": "execute_result",
          "data": {
            "text/plain": [
              "['Session_Connection_Time',\n",
              " 'Bytes Transferred',\n",
              " 'Kali_Trace_Used',\n",
              " 'Servers_Corrupted',\n",
              " 'Pages_Corrupted',\n",
              " 'Location',\n",
              " 'WPM_Typing_Speed']"
            ]
          },
          "metadata": {},
          "execution_count": 33
        }
      ]
    },
    {
      "cell_type": "code",
      "metadata": {
        "id": "JSYQt9KTmZ0i"
      },
      "source": [
        "# instanciando os atributos de interesse\n",
        "feat_cols = ['Session_Connection_Time',\n",
        "             'Bytes Transferred',\n",
        "             'Kali_Trace_Used',\n",
        "             'Servers_Corrupted',\n",
        "             'Pages_Corrupted',\n",
        "             'WPM_Typing_Speed']"
      ],
      "execution_count": 34,
      "outputs": []
    },
    {
      "cell_type": "code",
      "metadata": {
        "id": "WpaHJOdamZx6"
      },
      "source": [
        "# aplicando a transformação das instâncias das colunas de interesse\n",
        "vec_assembler = VectorAssembler(inputCols = feat_cols, \n",
        "                                outputCol = 'features')\n",
        "\n",
        "# instanciando o resultado em um dataframe\n",
        "final_df = vec_assembler.transform(df)"
      ],
      "execution_count": 35,
      "outputs": []
    },
    {
      "cell_type": "code",
      "metadata": {
        "colab": {
          "base_uri": "https://localhost:8080/"
        },
        "id": "impmrwRFmZu7",
        "outputId": "522d8f1b-cfee-4032-ccce-e58112130a37"
      },
      "source": [
        "# visualizando as 5 primeiras linhas do objeto dataframe criado\n",
        "final_df.show(5)"
      ],
      "execution_count": 36,
      "outputs": [
        {
          "output_type": "stream",
          "name": "stdout",
          "text": [
            "+-----------------------+-----------------+---------------+-----------------+---------------+--------------------+----------------+--------------------+\n",
            "|Session_Connection_Time|Bytes Transferred|Kali_Trace_Used|Servers_Corrupted|Pages_Corrupted|            Location|WPM_Typing_Speed|            features|\n",
            "+-----------------------+-----------------+---------------+-----------------+---------------+--------------------+----------------+--------------------+\n",
            "|                    8.0|           391.09|              1|             2.96|            7.0|            Slovenia|           72.37|[8.0,391.09,1.0,2...|\n",
            "|                   20.0|           720.99|              0|             3.04|            9.0|British Virgin Is...|           69.08|[20.0,720.99,0.0,...|\n",
            "|                   31.0|           356.32|              1|             3.71|            8.0|             Tokelau|           70.58|[31.0,356.32,1.0,...|\n",
            "|                    2.0|           228.08|              1|             2.48|            8.0|             Bolivia|            70.8|[2.0,228.08,1.0,2...|\n",
            "|                   20.0|            408.5|              0|             3.57|            8.0|                Iraq|           71.28|[20.0,408.5,0.0,3...|\n",
            "+-----------------------+-----------------+---------------+-----------------+---------------+--------------------+----------------+--------------------+\n",
            "only showing top 5 rows\n",
            "\n"
          ]
        }
      ]
    },
    {
      "cell_type": "markdown",
      "metadata": {
        "id": "KYuRQmXytJke"
      },
      "source": [
        "**Importando a biblioteca `StandardScaler`**\n",
        "\n",
        "A centralização e o escalonamento acontecem independentemente em cada recurso, computando as estatísticas relevantes nas amostras do conjunto de treinamento. A _média_ e o _desvio padrão_ são então armazenados para serem usados ​​em dados posteriores usando o método de transformação.\n",
        "\n",
        "A padronização de um conjunto de dados é um requisito comum para muitos estimadores de aprendizado de máquina, pois eles podem se comportar mal se o recurso individual não se parecer mais ou menos com dados normalmente distribuídos."
      ]
    },
    {
      "cell_type": "code",
      "metadata": {
        "id": "9zwcWeacmZsE"
      },
      "source": [
        "# importando a biblioteca para escalonamento dos dados\n",
        "from pyspark.ml.feature import StandardScaler"
      ],
      "execution_count": 37,
      "outputs": []
    },
    {
      "cell_type": "code",
      "metadata": {
        "id": "HabxwUkumZpC"
      },
      "source": [
        "# instanciando o algoritmo no objeto \"scaler\" e passando como argumentos:\n",
        "# de entrada o atributo \"features\" e de saída o \"scaled_feats\"\n",
        "scaler = StandardScaler(inputCol = 'features', \n",
        "                        outputCol = 'scaled_feats', \n",
        "                        withStd = True,               # desvio padrão \n",
        "                        withMean = False)             # média"
      ],
      "execution_count": 38,
      "outputs": []
    },
    {
      "cell_type": "markdown",
      "metadata": {
        "id": "Eb3p7Eeit4Dv"
      },
      "source": [
        "**Estatísticas de resumo de computação**\n",
        "\n",
        "Vamos calcular as estatísticas de resumo ajustando o StandardScaler. Em seguida, normalize cada recurso para ter um desvio padrão da unidade."
      ]
    },
    {
      "cell_type": "code",
      "metadata": {
        "id": "hk7WwSMZtHuu"
      },
      "source": [
        "# treinado o modelo para escalonar os dados do objeto \"final_df\"\n",
        "scaler_model = scaler.fit(final_df)\n",
        "\n",
        "# o resultado final armazenaremos no objeto \"cluster_final_data\"\n",
        "cluster_final_data = scaler_model.transform(final_df)"
      ],
      "execution_count": 39,
      "outputs": []
    },
    {
      "cell_type": "code",
      "metadata": {
        "colab": {
          "base_uri": "https://localhost:8080/"
        },
        "id": "wzdBkW5cxS4z",
        "outputId": "caacf379-59e6-4f5f-9d44-6c1921ceaf7d"
      },
      "source": [
        "# visualizando as  primeiras linhas do objeto criado acima\n",
        "cluster_final_data.show(3)"
      ],
      "execution_count": 40,
      "outputs": [
        {
          "output_type": "stream",
          "name": "stdout",
          "text": [
            "+-----------------------+-----------------+---------------+-----------------+---------------+--------------------+----------------+--------------------+--------------------+\n",
            "|Session_Connection_Time|Bytes Transferred|Kali_Trace_Used|Servers_Corrupted|Pages_Corrupted|            Location|WPM_Typing_Speed|            features|        scaled_feats|\n",
            "+-----------------------+-----------------+---------------+-----------------+---------------+--------------------+----------------+--------------------+--------------------+\n",
            "|                    8.0|           391.09|              1|             2.96|            7.0|            Slovenia|           72.37|[8.0,391.09,1.0,2...|[0.56785108466505...|\n",
            "|                   20.0|           720.99|              0|             3.04|            9.0|British Virgin Is...|           69.08|[20.0,720.99,0.0,...|[1.41962771166263...|\n",
            "|                   31.0|           356.32|              1|             3.71|            8.0|             Tokelau|           70.58|[31.0,356.32,1.0,...|[2.20042295307707...|\n",
            "+-----------------------+-----------------+---------------+-----------------+---------------+--------------------+----------------+--------------------+--------------------+\n",
            "only showing top 3 rows\n",
            "\n"
          ]
        }
      ]
    },
    {
      "cell_type": "markdown",
      "metadata": {
        "id": "1XOOcdBsuF_v"
      },
      "source": [
        "**Construindo o modelo KMeans e calculando a Silhueta com distância euclidiana quadrada**\n",
        "\n",
        "Precisamos primeiro construir nosso modelo. O número de clusters desejados é então passado para o algoritmo. Em seguida, calculamos a Silhueta com distância euclidiana quadrada. \n",
        "\n",
        "Usamos os valores derivados deles para descobrir se temos 2 ou 3 hackers."
      ]
    },
    {
      "cell_type": "markdown",
      "metadata": {
        "id": "5T0nfvjP3APM"
      },
      "source": [
        "**Importando o algortimo `KMeans`**\n"
      ]
    },
    {
      "cell_type": "code",
      "metadata": {
        "id": "iHjqlP25azje"
      },
      "source": [
        "# importando o algoritmo KMeans\n",
        "from pyspark.ml.clustering import KMeans"
      ],
      "execution_count": 41,
      "outputs": []
    },
    {
      "cell_type": "code",
      "metadata": {
        "id": "qyVrLmD1a2KO"
      },
      "source": [
        "# importando o algoritmo para visualização do score do modelo\n",
        "from pyspark.ml.evaluation import ClusteringEvaluator"
      ],
      "execution_count": 42,
      "outputs": []
    },
    {
      "cell_type": "code",
      "metadata": {
        "id": "QqjGyj2ya2IJ"
      },
      "source": [
        "# configurando o objeto avaliador\n",
        "eval = ClusteringEvaluator(predictionCol = 'prediction', \n",
        "                           featuresCol = 'scaled_feats', \n",
        "                           metricName = 'silhouette', \n",
        "                           distanceMeasure = 'squaredEuclidean')"
      ],
      "execution_count": 43,
      "outputs": []
    },
    {
      "cell_type": "code",
      "metadata": {
        "colab": {
          "base_uri": "https://localhost:8080/"
        },
        "id": "uYvauBbna2F-",
        "outputId": "5aad6810-7ca9-4ddc-983d-5a3c9a2727fa"
      },
      "source": [
        "# aplicando o modelo e visualiando o score para cada número de clusters\n",
        "silhouette_score = []\n",
        "\n",
        "print('''\n",
        "Sihouette scores - KMeans Clustering\n",
        "++++++++++++++++++++++++++++++++++++\n",
        "\\n\\tModel\\tScore\\t\n",
        "\\t=====\\t=====\\t''')\n",
        "\n",
        "for k in range(2, 11):\n",
        "    model_kmeans = KMeans(featuresCol='scaled_feats', k=k)\n",
        "    model_fit = model_kmeans.fit(cluster_final_data)\n",
        "    output = model_fit.transform(cluster_final_data)\n",
        "    score = eval.evaluate(output)\n",
        "    silhouette_score.append(score)\n",
        "    print(f'\\tK = {k}\\t{round(score, 2)}\\t')"
      ],
      "execution_count": 44,
      "outputs": [
        {
          "output_type": "stream",
          "name": "stdout",
          "text": [
            "\n",
            "Sihouette scores - KMeans Clustering\n",
            "++++++++++++++++++++++++++++++++++++\n",
            "\n",
            "\tModel\tScore\t\n",
            "\t=====\t=====\t\n",
            "\tK = 2\t0.82\t\n",
            "\tK = 3\t0.76\t\n",
            "\tK = 4\t0.72\t\n",
            "\tK = 5\t0.64\t\n",
            "\tK = 6\t0.53\t\n",
            "\tK = 7\t0.47\t\n",
            "\tK = 8\t0.48\t\n",
            "\tK = 9\t0.46\t\n",
            "\tK = 10\t0.47\t\n"
          ]
        }
      ]
    },
    {
      "cell_type": "markdown",
      "metadata": {
        "id": "NcdMx3u-eOR1"
      },
      "source": [
        "> Veja que, o modelo com `dois e três clusters` apresentaram maiores _scores_."
      ]
    },
    {
      "cell_type": "code",
      "metadata": {
        "id": "cAkQipRua2ED"
      },
      "source": [
        "# biblioteca para visualização gráfica\n",
        "import matplotlib.pyplot as plt"
      ],
      "execution_count": 45,
      "outputs": []
    },
    {
      "cell_type": "code",
      "metadata": {
        "colab": {
          "base_uri": "https://localhost:8080/",
          "height": 334
        },
        "id": "uUwW1OmBa2CR",
        "outputId": "09a138f2-efd3-4e5c-f999-1f79da497037"
      },
      "source": [
        "# visualizando graficamente o score em relação a quantidade de clusters\n",
        "fig, ax = plt.subplots(1, 1, figsize = [9, 5])\n",
        "ax.plot(range(2, 11), silhouette_score)\n",
        "ax.set_xlabel('K')\n",
        "ax.set_ylabel('Score');"
      ],
      "execution_count": 46,
      "outputs": [
        {
          "output_type": "display_data",
          "data": {
            "image/png": "[encoded data removed]",
            "text/plain": [
              "<Figure size 648x360 with 1 Axes>"
            ]
          },
          "metadata": {
            "needs_background": "light"
          }
        }
      ]
    },
    {
      "cell_type": "markdown",
      "metadata": {
        "id": "brA8A5jb7W8t"
      },
      "source": [
        "**Verificação final do número de hackers**\n",
        "\n",
        "Vamos descobrir quantos hackers estiveram envolvidos com base no número de hacks feitos."
      ]
    },
    {
      "cell_type": "code",
      "metadata": {
        "colab": {
          "base_uri": "https://localhost:8080/"
        },
        "id": "OnQwoUX26scp",
        "outputId": "c5e997b9-a290-41c7-829d-2ee5e9e78ef8"
      },
      "source": [
        "# modelo com 3 clusters\n",
        "model_kmeans3 = KMeans(featuresCol='scaled_feats', k=3)\n",
        "model_k3 = model_kmeans3.fit(cluster_final_data)\n",
        "model_k3.transform(cluster_final_data).groupBy('prediction').count().show()"
      ],
      "execution_count": 47,
      "outputs": [
        {
          "output_type": "stream",
          "name": "stdout",
          "text": [
            "+----------+-----+\n",
            "|prediction|count|\n",
            "+----------+-----+\n",
            "|         1|  167|\n",
            "|         2|   83|\n",
            "|         0|   84|\n",
            "+----------+-----+\n",
            "\n"
          ]
        }
      ]
    },
    {
      "cell_type": "code",
      "metadata": {
        "colab": {
          "base_uri": "https://localhost:8080/"
        },
        "id": "LWKGoPbf7qAW",
        "outputId": "cc5376c6-d0c9-45f9-f19c-5d4347493875"
      },
      "source": [
        "# modelo com 2 clusters\n",
        "model_kmeans2 = KMeans(featuresCol='scaled_feats', k=2)\n",
        "model_k2 = model_kmeans2.fit(cluster_final_data)\n",
        "model_k2.transform(cluster_final_data).groupBy('prediction').count().show()"
      ],
      "execution_count": 48,
      "outputs": [
        {
          "output_type": "stream",
          "name": "stdout",
          "text": [
            "+----------+-----+\n",
            "|prediction|count|\n",
            "+----------+-----+\n",
            "|         1|  167|\n",
            "|         0|  167|\n",
            "+----------+-----+\n",
            "\n"
          ]
        }
      ]
    },
    {
      "cell_type": "markdown",
      "metadata": {
        "id": "xdhT2oHNDopi"
      },
      "source": [
        "> Aqui podemos ver que para 3 hackers, nosso modelo produziu três quantidades distintas de hacks. Isso não é possível porque os hackers geralmente dividem as tarefas entre eles. \n",
        "\n",
        "Em nosso modelo onde K = 2, obtemos 167 número de hacks para ambos os hackers. Portanto, havia apenas 2 hackers envolvidos."
      ]
    },
    {
      "cell_type": "code",
      "metadata": {
        "id": "tK3uv86ItHr_"
      },
      "source": [
        "# kmeans3 = KMeans(featuresCol='scaledFeatures', k=3)\n",
        "# kmeans2 = KMeans(featuresCol='scaledFeatures', k=2)"
      ],
      "execution_count": null,
      "outputs": []
    },
    {
      "cell_type": "code",
      "metadata": {
        "colab": {
          "base_uri": "https://localhost:8080/"
        },
        "id": "Cd0MNo1hyNuG",
        "outputId": "53f6afe7-e0f3-41cb-ac7e-727e864952dd"
      },
      "source": [
        "# treinando o modelo com k=2\n",
        "kmeans = KMeans().setK(2).setSeed(1)\n",
        "model = kmeans.fit(cluster_final_data)\n",
        "\n",
        "# realizando as predições com o modelo após o seu treinamento\n",
        "predictions = model.transform(cluster_final_data)\n",
        "\n",
        "# avaliando o agrupamento  e calculando a pontuação do \"Silhouette\"\n",
        "evaluator = ClusteringEvaluator()\n",
        "\n",
        "silhouette = evaluator.evaluate(predictions)\n",
        "print('Silhouette with squared euclidean distance = ' + str(silhouette))\n",
        "\n",
        "# visualizando os resultados\n",
        "centers = model.clusterCenters()\n",
        "print('\\nCluster Centers [K=2]: ')\n",
        "for center in centers:\n",
        "    print(center)"
      ],
      "execution_count": 49,
      "outputs": [
        {
          "output_type": "stream",
          "name": "stdout",
          "text": [
            "Silhouette with squared euclidean distance = 0.8048521975748283\n",
            "\n",
            "Cluster Centers [K=2]: \n",
            "[4.00060976e+01 8.59157866e+02 5.36585366e-01 6.92634146e+00\n",
            " 1.32134146e+01 4.68612195e+01]\n",
            "[ 20.36470588 364.22370588   0.48823529   3.64952941   8.54705882\n",
            "  67.45364706]\n"
          ]
        }
      ]
    },
    {
      "cell_type": "code",
      "metadata": {
        "id": "7hRvzIYDyNU2",
        "colab": {
          "base_uri": "https://localhost:8080/"
        },
        "outputId": "7319626a-3938-4433-e330-2308a3e00d3e"
      },
      "source": [
        "# treinando o modelo com k=3\n",
        "kmeans = KMeans().setK(3).setSeed(1)\n",
        "model = kmeans.fit(cluster_final_data)\n",
        "\n",
        "# realizando as predições com o modelo após o seu treinamento\n",
        "predictions = model.transform(cluster_final_data)\n",
        "\n",
        "# avaliando o agrupamento  e calculando a pontuação do \"Silhouette\"\n",
        "evaluator = ClusteringEvaluator()\n",
        "\n",
        "silhouette = evaluator.evaluate(predictions)\n",
        "print('Silhouette with squared euclidean distance = ' + str(silhouette))\n",
        "\n",
        "# visualizando os resultados\n",
        "centers = model.clusterCenters()\n",
        "print('\\nCluster Centers [K=3]: ')\n",
        "for center in centers:\n",
        "    print(center)"
      ],
      "execution_count": 50,
      "outputs": [
        {
          "output_type": "stream",
          "name": "stdout",
          "text": [
            "Silhouette with squared euclidean distance = 0.6958546319645178\n",
            "\n",
            "Cluster Centers [K=3]: \n",
            "[2.86210526e+01 5.91309684e+02 5.47368421e-01 5.12989474e+00\n",
            " 1.04315789e+01 5.86424211e+01]\n",
            "[ 18.27192982 286.43087719   0.45614035   3.16122807   8.01754386\n",
            "  70.10263158]\n",
            "[4.1768000e+01 9.1193904e+02 5.3600000e-01 7.2689600e+00 1.3720000e+01\n",
            " 4.4717040e+01]\n"
          ]
        }
      ]
    },
    {
      "cell_type": "code",
      "metadata": {
        "id": "4iBJsIj1ADIF"
      },
      "source": [
        "# kmeans_k2 = KMeans().setK(2).setSeed(1)\n",
        "# model_k2 = kmeans_k2.fit(cluster_final_data.select('features'))\n",
        "# predictions = model_k2.transform(cluster_final_data.select('features'))\n",
        "\n",
        "# evaluator = ClusteringEvaluator()\n",
        "# silhouette = evaluator.evaluate(predictions)\n",
        "# print('Silhouette with squared euclidean distance = ' + str(silhouette))\n",
        "\n",
        "# centers = model.clusterCenters()\n",
        "# print('\\nCluster Centers [K=2]: ')\n",
        "\n",
        "# for center in centers:\n",
        "#     print(center)"
      ],
      "execution_count": null,
      "outputs": []
    },
    {
      "cell_type": "code",
      "metadata": {
        "id": "HfjTZ0fh_hNa"
      },
      "source": [
        "# kmeans_k3 = KMeans().setK(3).setSeed(1)\n",
        "# model_k3 = kmeans_k3.fit(cluster_final_data.select('features'))\n",
        "# predictions = model_k3.transform(cluster_final_data.select('features'))\n",
        "\n",
        "# evaluator = ClusteringEvaluator()\n",
        "# silhouette = evaluator.evaluate(predictions)\n",
        "# print('Silhouette with squared euclidean distance = ' + str(silhouette))\n",
        "\n",
        "# centers = model.clusterCenters()\n",
        "# print('\\nCluster Centers [K=3]: ')\n",
        "\n",
        "# for center in centers:\n",
        "#     print(center)"
      ],
      "execution_count": null,
      "outputs": []
    },
    {
      "cell_type": "markdown",
      "metadata": {
        "id": "-pLV_NnvEPZe"
      },
      "source": [
        "## **LogisticRegression**"
      ]
    },
    {
      "cell_type": "markdown",
      "metadata": {
        "id": "5NhQB-HvEXgW"
      },
      "source": [
        "**Previsão de rotatividade do cliente com PySpark MLlib**\n",
        "\n",
        "A _previsão do churn_ é um grande negócio. Ele minimiza a deserção do cliente ao prever quais clientes provavelmente cancelarão a assinatura de um serviço. Embora originalmente usado no setor de telecomunicações, tornou-se uma prática comum em bancos, ISPs, seguradoras e outros segmentos.\n",
        "\n",
        "O processo de previsão é fortemente orientado por dados e frequentemente utiliza técnicas avançadas de aprendizado de máquina. Aqui, veremos quais tipos de dados de cliente são normalmente usados, faremos algumas análises preliminares dos dados e geraremos modelos de previsão de rotatividade - tudo com o `PySpark` e suas estruturas de aprendizado de máquina."
      ]
    },
    {
      "cell_type": "markdown",
      "metadata": {
        "id": "7gCCu9QIFKri"
      },
      "source": [
        "- **Descricão do problema:**\n",
        "\n",
        " Uma agência de marketing tem muitos clientes que usam seus serviços para produzir anúncios para os sites de clientes/consumidores. Eles perceberam que há uma grande rotatividade de clientes. \n",
        " \n",
        " Eles basicamente atribuem gerentes de conta de forma aleatória agora, mas querem que você crie um modelo de aprendizado de máquina que ajudará a prever quais clientes abandonarão (pararão de comprar seu serviço) para que possam atribuir corretamente os clientes com maior risco a dispensar um gerente de conta. \n",
        " \n",
        " Felizmente, eles têm alguns dados históricos."
      ]
    },
    {
      "cell_type": "markdown",
      "metadata": {
        "id": "dAf12R94GmVn"
      },
      "source": [
        "**Importando os dados de treinamento e teste**\n",
        "\n",
        "Importando os dados de treinamento e os dados de teste (dados de entrada para fins de teste)."
      ]
    },
    {
      "cell_type": "code",
      "metadata": {
        "id": "yZ8wSlkftHdK",
        "colab": {
          "base_uri": "https://localhost:8080/"
        },
        "outputId": "d26c0f0d-430c-409f-c6d8-e1766261364d"
      },
      "source": [
        "# !wget 'https://raw.githubusercontent.com/treselle-systems/customer_churn_analysis/master/WA_Fn-UseC_-Telco-Customer-Churn.csv'\n",
        "# !wget 'https://raw.githubusercontent.com/albayraktaroglu/Datasets/master/churn.csv'\n",
        "!wget 'https://raw.githubusercontent.com/FGalvao77/datasets/main/customer_churn.csv'"
      ],
      "execution_count": 51,
      "outputs": [
        {
          "output_type": "stream",
          "name": "stdout",
          "text": [
            "--2021-12-04 22:06:37--  https://raw.githubusercontent.com/FGalvao77/datasets/main/customer_churn.csv\n",
            "Resolving raw.githubusercontent.com (raw.githubusercontent.com)... 185.199.108.133, 185.199.111.133, 185.199.109.133, ...\n",
            "Connecting to raw.githubusercontent.com (raw.githubusercontent.com)|185.199.108.133|:443... connected.\n",
            "HTTP request sent, awaiting response... 200 OK\n",
            "Length: 115479 (113K) [text/plain]\n",
            "Saving to: ‘customer_churn.csv’\n",
            "\n",
            "\rcustomer_churn.csv    0%[                    ]       0  --.-KB/s               \rcustomer_churn.csv  100%[===================>] 112.77K  --.-KB/s    in 0.02s   \n",
            "\n",
            "2021-12-04 22:06:37 (7.10 MB/s) - ‘customer_churn.csv’ saved [115479/115479]\n",
            "\n"
          ]
        }
      ]
    },
    {
      "cell_type": "code",
      "metadata": {
        "colab": {
          "base_uri": "https://localhost:8080/"
        },
        "id": "NNR5nIBMfLEO",
        "outputId": "db9bc517-4450-415d-95cf-4a638064ef2b"
      },
      "source": [
        "# visualizando o diretório principal\n",
        "%ls"
      ],
      "execution_count": 52,
      "outputs": [
        {
          "output_type": "stream",
          "name": "stdout",
          "text": [
            "customer_churn.csv  \u001b[0m\u001b[01;34msample_data\u001b[0m/                spark-3.1.2-bin-hadoop3.2.tgz\n",
            "hack_data.csv       \u001b[01;34mspark-3.1.2-bin-hadoop3.2\u001b[0m/\n"
          ]
        }
      ]
    },
    {
      "cell_type": "code",
      "metadata": {
        "id": "lCtpC42TtHa2",
        "colab": {
          "base_uri": "https://localhost:8080/"
        },
        "outputId": "199e58a9-4c52-49cc-b79b-cb3cb3100dff"
      },
      "source": [
        "# visualizando o conjunto de dados\n",
        "# !head WA_Fn-UseC_-Telco-Customer-Churn.csv\n",
        "# !head churn.csv\n",
        "!head customer_churn.csv"
      ],
      "execution_count": 53,
      "outputs": [
        {
          "output_type": "stream",
          "name": "stdout",
          "text": [
            "Names,Age,Total_Purchase,Account_Manager,Years,Num_Sites,Onboard_date,Location,Company,Churn\n",
            "Cameron Williams,42.0,11066.8,0,7.22,8.0,2013-08-30 07:00:40,\"10265 Elizabeth Mission Barkerburgh, AK 89518\",Harvey LLC,1\n",
            "Kevin Mueller,41.0,11916.22,0,6.5,11.0,2013-08-13 00:38:46,\"6157 Frank Gardens Suite 019 Carloshaven, RI 17756\",Wilson PLC,1\n",
            "Eric Lozano,38.0,12884.75,0,6.67,12.0,2016-06-29 06:20:07,\"1331 Keith Court Alyssahaven, DE 90114\",\"Miller, Johnson and Wallace\",1\n",
            "Phillip White,42.0,8010.76,0,6.71,10.0,2014-04-22 12:43:12,\"13120 Daniel Mount Angelabury, WY 30645-4695\",Smith Inc,1\n",
            "Cynthia Norton,37.0,9191.58,0,5.56,9.0,2016-01-19 15:31:15,\"765 Tricia Row Karenshire, MH 71730\",Love-Jones,1\n",
            "Jessica Williams,48.0,10356.02,0,5.12,8.0,2009-03-03 23:13:37,\"6187 Olson Mountains East Vincentborough, PR 74359\",Kelly-Warren,1\n",
            "Eric Butler,44.0,11331.58,1,5.23,11.0,2016-12-05 03:35:43,\"4846 Savannah Road West Justin, IA 87713-3460\",Reynolds-Sheppard,1\n",
            "Zachary Walsh,32.0,9885.12,1,6.92,9.0,2006-03-09 14:50:20,\"25271 Roy Expressway Suite 147 Brownport, FM 59852-6150\",Singh-Cole,1\n",
            "Ashlee Carr,43.0,14062.6,1,5.46,11.0,2011-09-29 05:47:23,\"3725 Caroline Stravenue South Christineview, MA 82059\",Lopez PLC,1\n"
          ]
        }
      ]
    },
    {
      "cell_type": "code",
      "metadata": {
        "id": "OgBAN9E9Ipxr"
      },
      "source": [
        "# PATH = '/content/WA_Fn-UseC_-Telco-Customer-Churn.csv'\n",
        "# PATH = '/content/churn.csv'\n",
        "PATH = '/content/customer_churn.csv'"
      ],
      "execution_count": 54,
      "outputs": []
    },
    {
      "cell_type": "code",
      "metadata": {
        "id": "Yj9O0wsFtHYO"
      },
      "source": [
        "# carregando o conjunto de dados e instanciando no objeto \"df\"\n",
        "df = spark.read.csv(PATH, \n",
        "                    header = True, \n",
        "                    inferSchema = True)"
      ],
      "execution_count": 55,
      "outputs": []
    },
    {
      "cell_type": "markdown",
      "metadata": {
        "id": "e2X8MTEqfhHR"
      },
      "source": [
        "**Esquema de Dados**"
      ]
    },
    {
      "cell_type": "code",
      "metadata": {
        "id": "-5f2yFr7tHSm",
        "colab": {
          "base_uri": "https://localhost:8080/"
        },
        "outputId": "d95ef62b-f020-47fe-e99e-391e171a04e7"
      },
      "source": [
        "# visualizando o tipo de dado em cada atributo\n",
        "df.printSchema()"
      ],
      "execution_count": 56,
      "outputs": [
        {
          "output_type": "stream",
          "name": "stdout",
          "text": [
            "root\n",
            " |-- Names: string (nullable = true)\n",
            " |-- Age: double (nullable = true)\n",
            " |-- Total_Purchase: double (nullable = true)\n",
            " |-- Account_Manager: integer (nullable = true)\n",
            " |-- Years: double (nullable = true)\n",
            " |-- Num_Sites: double (nullable = true)\n",
            " |-- Onboard_date: string (nullable = true)\n",
            " |-- Location: string (nullable = true)\n",
            " |-- Company: string (nullable = true)\n",
            " |-- Churn: integer (nullable = true)\n",
            "\n"
          ]
        }
      ]
    },
    {
      "cell_type": "markdown",
      "metadata": {
        "id": "0J-yF9bIkzVi"
      },
      "source": [
        "> O atributo `Churn` é a nossa variável alvo."
      ]
    },
    {
      "cell_type": "code",
      "metadata": {
        "colab": {
          "base_uri": "https://localhost:8080/"
        },
        "id": "X_EjV2XpIyBX",
        "outputId": "dcabac90-5a11-4752-ce09-a5469b1d5e59"
      },
      "source": [
        "# visualizando as 5 primeiras linhas do conjunto de dados\n",
        "df.show(5)"
      ],
      "execution_count": 57,
      "outputs": [
        {
          "output_type": "stream",
          "name": "stdout",
          "text": [
            "+----------------+----+--------------+---------------+-----+---------+-------------------+--------------------+--------------------+-----+\n",
            "|           Names| Age|Total_Purchase|Account_Manager|Years|Num_Sites|       Onboard_date|            Location|             Company|Churn|\n",
            "+----------------+----+--------------+---------------+-----+---------+-------------------+--------------------+--------------------+-----+\n",
            "|Cameron Williams|42.0|       11066.8|              0| 7.22|      8.0|2013-08-30 07:00:40|10265 Elizabeth M...|          Harvey LLC|    1|\n",
            "|   Kevin Mueller|41.0|      11916.22|              0|  6.5|     11.0|2013-08-13 00:38:46|6157 Frank Garden...|          Wilson PLC|    1|\n",
            "|     Eric Lozano|38.0|      12884.75|              0| 6.67|     12.0|2016-06-29 06:20:07|1331 Keith Court ...|Miller, Johnson a...|    1|\n",
            "|   Phillip White|42.0|       8010.76|              0| 6.71|     10.0|2014-04-22 12:43:12|13120 Daniel Moun...|           Smith Inc|    1|\n",
            "|  Cynthia Norton|37.0|       9191.58|              0| 5.56|      9.0|2016-01-19 15:31:15|765 Tricia Row Ka...|          Love-Jones|    1|\n",
            "+----------------+----+--------------+---------------+-----+---------+-------------------+--------------------+--------------------+-----+\n",
            "only showing top 5 rows\n",
            "\n"
          ]
        }
      ]
    },
    {
      "cell_type": "code",
      "metadata": {
        "colab": {
          "base_uri": "https://localhost:8080/",
          "height": 206
        },
        "id": "ClEVtegdK7U-",
        "outputId": "ca6d738a-27cd-48ad-ec0c-ed8127256f25"
      },
      "source": [
        "# visualizando conforme a tabela do \"Pandas\"\n",
        "df.toPandas().head()"
      ],
      "execution_count": 58,
      "outputs": [
        {
          "output_type": "execute_result",
          "data": {
            "text/html": [
              "<div>\n",
              "<style scoped>\n",
              "    .dataframe tbody tr th:only-of-type {\n",
              "        vertical-align: middle;\n",
              "    }\n",
              "\n",
              "    .dataframe tbody tr th {\n",
              "        vertical-align: top;\n",
              "    }\n",
              "\n",
              "    .dataframe thead th {\n",
              "        text-align: right;\n",
              "    }\n",
              "</style>\n",
              "<table border=\"1\" class=\"dataframe\">\n",
              "  <thead>\n",
              "    <tr style=\"text-align: right;\">\n",
              "      <th></th>\n",
              "      <th>Names</th>\n",
              "      <th>Age</th>\n",
              "      <th>Total_Purchase</th>\n",
              "      <th>Account_Manager</th>\n",
              "      <th>Years</th>\n",
              "      <th>Num_Sites</th>\n",
              "      <th>Onboard_date</th>\n",
              "      <th>Location</th>\n",
              "      <th>Company</th>\n",
              "      <th>Churn</th>\n",
              "    </tr>\n",
              "  </thead>\n",
              "  <tbody>\n",
              "    <tr>\n",
              "      <th>0</th>\n",
              "      <td>Cameron Williams</td>\n",
              "      <td>42.0</td>\n",
              "      <td>11066.80</td>\n",
              "      <td>0</td>\n",
              "      <td>7.22</td>\n",
              "      <td>8.0</td>\n",
              "      <td>2013-08-30 07:00:40</td>\n",
              "      <td>10265 Elizabeth Mission Barkerburgh, AK 89518</td>\n",
              "      <td>Harvey LLC</td>\n",
              "      <td>1</td>\n",
              "    </tr>\n",
              "    <tr>\n",
              "      <th>1</th>\n",
              "      <td>Kevin Mueller</td>\n",
              "      <td>41.0</td>\n",
              "      <td>11916.22</td>\n",
              "      <td>0</td>\n",
              "      <td>6.50</td>\n",
              "      <td>11.0</td>\n",
              "      <td>2013-08-13 00:38:46</td>\n",
              "      <td>6157 Frank Gardens Suite 019 Carloshaven, RI 1...</td>\n",
              "      <td>Wilson PLC</td>\n",
              "      <td>1</td>\n",
              "    </tr>\n",
              "    <tr>\n",
              "      <th>2</th>\n",
              "      <td>Eric Lozano</td>\n",
              "      <td>38.0</td>\n",
              "      <td>12884.75</td>\n",
              "      <td>0</td>\n",
              "      <td>6.67</td>\n",
              "      <td>12.0</td>\n",
              "      <td>2016-06-29 06:20:07</td>\n",
              "      <td>1331 Keith Court Alyssahaven, DE 90114</td>\n",
              "      <td>Miller, Johnson and Wallace</td>\n",
              "      <td>1</td>\n",
              "    </tr>\n",
              "    <tr>\n",
              "      <th>3</th>\n",
              "      <td>Phillip White</td>\n",
              "      <td>42.0</td>\n",
              "      <td>8010.76</td>\n",
              "      <td>0</td>\n",
              "      <td>6.71</td>\n",
              "      <td>10.0</td>\n",
              "      <td>2014-04-22 12:43:12</td>\n",
              "      <td>13120 Daniel Mount Angelabury, WY 30645-4695</td>\n",
              "      <td>Smith Inc</td>\n",
              "      <td>1</td>\n",
              "    </tr>\n",
              "    <tr>\n",
              "      <th>4</th>\n",
              "      <td>Cynthia Norton</td>\n",
              "      <td>37.0</td>\n",
              "      <td>9191.58</td>\n",
              "      <td>0</td>\n",
              "      <td>5.56</td>\n",
              "      <td>9.0</td>\n",
              "      <td>2016-01-19 15:31:15</td>\n",
              "      <td>765 Tricia Row Karenshire, MH 71730</td>\n",
              "      <td>Love-Jones</td>\n",
              "      <td>1</td>\n",
              "    </tr>\n",
              "  </tbody>\n",
              "</table>\n",
              "</div>"
            ],
            "text/plain": [
              "              Names   Age  ...                      Company  Churn\n",
              "0  Cameron Williams  42.0  ...                   Harvey LLC      1\n",
              "1     Kevin Mueller  41.0  ...                   Wilson PLC      1\n",
              "2       Eric Lozano  38.0  ...  Miller, Johnson and Wallace      1\n",
              "3     Phillip White  42.0  ...                    Smith Inc      1\n",
              "4    Cynthia Norton  37.0  ...                   Love-Jones      1\n",
              "\n",
              "[5 rows x 10 columns]"
            ]
          },
          "metadata": {},
          "execution_count": 58
        }
      ]
    },
    {
      "cell_type": "code",
      "metadata": {
        "colab": {
          "base_uri": "https://localhost:8080/"
        },
        "id": "H4aNAfjAIx_n",
        "outputId": "2f5557b3-d9f0-40ad-d24e-6a0c81e41aff"
      },
      "source": [
        "# contabilizando a quantidade observações presente no conjunto de dados\n",
        "df.count()"
      ],
      "execution_count": 59,
      "outputs": [
        {
          "output_type": "execute_result",
          "data": {
            "text/plain": [
              "900"
            ]
          },
          "metadata": {},
          "execution_count": 59
        }
      ]
    },
    {
      "cell_type": "code",
      "metadata": {
        "colab": {
          "base_uri": "https://localhost:8080/"
        },
        "id": "EDVKHHHgIb4m",
        "outputId": "6f7666b8-e85a-4ecd-b7c1-7ac0f6cb6e56"
      },
      "source": [
        "# estatística descritivas do conjunto de dados\n",
        "df.describe().show()"
      ],
      "execution_count": 60,
      "outputs": [
        {
          "output_type": "stream",
          "name": "stdout",
          "text": [
            "+-------+-------------+-----------------+-----------------+------------------+-----------------+------------------+-------------------+--------------------+--------------------+-------------------+\n",
            "|summary|        Names|              Age|   Total_Purchase|   Account_Manager|            Years|         Num_Sites|       Onboard_date|            Location|             Company|              Churn|\n",
            "+-------+-------------+-----------------+-----------------+------------------+-----------------+------------------+-------------------+--------------------+--------------------+-------------------+\n",
            "|  count|          900|              900|              900|               900|              900|               900|                900|                 900|                 900|                900|\n",
            "|   mean|         null|41.81666666666667|10062.82403333334|0.4811111111111111| 5.27315555555555| 8.587777777777777|               null|                null|                null|0.16666666666666666|\n",
            "| stddev|         null|6.127560416916251|2408.644531858096|0.4999208935073339|1.274449013194616|1.7648355920350969|               null|                null|                null| 0.3728852122772358|\n",
            "|    min|   Aaron King|             22.0|            100.0|                 0|              1.0|               3.0|2006-01-02 04:16:13|00103 Jeffrey Cre...|     Abbott-Thompson|                  0|\n",
            "|    max|Zachary Walsh|             65.0|         18026.01|                 1|             9.15|              14.0|2016-12-28 04:07:38|Unit 9800 Box 287...|Zuniga, Clark and...|                  1|\n",
            "+-------+-------------+-----------------+-----------------+------------------+-----------------+------------------+-------------------+--------------------+--------------------+-------------------+\n",
            "\n"
          ]
        }
      ]
    },
    {
      "cell_type": "code",
      "metadata": {
        "colab": {
          "base_uri": "https://localhost:8080/",
          "height": 394
        },
        "id": "Hwkh6NzJIlph",
        "outputId": "6701f5b1-cc94-4daa-a89e-1f1795521a14"
      },
      "source": [
        "# utilizando a função \".toPandas()\" e realizando a tranposição da matriz com a função \"transpose()\"\n",
        "df.describe().toPandas().transpose()"
      ],
      "execution_count": null,
      "outputs": [
        {
          "output_type": "execute_result",
          "data": {
            "text/html": [
              "<div>\n",
              "<style scoped>\n",
              "    .dataframe tbody tr th:only-of-type {\n",
              "        vertical-align: middle;\n",
              "    }\n",
              "\n",
              "    .dataframe tbody tr th {\n",
              "        vertical-align: top;\n",
              "    }\n",
              "\n",
              "    .dataframe thead th {\n",
              "        text-align: right;\n",
              "    }\n",
              "</style>\n",
              "<table border=\"1\" class=\"dataframe\">\n",
              "  <thead>\n",
              "    <tr style=\"text-align: right;\">\n",
              "      <th></th>\n",
              "      <th>0</th>\n",
              "      <th>1</th>\n",
              "      <th>2</th>\n",
              "      <th>3</th>\n",
              "      <th>4</th>\n",
              "    </tr>\n",
              "  </thead>\n",
              "  <tbody>\n",
              "    <tr>\n",
              "      <th>summary</th>\n",
              "      <td>count</td>\n",
              "      <td>mean</td>\n",
              "      <td>stddev</td>\n",
              "      <td>min</td>\n",
              "      <td>max</td>\n",
              "    </tr>\n",
              "    <tr>\n",
              "      <th>Names</th>\n",
              "      <td>900</td>\n",
              "      <td>None</td>\n",
              "      <td>None</td>\n",
              "      <td>Aaron King</td>\n",
              "      <td>Zachary Walsh</td>\n",
              "    </tr>\n",
              "    <tr>\n",
              "      <th>Age</th>\n",
              "      <td>900</td>\n",
              "      <td>41.81666666666667</td>\n",
              "      <td>6.127560416916251</td>\n",
              "      <td>22.0</td>\n",
              "      <td>65.0</td>\n",
              "    </tr>\n",
              "    <tr>\n",
              "      <th>Total_Purchase</th>\n",
              "      <td>900</td>\n",
              "      <td>10062.82403333334</td>\n",
              "      <td>2408.644531858096</td>\n",
              "      <td>100.0</td>\n",
              "      <td>18026.01</td>\n",
              "    </tr>\n",
              "    <tr>\n",
              "      <th>Account_Manager</th>\n",
              "      <td>900</td>\n",
              "      <td>0.4811111111111111</td>\n",
              "      <td>0.4999208935073339</td>\n",
              "      <td>0</td>\n",
              "      <td>1</td>\n",
              "    </tr>\n",
              "    <tr>\n",
              "      <th>Years</th>\n",
              "      <td>900</td>\n",
              "      <td>5.27315555555555</td>\n",
              "      <td>1.274449013194616</td>\n",
              "      <td>1.0</td>\n",
              "      <td>9.15</td>\n",
              "    </tr>\n",
              "    <tr>\n",
              "      <th>Num_Sites</th>\n",
              "      <td>900</td>\n",
              "      <td>8.587777777777777</td>\n",
              "      <td>1.7648355920350969</td>\n",
              "      <td>3.0</td>\n",
              "      <td>14.0</td>\n",
              "    </tr>\n",
              "    <tr>\n",
              "      <th>Onboard_date</th>\n",
              "      <td>900</td>\n",
              "      <td>None</td>\n",
              "      <td>None</td>\n",
              "      <td>2006-01-02 04:16:13</td>\n",
              "      <td>2016-12-28 04:07:38</td>\n",
              "    </tr>\n",
              "    <tr>\n",
              "      <th>Location</th>\n",
              "      <td>900</td>\n",
              "      <td>None</td>\n",
              "      <td>None</td>\n",
              "      <td>00103 Jeffrey Crest Apt. 205 Padillaville, IA ...</td>\n",
              "      <td>Unit 9800 Box 2878 DPO AA 75157</td>\n",
              "    </tr>\n",
              "    <tr>\n",
              "      <th>Company</th>\n",
              "      <td>900</td>\n",
              "      <td>None</td>\n",
              "      <td>None</td>\n",
              "      <td>Abbott-Thompson</td>\n",
              "      <td>Zuniga, Clark and Shaffer</td>\n",
              "    </tr>\n",
              "    <tr>\n",
              "      <th>Churn</th>\n",
              "      <td>900</td>\n",
              "      <td>0.16666666666666666</td>\n",
              "      <td>0.3728852122772358</td>\n",
              "      <td>0</td>\n",
              "      <td>1</td>\n",
              "    </tr>\n",
              "  </tbody>\n",
              "</table>\n",
              "</div>"
            ],
            "text/plain": [
              "                     0  ...                                4\n",
              "summary          count  ...                              max\n",
              "Names              900  ...                    Zachary Walsh\n",
              "Age                900  ...                             65.0\n",
              "Total_Purchase     900  ...                         18026.01\n",
              "Account_Manager    900  ...                                1\n",
              "Years              900  ...                             9.15\n",
              "Num_Sites          900  ...                             14.0\n",
              "Onboard_date       900  ...              2016-12-28 04:07:38\n",
              "Location           900  ...  Unit 9800 Box 2878 DPO AA 75157\n",
              "Company            900  ...        Zuniga, Clark and Shaffer\n",
              "Churn              900  ...                                1\n",
              "\n",
              "[11 rows x 5 columns]"
            ]
          },
          "metadata": {},
          "execution_count": 88
        }
      ]
    },
    {
      "cell_type": "code",
      "metadata": {
        "id": "qleeddTwWkQM"
      },
      "source": [
        "# dividindo o conjunto de dados em dados para modelagem e dados para teste\n",
        "data_modeling, test_data = df.randomSplit([0.7,0.3], seed=42) "
      ],
      "execution_count": 77,
      "outputs": []
    },
    {
      "cell_type": "code",
      "metadata": {
        "colab": {
          "base_uri": "https://localhost:8080/"
        },
        "id": "O3BR5tzLWkNV",
        "outputId": "0f5a758c-5ca0-45b8-a034-38c896b3194e"
      },
      "source": [
        "# visualizando a quantidade de instâncias em cada novo objeto\n",
        "data_modeling.count(), test_data.count()"
      ],
      "execution_count": 78,
      "outputs": [
        {
          "output_type": "execute_result",
          "data": {
            "text/plain": [
              "(667, 233)"
            ]
          },
          "metadata": {},
          "execution_count": 78
        }
      ]
    },
    {
      "cell_type": "code",
      "metadata": {
        "colab": {
          "base_uri": "https://localhost:8080/"
        },
        "id": "dqbNqYa8WkKL",
        "outputId": "3a10d818-efa7-4e53-8a18-b97f3139a1c1"
      },
      "source": [
        "# visualizando as 5 primeiras linhas dos dados para modelagem\n",
        "data_modeling.show(5)"
      ],
      "execution_count": 79,
      "outputs": [
        {
          "output_type": "stream",
          "name": "stdout",
          "text": [
            "+----------------+----+--------------+---------------+-----+---------+-------------------+--------------------+--------------------+-----+\n",
            "|           Names| Age|Total_Purchase|Account_Manager|Years|Num_Sites|       Onboard_date|            Location|             Company|Churn|\n",
            "+----------------+----+--------------+---------------+-----+---------+-------------------+--------------------+--------------------+-----+\n",
            "|      Aaron King|46.0|       7504.79|              0| 5.98|      8.0|2007-05-13 20:42:11|38346 Smith Prair...|       Hernandez PLC|    0|\n",
            "|     Aaron Meyer|45.0|       9598.03|              0|  5.0|      7.0|2010-07-17 03:30:38|35821 Bailey Skyw...|Steele, Bates and...|    0|\n",
            "|Abigail Gonzalez|55.0|       8243.28|              0| 3.54|      6.0|2014-01-09 19:52:37|325 Lawrence Cros...|          Nelson PLC|    0|\n",
            "|Abigail Jennings|36.0|      12309.23|              1| 4.76|      9.0|2012-03-11 17:10:26|USS Mcgrath FPO A...|Simpson, Byrd and...|    0|\n",
            "|      Adam Gomez|48.0|       6495.01|              1| 5.57|     12.0|2013-02-06 05:15:06|2889 Coffey Parks...|      Thompson Group|    1|\n",
            "+----------------+----+--------------+---------------+-----+---------+-------------------+--------------------+--------------------+-----+\n",
            "only showing top 5 rows\n",
            "\n"
          ]
        }
      ]
    },
    {
      "cell_type": "code",
      "metadata": {
        "colab": {
          "base_uri": "https://localhost:8080/"
        },
        "id": "O-nPsVQ4WkBk",
        "outputId": "b6cb5a18-806c-44e1-ed60-02db4ebc0386"
      },
      "source": [
        "# visualizando as 5 primeiras linhas dos dados para teste\n",
        "test_data.show(5)"
      ],
      "execution_count": 80,
      "outputs": [
        {
          "output_type": "stream",
          "name": "stdout",
          "text": [
            "+--------------+----+--------------+---------------+-----+---------+-------------------+--------------------+--------------------+-----+\n",
            "|         Names| Age|Total_Purchase|Account_Manager|Years|Num_Sites|       Onboard_date|            Location|             Company|Churn|\n",
            "+--------------+----+--------------+---------------+-----+---------+-------------------+--------------------+--------------------+-----+\n",
            "|    Aaron West|55.0|      10056.55|              0| 4.98|      8.0|2006-09-01 06:11:47|071 Schmidt Locks...|Cruz, Russell and...|    0|\n",
            "|   Adam Harris|44.0|       9815.03|              1|  4.9|      9.0|2016-05-29 06:00:09|40488 Michael For...|Smith, Oconnor an...|    0|\n",
            "|   Adam Porter|48.0|      10746.37|              1| 4.22|      8.0|2006-02-18 01:22:53|92600 Kevin Cape ...|        Anthony-Wood|    0|\n",
            "|   Adam Strong|50.0|      11775.75|              1| 4.83|     10.0|2011-02-06 15:02:27|33071 Melody Isle...|     Harvey-Mcdowell|    1|\n",
            "|Albert Clayton|33.0|      12115.91|              1|  5.5|      9.0|2010-08-09 00:14:20|Unit 6274 Box 532...|Mann, Roberts and...|    0|\n",
            "+--------------+----+--------------+---------------+-----+---------+-------------------+--------------------+--------------------+-----+\n",
            "only showing top 5 rows\n",
            "\n"
          ]
        }
      ]
    },
    {
      "cell_type": "code",
      "metadata": {
        "colab": {
          "base_uri": "https://localhost:8080/"
        },
        "id": "MeUuQoGFXXBh",
        "outputId": "1f424174-7822-475a-af2c-c70439cf0118"
      },
      "source": [
        "# visualizando o tipo de dado em cada atributo dos dados para modelagem\n",
        "data_modeling.printSchema()"
      ],
      "execution_count": 81,
      "outputs": [
        {
          "output_type": "stream",
          "name": "stdout",
          "text": [
            "root\n",
            " |-- Names: string (nullable = true)\n",
            " |-- Age: double (nullable = true)\n",
            " |-- Total_Purchase: double (nullable = true)\n",
            " |-- Account_Manager: integer (nullable = true)\n",
            " |-- Years: double (nullable = true)\n",
            " |-- Num_Sites: double (nullable = true)\n",
            " |-- Onboard_date: string (nullable = true)\n",
            " |-- Location: string (nullable = true)\n",
            " |-- Company: string (nullable = true)\n",
            " |-- Churn: integer (nullable = true)\n",
            "\n"
          ]
        }
      ]
    },
    {
      "cell_type": "markdown",
      "metadata": {
        "id": "Sbv0KRzplAry"
      },
      "source": [
        "**Usando o `Vector` e o `VectorAssembler`**"
      ]
    },
    {
      "cell_type": "code",
      "metadata": {
        "id": "hsbQNPwBc53d"
      },
      "source": [
        "# importando as bibliotecas\n",
        "# from pyspark.ml.linalg import Vectors\n",
        "from pyspark.ml.feature import VectorAssembler\n",
        "\n",
        "# instanciando o objeto e seus argumentos:\n",
        "# atributos de entrada e saída\n",
        "assembler = VectorAssembler(inputCols = ['Age',\n",
        "                                         'Total_Purchase',\n",
        "                                         'Account_Manager',\n",
        "                                         'Years',\n",
        "                                         'Num_Sites'],\n",
        "                            outputCol = 'features')\n",
        "\n",
        "# instanciando o resultado no objeto \"output_data\"\n",
        "output_data = assembler.transform(data_modeling)"
      ],
      "execution_count": 82,
      "outputs": []
    },
    {
      "cell_type": "code",
      "metadata": {
        "colab": {
          "base_uri": "https://localhost:8080/"
        },
        "id": "cW-DltVhc5yq",
        "outputId": "f39a32e5-ecce-4ad9-b0fd-9dbef33a04d8"
      },
      "source": [
        "# visualizando as 3 primeiras linhas \n",
        "output_data.show(3)"
      ],
      "execution_count": 83,
      "outputs": [
        {
          "output_type": "stream",
          "name": "stdout",
          "text": [
            "+----------------+----+--------------+---------------+-----+---------+-------------------+--------------------+--------------------+-----+--------------------+\n",
            "|           Names| Age|Total_Purchase|Account_Manager|Years|Num_Sites|       Onboard_date|            Location|             Company|Churn|            features|\n",
            "+----------------+----+--------------+---------------+-----+---------+-------------------+--------------------+--------------------+-----+--------------------+\n",
            "|      Aaron King|46.0|       7504.79|              0| 5.98|      8.0|2007-05-13 20:42:11|38346 Smith Prair...|       Hernandez PLC|    0|[46.0,7504.79,0.0...|\n",
            "|     Aaron Meyer|45.0|       9598.03|              0|  5.0|      7.0|2010-07-17 03:30:38|35821 Bailey Skyw...|Steele, Bates and...|    0|[45.0,9598.03,0.0...|\n",
            "|Abigail Gonzalez|55.0|       8243.28|              0| 3.54|      6.0|2014-01-09 19:52:37|325 Lawrence Cros...|          Nelson PLC|    0|[55.0,8243.28,0.0...|\n",
            "+----------------+----+--------------+---------------+-----+---------+-------------------+--------------------+--------------------+-----+--------------------+\n",
            "only showing top 3 rows\n",
            "\n"
          ]
        }
      ]
    },
    {
      "cell_type": "code",
      "metadata": {
        "colab": {
          "base_uri": "https://localhost:8080/"
        },
        "id": "5fwwwXC6c5v3",
        "outputId": "96ca36a0-4426-41a8-d61e-4e5b8c5cd99f"
      },
      "source": [
        "# visualizando o tipo de dado em cada atributo\n",
        "output_data.printSchema()"
      ],
      "execution_count": 84,
      "outputs": [
        {
          "output_type": "stream",
          "name": "stdout",
          "text": [
            "root\n",
            " |-- Names: string (nullable = true)\n",
            " |-- Age: double (nullable = true)\n",
            " |-- Total_Purchase: double (nullable = true)\n",
            " |-- Account_Manager: integer (nullable = true)\n",
            " |-- Years: double (nullable = true)\n",
            " |-- Num_Sites: double (nullable = true)\n",
            " |-- Onboard_date: string (nullable = true)\n",
            " |-- Location: string (nullable = true)\n",
            " |-- Company: string (nullable = true)\n",
            " |-- Churn: integer (nullable = true)\n",
            " |-- features: vector (nullable = true)\n",
            "\n"
          ]
        }
      ]
    },
    {
      "cell_type": "markdown",
      "metadata": {
        "id": "F1OCHZIylOdb"
      },
      "source": [
        "> Como podemos observar, temos um novo atributo, `features` que será a base da modelo de classificação."
      ]
    },
    {
      "cell_type": "code",
      "metadata": {
        "id": "wNaK2nAYLVFq"
      },
      "source": [
        "# criando dados finais com apenas as duas colunas de interesse\n",
        "final_data = output_data.select('features', 'churn')    "
      ],
      "execution_count": 85,
      "outputs": []
    },
    {
      "cell_type": "code",
      "metadata": {
        "colab": {
          "base_uri": "https://localhost:8080/"
        },
        "id": "SDbKgj3nLWir",
        "outputId": "f8d40012-56a0-414c-b817-bb1c87548e66"
      },
      "source": [
        "# visualizando o objeto criado\n",
        "final_data.show()"
      ],
      "execution_count": 86,
      "outputs": [
        {
          "output_type": "stream",
          "name": "stdout",
          "text": [
            "+--------------------+-----+\n",
            "|            features|churn|\n",
            "+--------------------+-----+\n",
            "|[46.0,7504.79,0.0...|    0|\n",
            "|[45.0,9598.03,0.0...|    0|\n",
            "|[55.0,8243.28,0.0...|    0|\n",
            "|[36.0,12309.23,1....|    0|\n",
            "|[48.0,6495.01,1.0...|    1|\n",
            "|[41.0,12659.88,0....|    0|\n",
            "|[40.0,11185.62,0....|    1|\n",
            "|[36.0,10448.09,0....|    0|\n",
            "|[29.0,9617.59,0.0...|    0|\n",
            "|[43.0,7686.13,1.0...|    0|\n",
            "|[39.0,6351.79,0.0...|    1|\n",
            "|[43.0,14241.75,0....|    0|\n",
            "|[45.0,10976.03,0....|    0|\n",
            "|[32.0,12403.6,0.0...|    0|\n",
            "|[43.0,8601.01,0.0...|    1|\n",
            "|[39.0,8880.17,0.0...|    0|\n",
            "|[37.0,8614.75,0.0...|    0|\n",
            "|[40.0,8083.76,0.0...|    0|\n",
            "|[40.0,8530.23,1.0...|    0|\n",
            "|[48.0,4771.65,0.0...|    1|\n",
            "+--------------------+-----+\n",
            "only showing top 20 rows\n",
            "\n"
          ]
        }
      ]
    },
    {
      "cell_type": "markdown",
      "metadata": {
        "id": "5lep0w0vlje8"
      },
      "source": [
        "**Usando Regressão Logística nos dados**"
      ]
    },
    {
      "cell_type": "code",
      "metadata": {
        "id": "F_HxTssDeG8p"
      },
      "source": [
        "# importando a biblioteca\n",
        "from pyspark.ml.classification import LogisticRegression"
      ],
      "execution_count": 87,
      "outputs": []
    },
    {
      "cell_type": "code",
      "metadata": {
        "id": "_d6JJO7OLWXC"
      },
      "source": [
        "# divisão dos dados em treino e teste\n",
        "train_data, val_data = final_data.randomSplit([0.7,0.3], seed=42) "
      ],
      "execution_count": 88,
      "outputs": []
    },
    {
      "cell_type": "code",
      "metadata": {
        "id": "ODv6lxBDLhY1"
      },
      "source": [
        "# criando o modelo\n",
        "model_lr = LogisticRegression(labelCol = 'churn') "
      ],
      "execution_count": 89,
      "outputs": []
    },
    {
      "cell_type": "code",
      "metadata": {
        "id": "HTSh9hKaLhWJ"
      },
      "source": [
        "# treinando o modelo com os dados de treino\n",
        "model = model_lr.fit(train_data)  "
      ],
      "execution_count": 90,
      "outputs": []
    },
    {
      "cell_type": "code",
      "metadata": {
        "colab": {
          "base_uri": "https://localhost:8080/"
        },
        "id": "J6Nkgm5EL1Ho",
        "outputId": "1a40b52a-8ff8-47a0-b82d-33e1e44808ec"
      },
      "source": [
        "# resumo das predições sobre os dados de treinamento\n",
        "summary = model.summary\n",
        "summary.predictions.describe().show()"
      ],
      "execution_count": 91,
      "outputs": [
        {
          "output_type": "stream",
          "name": "stdout",
          "text": [
            "+-------+-------------------+-------------------+\n",
            "|summary|              churn|         prediction|\n",
            "+-------+-------------------+-------------------+\n",
            "|  count|                491|                491|\n",
            "|   mean|0.17311608961303462|0.13441955193482688|\n",
            "| stddev| 0.3787334757839231|0.34145041643296875|\n",
            "|    min|                0.0|                0.0|\n",
            "|    max|                1.0|                1.0|\n",
            "+-------+-------------------+-------------------+\n",
            "\n"
          ]
        }
      ]
    },
    {
      "cell_type": "code",
      "metadata": {
        "colab": {
          "base_uri": "https://localhost:8080/"
        },
        "id": "l5KEul_SL3kf",
        "outputId": "d97a9891-db29-4860-aeb5-03e1fbf0a599"
      },
      "source": [
        "# visualizando a probabilidade e suas respectivas predições\n",
        "summary.predictions.show(30)"
      ],
      "execution_count": 93,
      "outputs": [
        {
          "output_type": "stream",
          "name": "stdout",
          "text": [
            "+--------------------+-----+--------------------+--------------------+----------+\n",
            "|            features|churn|       rawPrediction|         probability|prediction|\n",
            "+--------------------+-----+--------------------+--------------------+----------+\n",
            "|[22.0,11254.38,1....|  0.0|[4.62910387636672...|[0.99033089981269...|       0.0|\n",
            "|[25.0,9672.03,0.0...|  0.0|[4.74897758100093...|[0.99141381565500...|       0.0|\n",
            "|[27.0,8628.8,1.0,...|  0.0|[5.43447706937869...|[0.99565544131149...|       0.0|\n",
            "|[28.0,8670.98,0.0...|  0.0|[7.68085556727675...|[0.99953863314042...|       0.0|\n",
            "|[28.0,11128.95,1....|  0.0|[4.16438374550583...|[0.98469848652025...|       0.0|\n",
            "|[29.0,5900.78,1.0...|  0.0|[4.09660360695090...|[0.98364294402282...|       0.0|\n",
            "|[29.0,9617.59,0.0...|  0.0|[4.48833074323360...|[0.98888553026876...|       0.0|\n",
            "|[29.0,10203.18,1....|  0.0|[3.80488738257594...|[0.97822308710988...|       0.0|\n",
            "|[29.0,11274.46,1....|  0.0|[4.41843310012810...|[0.98809044361325...|       0.0|\n",
            "|[30.0,7960.64,1.0...|  1.0|[2.90745264616237...|[0.94821362059261...|       0.0|\n",
            "|[30.0,8403.78,1.0...|  0.0|[5.79810444464288...|[0.99697587399302...|       0.0|\n",
            "|[30.0,8677.28,1.0...|  0.0|[4.28739074954721...|[0.98644551693998...|       0.0|\n",
            "|[30.0,10183.98,1....|  0.0|[2.86964418149850...|[0.94632527750798...|       0.0|\n",
            "|[30.0,11575.37,1....|  1.0|[3.96827829335036...|[0.98144484725512...|       0.0|\n",
            "|[31.0,5304.6,0.0,...|  0.0|[3.42972025282387...|[0.96862056601669...|       0.0|\n",
            "|[31.0,5387.75,0.0...|  0.0|[2.70005416509245...|[0.93702984002554...|       0.0|\n",
            "|[31.0,7073.61,0.0...|  0.0|[3.15265854504637...|[0.95901334816967...|       0.0|\n",
            "|[31.0,10058.87,1....|  0.0|[4.53059909416744...|[0.98934062705554...|       0.0|\n",
            "|[31.0,11743.24,0....|  0.0|[6.74512056775370...|[0.99882477596667...|       0.0|\n",
            "|[32.0,7896.65,0.0...|  0.0|[3.59002100623500...|[0.97314343022478...|       0.0|\n",
            "|[32.0,8011.38,0.0...|  0.0|[2.03830174689010...|[0.88476022791213...|       0.0|\n",
            "|[32.0,8575.71,0.0...|  0.0|[3.72131213867454...|[0.97636971430100...|       0.0|\n",
            "|[32.0,9036.27,0.0...|  0.0|[-0.0373435843945...|[0.49066518869270...|       1.0|\n",
            "|[32.0,9885.12,1.0...|  1.0|[1.91039241271989...|[0.87106322696097...|       0.0|\n",
            "|[32.0,12254.75,1....|  0.0|[2.57196935503015...|[0.92903564212951...|       0.0|\n",
            "|[33.0,7492.9,0.0,...|  0.0|[4.92463149707650...|[0.99278700222757...|       0.0|\n",
            "|[33.0,8556.73,0.0...|  0.0|[3.67994582617169...|[0.97539627154635...|       0.0|\n",
            "|[33.0,10309.71,1....|  0.0|[6.07798884823643...|[0.99771246167526...|       0.0|\n",
            "|[33.0,10709.39,1....|  0.0|[6.18731730937301...|[0.99794888254275...|       0.0|\n",
            "|[33.0,12249.96,0....|  0.0|[5.31546535250051...|[0.99510904796560...|       0.0|\n",
            "+--------------------+-----+--------------------+--------------------+----------+\n",
            "only showing top 30 rows\n",
            "\n"
          ]
        }
      ]
    },
    {
      "cell_type": "code",
      "metadata": {
        "id": "omFyt0utL3h0",
        "colab": {
          "base_uri": "https://localhost:8080/",
          "height": 990
        },
        "outputId": "7380d0f0-9072-4fc7-a4e8-7773183c8a1a"
      },
      "source": [
        "summary.predictions.toPandas().sample(30)"
      ],
      "execution_count": 101,
      "outputs": [
        {
          "output_type": "execute_result",
          "data": {
            "text/html": [
              "<div>\n",
              "<style scoped>\n",
              "    .dataframe tbody tr th:only-of-type {\n",
              "        vertical-align: middle;\n",
              "    }\n",
              "\n",
              "    .dataframe tbody tr th {\n",
              "        vertical-align: top;\n",
              "    }\n",
              "\n",
              "    .dataframe thead th {\n",
              "        text-align: right;\n",
              "    }\n",
              "</style>\n",
              "<table border=\"1\" class=\"dataframe\">\n",
              "  <thead>\n",
              "    <tr style=\"text-align: right;\">\n",
              "      <th></th>\n",
              "      <th>features</th>\n",
              "      <th>churn</th>\n",
              "      <th>rawPrediction</th>\n",
              "      <th>probability</th>\n",
              "      <th>prediction</th>\n",
              "    </tr>\n",
              "  </thead>\n",
              "  <tbody>\n",
              "    <tr>\n",
              "      <th>384</th>\n",
              "      <td>[47.0, 7362.18, 0.0, 6.57, 7.0]</td>\n",
              "      <td>0.0</td>\n",
              "      <td>[4.076052953667022, -4.076052953667022]</td>\n",
              "      <td>[0.983308986723445, 0.016691013276554978]</td>\n",
              "      <td>0.0</td>\n",
              "    </tr>\n",
              "    <tr>\n",
              "      <th>387</th>\n",
              "      <td>[47.0, 8235.74, 1.0, 6.2, 10.0]</td>\n",
              "      <td>1.0</td>\n",
              "      <td>[0.138328350770216, -0.138328350770216]</td>\n",
              "      <td>[0.5345270497536405, 0.4654729502463595]</td>\n",
              "      <td>0.0</td>\n",
              "    </tr>\n",
              "    <tr>\n",
              "      <th>437</th>\n",
              "      <td>[49.0, 12458.8, 0.0, 5.04, 9.0]</td>\n",
              "      <td>1.0</td>\n",
              "      <td>[2.083955209246625, -2.083955209246625]</td>\n",
              "      <td>[0.8893339013238706, 0.11066609867612942]</td>\n",
              "      <td>0.0</td>\n",
              "    </tr>\n",
              "    <tr>\n",
              "      <th>283</th>\n",
              "      <td>[43.0, 8583.5, 1.0, 4.39, 10.0]</td>\n",
              "      <td>0.0</td>\n",
              "      <td>[1.2412021672992992, -1.2412021672992992]</td>\n",
              "      <td>[0.7757731995648814, 0.22422680043511856]</td>\n",
              "      <td>0.0</td>\n",
              "    </tr>\n",
              "    <tr>\n",
              "      <th>385</th>\n",
              "      <td>[47.0, 7396.1, 0.0, 4.11, 11.0]</td>\n",
              "      <td>1.0</td>\n",
              "      <td>[0.47087657699682595, -0.47087657699682595]</td>\n",
              "      <td>[0.615591209414695, 0.38440879058530497]</td>\n",
              "      <td>0.0</td>\n",
              "    </tr>\n",
              "    <tr>\n",
              "      <th>157</th>\n",
              "      <td>[39.0, 9315.6, 1.0, 5.02, 10.0]</td>\n",
              "      <td>0.0</td>\n",
              "      <td>[1.1780550450099128, -1.1780550450099128]</td>\n",
              "      <td>[0.7645979154893034, 0.23540208451069655]</td>\n",
              "      <td>0.0</td>\n",
              "    </tr>\n",
              "    <tr>\n",
              "      <th>373</th>\n",
              "      <td>[46.0, 10406.58, 0.0, 7.24, 11.0]</td>\n",
              "      <td>0.0</td>\n",
              "      <td>[-1.0581151868824037, 1.0581151868824037]</td>\n",
              "      <td>[0.257669809662041, 0.742330190337959]</td>\n",
              "      <td>1.0</td>\n",
              "    </tr>\n",
              "    <tr>\n",
              "      <th>412</th>\n",
              "      <td>[48.0, 8093.03, 1.0, 4.26, 8.0]</td>\n",
              "      <td>0.0</td>\n",
              "      <td>[3.375410458554585, -3.375410458554585]</td>\n",
              "      <td>[0.9669271501963224, 0.03307284980367764]</td>\n",
              "      <td>0.0</td>\n",
              "    </tr>\n",
              "    <tr>\n",
              "      <th>343</th>\n",
              "      <td>[45.0, 9598.03, 0.0, 5.0, 7.0]</td>\n",
              "      <td>0.0</td>\n",
              "      <td>[4.860129742102053, -4.860129742102053]</td>\n",
              "      <td>[0.9923101142114634, 0.007689885788536577]</td>\n",
              "      <td>0.0</td>\n",
              "    </tr>\n",
              "    <tr>\n",
              "      <th>472</th>\n",
              "      <td>[53.0, 8122.34, 0.0, 3.51, 9.0]</td>\n",
              "      <td>0.0</td>\n",
              "      <td>[2.7132665501508235, -2.7132665501508235]</td>\n",
              "      <td>[0.9378049488208111, 0.06219505117918889]</td>\n",
              "      <td>0.0</td>\n",
              "    </tr>\n",
              "    <tr>\n",
              "      <th>378</th>\n",
              "      <td>[46.0, 11832.86, 1.0, 6.01, 8.0]</td>\n",
              "      <td>0.0</td>\n",
              "      <td>[2.534381409629148, -2.534381409629148]</td>\n",
              "      <td>[0.9265172112210388, 0.0734827887789612]</td>\n",
              "      <td>0.0</td>\n",
              "    </tr>\n",
              "    <tr>\n",
              "      <th>264</th>\n",
              "      <td>[42.0, 11756.06, 0.0, 4.88, 8.0]</td>\n",
              "      <td>0.0</td>\n",
              "      <td>[3.8379662007988866, -3.8379662007988866]</td>\n",
              "      <td>[0.9789167187115845, 0.021083281288415523]</td>\n",
              "      <td>0.0</td>\n",
              "    </tr>\n",
              "    <tr>\n",
              "      <th>415</th>\n",
              "      <td>[48.0, 9282.99, 0.0, 4.32, 6.0]</td>\n",
              "      <td>0.0</td>\n",
              "      <td>[6.187216515873702, -6.187216515873702]</td>\n",
              "      <td>[0.9979486762171448, 0.002051323782855219]</td>\n",
              "      <td>0.0</td>\n",
              "    </tr>\n",
              "    <tr>\n",
              "      <th>79</th>\n",
              "      <td>[36.0, 12284.58, 1.0, 5.7, 9.0]</td>\n",
              "      <td>0.0</td>\n",
              "      <td>[2.1287696697173857, -2.1287696697173857]</td>\n",
              "      <td>[0.8936681523279953, 0.10633184767200465]</td>\n",
              "      <td>0.0</td>\n",
              "    </tr>\n",
              "    <tr>\n",
              "      <th>356</th>\n",
              "      <td>[45.0, 15188.65, 0.0, 6.17, 8.0]</td>\n",
              "      <td>0.0</td>\n",
              "      <td>[2.8975045467591283, -2.8975045467591283]</td>\n",
              "      <td>[0.9477229398079744, 0.052277060192025604]</td>\n",
              "      <td>0.0</td>\n",
              "    </tr>\n",
              "    <tr>\n",
              "      <th>42</th>\n",
              "      <td>[34.0, 13976.64, 0.0, 5.16, 8.0]</td>\n",
              "      <td>0.0</td>\n",
              "      <td>[4.144200958558525, -4.144200958558525]</td>\n",
              "      <td>[0.9843913911001833, 0.015608608899816745]</td>\n",
              "      <td>0.0</td>\n",
              "    </tr>\n",
              "    <tr>\n",
              "      <th>279</th>\n",
              "      <td>[43.0, 7948.18, 0.0, 3.88, 7.0]</td>\n",
              "      <td>0.0</td>\n",
              "      <td>[5.584649127912595, -5.584649127912595]</td>\n",
              "      <td>[0.9962589806915975, 0.003741019308402538]</td>\n",
              "      <td>0.0</td>\n",
              "    </tr>\n",
              "    <tr>\n",
              "      <th>411</th>\n",
              "      <td>[48.0, 7778.73, 1.0, 4.18, 8.0]</td>\n",
              "      <td>0.0</td>\n",
              "      <td>[3.4254969355507026, -3.4254969355507026]</td>\n",
              "      <td>[0.9684919449130693, 0.031508055086930664]</td>\n",
              "      <td>0.0</td>\n",
              "    </tr>\n",
              "    <tr>\n",
              "      <th>375</th>\n",
              "      <td>[46.0, 11119.11, 1.0, 3.51, 14.0]</td>\n",
              "      <td>0.0</td>\n",
              "      <td>[-3.4046422762769595, 3.4046422762769595]</td>\n",
              "      <td>[0.03215069669150706, 0.967849303308493]</td>\n",
              "      <td>1.0</td>\n",
              "    </tr>\n",
              "    <tr>\n",
              "      <th>4</th>\n",
              "      <td>[28.0, 11128.95, 1.0, 5.12, 8.0]</td>\n",
              "      <td>0.0</td>\n",
              "      <td>[4.164383745505839, -4.164383745505839]</td>\n",
              "      <td>[0.9846984865202537, 0.015301513479746287]</td>\n",
              "      <td>0.0</td>\n",
              "    </tr>\n",
              "    <tr>\n",
              "      <th>140</th>\n",
              "      <td>[38.0, 12978.81, 0.0, 7.94, 7.0]</td>\n",
              "      <td>0.0</td>\n",
              "      <td>[3.800385723216632, -3.800385723216632]</td>\n",
              "      <td>[0.9781269829753522, 0.021873017024647834]</td>\n",
              "      <td>0.0</td>\n",
              "    </tr>\n",
              "    <tr>\n",
              "      <th>179</th>\n",
              "      <td>[40.0, 7819.46, 1.0, 4.77, 9.0]</td>\n",
              "      <td>0.0</td>\n",
              "      <td>[2.4801247725794724, -2.4801247725794724]</td>\n",
              "      <td>[0.9227366938298679, 0.0772633061701321]</td>\n",
              "      <td>0.0</td>\n",
              "    </tr>\n",
              "    <tr>\n",
              "      <th>75</th>\n",
              "      <td>[36.0, 10448.09, 0.0, 4.13, 8.0]</td>\n",
              "      <td>0.0</td>\n",
              "      <td>[4.637312189382293, -4.637312189382293]</td>\n",
              "      <td>[0.9904091838896565, 0.009590816110343514]</td>\n",
              "      <td>0.0</td>\n",
              "    </tr>\n",
              "    <tr>\n",
              "      <th>270</th>\n",
              "      <td>[43.0, 5805.53, 0.0, 5.44, 5.0]</td>\n",
              "      <td>0.0</td>\n",
              "      <td>[7.315116773084082, -7.315116773084082]</td>\n",
              "      <td>[0.9993350388602013, 0.0006649611397987476]</td>\n",
              "      <td>0.0</td>\n",
              "    </tr>\n",
              "    <tr>\n",
              "      <th>59</th>\n",
              "      <td>[35.0, 12871.79, 0.0, 4.64, 12.0]</td>\n",
              "      <td>1.0</td>\n",
              "      <td>[-0.39699345470613423, 0.39699345470613423]</td>\n",
              "      <td>[0.4020349085502318, 0.5979650914497683]</td>\n",
              "      <td>1.0</td>\n",
              "    </tr>\n",
              "    <tr>\n",
              "      <th>145</th>\n",
              "      <td>[38.0, 15509.97, 0.0, 4.65, 8.0]</td>\n",
              "      <td>0.0</td>\n",
              "      <td>[4.061717782835288, -4.061717782835288]</td>\n",
              "      <td>[0.9830720744849143, 0.016927925515085707]</td>\n",
              "      <td>0.0</td>\n",
              "    </tr>\n",
              "    <tr>\n",
              "      <th>222</th>\n",
              "      <td>[41.0, 9771.22, 0.0, 5.81, 11.0]</td>\n",
              "      <td>1.0</td>\n",
              "      <td>[-0.030150914625103553, 0.030150914625103553]</td>\n",
              "      <td>[0.4924628423235405, 0.5075371576764596]</td>\n",
              "      <td>1.0</td>\n",
              "    </tr>\n",
              "    <tr>\n",
              "      <th>392</th>\n",
              "      <td>[47.0, 9182.81, 1.0, 6.45, 11.0]</td>\n",
              "      <td>0.0</td>\n",
              "      <td>[-1.2078603533705063, 1.2078603533705063]</td>\n",
              "      <td>[0.23007985570681597, 0.769920144293184]</td>\n",
              "      <td>1.0</td>\n",
              "    </tr>\n",
              "    <tr>\n",
              "      <th>258</th>\n",
              "      <td>[42.0, 10442.37, 0.0, 5.58, 5.0]</td>\n",
              "      <td>0.0</td>\n",
              "      <td>[7.13255662011961, -7.13255662011961]</td>\n",
              "      <td>[0.9992019625056486, 0.0007980374943513668]</td>\n",
              "      <td>0.0</td>\n",
              "    </tr>\n",
              "    <tr>\n",
              "      <th>124</th>\n",
              "      <td>[38.0, 9557.2, 0.0, 4.47, 8.0]</td>\n",
              "      <td>0.0</td>\n",
              "      <td>[4.380555960328465, -4.380555960328465]</td>\n",
              "      <td>[0.9876363758015401, 0.012363624198459933]</td>\n",
              "      <td>0.0</td>\n",
              "    </tr>\n",
              "  </tbody>\n",
              "</table>\n",
              "</div>"
            ],
            "text/plain": [
              "                              features  ...  prediction\n",
              "384    [47.0, 7362.18, 0.0, 6.57, 7.0]  ...         0.0\n",
              "387    [47.0, 8235.74, 1.0, 6.2, 10.0]  ...         0.0\n",
              "437    [49.0, 12458.8, 0.0, 5.04, 9.0]  ...         0.0\n",
              "283    [43.0, 8583.5, 1.0, 4.39, 10.0]  ...         0.0\n",
              "385    [47.0, 7396.1, 0.0, 4.11, 11.0]  ...         0.0\n",
              "157    [39.0, 9315.6, 1.0, 5.02, 10.0]  ...         0.0\n",
              "373  [46.0, 10406.58, 0.0, 7.24, 11.0]  ...         1.0\n",
              "412    [48.0, 8093.03, 1.0, 4.26, 8.0]  ...         0.0\n",
              "343     [45.0, 9598.03, 0.0, 5.0, 7.0]  ...         0.0\n",
              "472    [53.0, 8122.34, 0.0, 3.51, 9.0]  ...         0.0\n",
              "378   [46.0, 11832.86, 1.0, 6.01, 8.0]  ...         0.0\n",
              "264   [42.0, 11756.06, 0.0, 4.88, 8.0]  ...         0.0\n",
              "415    [48.0, 9282.99, 0.0, 4.32, 6.0]  ...         0.0\n",
              "79     [36.0, 12284.58, 1.0, 5.7, 9.0]  ...         0.0\n",
              "356   [45.0, 15188.65, 0.0, 6.17, 8.0]  ...         0.0\n",
              "42    [34.0, 13976.64, 0.0, 5.16, 8.0]  ...         0.0\n",
              "279    [43.0, 7948.18, 0.0, 3.88, 7.0]  ...         0.0\n",
              "411    [48.0, 7778.73, 1.0, 4.18, 8.0]  ...         0.0\n",
              "375  [46.0, 11119.11, 1.0, 3.51, 14.0]  ...         1.0\n",
              "4     [28.0, 11128.95, 1.0, 5.12, 8.0]  ...         0.0\n",
              "140   [38.0, 12978.81, 0.0, 7.94, 7.0]  ...         0.0\n",
              "179    [40.0, 7819.46, 1.0, 4.77, 9.0]  ...         0.0\n",
              "75    [36.0, 10448.09, 0.0, 4.13, 8.0]  ...         0.0\n",
              "270    [43.0, 5805.53, 0.0, 5.44, 5.0]  ...         0.0\n",
              "59   [35.0, 12871.79, 0.0, 4.64, 12.0]  ...         1.0\n",
              "145   [38.0, 15509.97, 0.0, 4.65, 8.0]  ...         0.0\n",
              "222   [41.0, 9771.22, 0.0, 5.81, 11.0]  ...         1.0\n",
              "392   [47.0, 9182.81, 1.0, 6.45, 11.0]  ...         1.0\n",
              "258   [42.0, 10442.37, 0.0, 5.58, 5.0]  ...         0.0\n",
              "124     [38.0, 9557.2, 0.0, 4.47, 8.0]  ...         0.0\n",
              "\n",
              "[30 rows x 5 columns]"
            ]
          },
          "metadata": {},
          "execution_count": 101
        }
      ]
    },
    {
      "cell_type": "markdown",
      "metadata": {
        "id": "_dxlTkoPlpr1"
      },
      "source": [
        "**Importando o BinaryClassificationEvaluator**\n",
        "\n",
        "\n",
        "A avaliação de classificadores binários compara dois métodos de atribuição de um atributo binário, um dos quais geralmente é um método padrão e o outro está sendo investigado. Existem muitas métricas que podem ser usadas para medir o desempenho de um classificador ou preditor; campos diferentes têm preferências diferentes para métricas específicas devido a objetivos diferentes."
      ]
    },
    {
      "cell_type": "code",
      "metadata": {
        "id": "HwvtSopAc5py"
      },
      "source": [
        "# importando a biblioteca\n",
        "from pyspark.ml.evaluation import BinaryClassificationEvaluator"
      ],
      "execution_count": 102,
      "outputs": []
    },
    {
      "cell_type": "code",
      "metadata": {
        "id": "mMqILlErikO4"
      },
      "source": [
        "# realizando as predições com o modelo com os dados de validação\n",
        "pred_labels = model.evaluate(val_data)"
      ],
      "execution_count": 104,
      "outputs": []
    },
    {
      "cell_type": "code",
      "metadata": {
        "colab": {
          "base_uri": "https://localhost:8080/"
        },
        "id": "6R-sOkyxivpf",
        "outputId": "bcabd4c5-ec7c-48f2-88cc-d415585e8dc0"
      },
      "source": [
        "pred_labels.predictions.show()"
      ],
      "execution_count": 105,
      "outputs": [
        {
          "output_type": "stream",
          "name": "stdout",
          "text": [
            "+--------------------+-----+--------------------+--------------------+----------+\n",
            "|            features|churn|       rawPrediction|         probability|prediction|\n",
            "+--------------------+-----+--------------------+--------------------+----------+\n",
            "|[26.0,8787.39,1.0...|    1|[0.67314471564668...|[0.66220695562078...|       0.0|\n",
            "|[28.0,11245.38,0....|    0|[3.90988236177569...|[0.98035096412097...|       0.0|\n",
            "|[29.0,8688.17,1.0...|    1|[2.72997883314334...|[0.93877262055036...|       0.0|\n",
            "|[29.0,9378.24,0.0...|    0|[4.76188170190506...|[0.99152296781383...|       0.0|\n",
            "|[29.0,13240.01,1....|    0|[6.65253404586108...|[0.99871091673523...|       0.0|\n",
            "|[29.0,13255.05,1....|    0|[4.12362288652656...|[0.98407203743302...|       0.0|\n",
            "|[30.0,6744.87,0.0...|    0|[3.50956956924105...|[0.97095882943147...|       0.0|\n",
            "|[30.0,8874.83,0.0...|    0|[3.22775684192541...|[0.96186555862012...|       0.0|\n",
            "|[30.0,10960.52,1....|    0|[2.45234380873105...|[0.92073268015398...|       0.0|\n",
            "|[30.0,12788.37,0....|    0|[2.47252148127265...|[0.92219288185871...|       0.0|\n",
            "|[30.0,13473.35,0....|    0|[2.66729587389001...|[0.93506904360157...|       0.0|\n",
            "|[31.0,8688.21,0.0...|    0|[6.48543203493723...|[0.99847682205603...|       0.0|\n",
            "|[31.0,8829.83,1.0...|    0|[4.34065822284216...|[0.98713959463295...|       0.0|\n",
            "|[31.0,9574.89,0.0...|    0|[3.48599418057804...|[0.97028662339057...|       0.0|\n",
            "|[31.0,10182.6,1.0...|    0|[4.64126196317011...|[0.99044662954759...|       0.0|\n",
            "|[32.0,5756.12,0.0...|    0|[4.24959894850104...|[0.98593081095638...|       0.0|\n",
            "|[32.0,6367.22,1.0...|    0|[2.78207594071278...|[0.94169952134575...|       0.0|\n",
            "|[32.0,8617.98,1.0...|    1|[1.10875533648139...|[0.75189699487379...|       0.0|\n",
            "|[32.0,10716.75,0....|    0|[4.42257010384949...|[0.98813902853642...|       0.0|\n",
            "|[32.0,11715.72,0....|    0|[3.37622167613040...|[0.96695308232873...|       0.0|\n",
            "+--------------------+-----+--------------------+--------------------+----------+\n",
            "only showing top 20 rows\n",
            "\n"
          ]
        }
      ]
    },
    {
      "cell_type": "code",
      "metadata": {
        "colab": {
          "base_uri": "https://localhost:8080/"
        },
        "id": "SR_MphaFc5mU",
        "outputId": "13b4a0a8-0832-4fad-eb91-89e5f1acd175"
      },
      "source": [
        "# visualizando as classes\n",
        "pred_labels.labels"
      ],
      "execution_count": 106,
      "outputs": [
        {
          "output_type": "execute_result",
          "data": {
            "text/plain": [
              "[0.0, 1.0]"
            ]
          },
          "metadata": {},
          "execution_count": 106
        }
      ]
    },
    {
      "cell_type": "markdown",
      "metadata": {
        "id": "STAk36WGl1yn"
      },
      "source": [
        "A seguir, criaremos um avaliador e usaremos o avaliador de classificação binária para prever a rotatividade."
      ]
    },
    {
      "cell_type": "code",
      "metadata": {
        "id": "nS1jdt8KjONo"
      },
      "source": [
        "# instanciando o avaliador\n",
        "evaluator = BinaryClassificationEvaluator(rawPredictionCol = 'prediction',\n",
        "                                          labelCol = 'churn')"
      ],
      "execution_count": null,
      "outputs": []
    },
    {
      "cell_type": "code",
      "metadata": {
        "colab": {
          "base_uri": "https://localhost:8080/"
        },
        "id": "ABRQ04G3jREw",
        "outputId": "e729d6a1-2740-4200-8c34-1ad375b85524"
      },
      "source": [
        "# aplicando o avaliador nas predições e visualizando acurácia do modelo\n",
        "auc = evaluator.evaluate(pred_labels.predictions)\n",
        "auc"
      ],
      "execution_count": 117,
      "outputs": [
        {
          "output_type": "execute_result",
          "data": {
            "text/plain": [
              "0.09800915911010932"
            ]
          },
          "metadata": {},
          "execution_count": 117
        }
      ]
    },
    {
      "cell_type": "code",
      "metadata": {
        "id": "AAWRHeImmw4R"
      },
      "source": [
        "# # instanciando o modelo\n",
        "# model1 = LogisticRegression(labelCol = 'churn')\n",
        "\n",
        "# # realizando o treinamento com os dados \"final_data\"\n",
        "# model1 = model1.fit(final_data)\n",
        "\n",
        "# # realizando as transformações nos dados de teste\n",
        "# test_final = assembler.transform(test_data)"
      ],
      "execution_count": null,
      "outputs": []
    },
    {
      "cell_type": "code",
      "metadata": {
        "id": "T2r0M1jmlEuX"
      },
      "source": [
        "model_final = model_lr.fit(final_data)"
      ],
      "execution_count": 109,
      "outputs": []
    },
    {
      "cell_type": "code",
      "metadata": {
        "colab": {
          "base_uri": "https://localhost:8080/"
        },
        "id": "kIzeL0pplEsO",
        "outputId": "82a9f2be-a78c-40fb-add9-aaeb574bbec3"
      },
      "source": [
        "test_data.printSchema()"
      ],
      "execution_count": 110,
      "outputs": [
        {
          "output_type": "stream",
          "name": "stdout",
          "text": [
            "root\n",
            " |-- Names: string (nullable = true)\n",
            " |-- Age: double (nullable = true)\n",
            " |-- Total_Purchase: double (nullable = true)\n",
            " |-- Account_Manager: integer (nullable = true)\n",
            " |-- Years: double (nullable = true)\n",
            " |-- Num_Sites: double (nullable = true)\n",
            " |-- Onboard_date: string (nullable = true)\n",
            " |-- Location: string (nullable = true)\n",
            " |-- Company: string (nullable = true)\n",
            " |-- Churn: integer (nullable = true)\n",
            "\n"
          ]
        }
      ]
    },
    {
      "cell_type": "code",
      "metadata": {
        "id": "rVWVL7pBlEo4"
      },
      "source": [
        "# realizando as transformações nos dados de teste\n",
        "test_final = assembler.transform(test_data)"
      ],
      "execution_count": 112,
      "outputs": []
    },
    {
      "cell_type": "code",
      "metadata": {
        "colab": {
          "base_uri": "https://localhost:8080/"
        },
        "id": "S5_l3jgUlEm9",
        "outputId": "6d5ae4ec-af3c-49ca-ede4-5ada9436f360"
      },
      "source": [
        "test_final.printSchema()"
      ],
      "execution_count": 113,
      "outputs": [
        {
          "output_type": "stream",
          "name": "stdout",
          "text": [
            "root\n",
            " |-- Names: string (nullable = true)\n",
            " |-- Age: double (nullable = true)\n",
            " |-- Total_Purchase: double (nullable = true)\n",
            " |-- Account_Manager: integer (nullable = true)\n",
            " |-- Years: double (nullable = true)\n",
            " |-- Num_Sites: double (nullable = true)\n",
            " |-- Onboard_date: string (nullable = true)\n",
            " |-- Location: string (nullable = true)\n",
            " |-- Company: string (nullable = true)\n",
            " |-- Churn: integer (nullable = true)\n",
            " |-- features: vector (nullable = true)\n",
            "\n"
          ]
        }
      ]
    },
    {
      "cell_type": "markdown",
      "metadata": {
        "id": "ZlL3XdAzl6lF"
      },
      "source": [
        "**Resultados da descoberta**\n",
        "\n",
        "Agora vamos usar o modelo para avaliar os dados de teste (test_data)."
      ]
    },
    {
      "cell_type": "code",
      "metadata": {
        "id": "gQswZZbwlEjw"
      },
      "source": [
        "# aplicando o \"model1\" nos dados de teste após sua transformação\n",
        "results = model_final.transform(test_final)"
      ],
      "execution_count": 114,
      "outputs": []
    },
    {
      "cell_type": "code",
      "metadata": {
        "colab": {
          "base_uri": "https://localhost:8080/"
        },
        "id": "cfVdiPwblEh2",
        "outputId": "99f24260-d1d2-411f-954c-55091040e036"
      },
      "source": [
        "# visualizando o resultado das predições\n",
        "results.select('Company','prediction').show(50)"
      ],
      "execution_count": 115,
      "outputs": [
        {
          "output_type": "stream",
          "name": "stdout",
          "text": [
            "+--------------------+----------+\n",
            "|             Company|prediction|\n",
            "+--------------------+----------+\n",
            "|Cruz, Russell and...|       0.0|\n",
            "|Smith, Oconnor an...|       0.0|\n",
            "|        Anthony-Wood|       0.0|\n",
            "|     Harvey-Mcdowell|       0.0|\n",
            "|Mann, Roberts and...|       0.0|\n",
            "|        Jones-Meyers|       0.0|\n",
            "|Smith, Harris and...|       0.0|\n",
            "|     Garza-Alexander|       0.0|\n",
            "|             Lee Ltd|       0.0|\n",
            "|Barry, Brown and ...|       0.0|\n",
            "|Green, Jackson an...|       0.0|\n",
            "|Davis, Mccormick ...|       0.0|\n",
            "|         Weiss-Kelly|       0.0|\n",
            "|Nelson, Ray and J...|       0.0|\n",
            "|            Gray Inc|       0.0|\n",
            "|       Morgan-Garcia|       0.0|\n",
            "|          Barker Ltd|       0.0|\n",
            "|          Parker PLC|       0.0|\n",
            "|        Patton Group|       0.0|\n",
            "|Johnson, Fields a...|       0.0|\n",
            "|       Blackwell PLC|       0.0|\n",
            "|          Bailey LLC|       0.0|\n",
            "|Conner, Brown and...|       0.0|\n",
            "|Briggs, Cross and...|       0.0|\n",
            "|      Williams Group|       0.0|\n",
            "|          Walker Ltd|       0.0|\n",
            "|         Hancock LLC|       0.0|\n",
            "|Brown, Johnson an...|       0.0|\n",
            "|          Hall Group|       0.0|\n",
            "|           Brown Inc|       0.0|\n",
            "|         Daniels PLC|       0.0|\n",
            "|    Kennedy and Sons|       0.0|\n",
            "|          Butler PLC|       0.0|\n",
            "|Gonzalez, Gilbert...|       0.0|\n",
            "|        Graham-Allen|       0.0|\n",
            "|          Forbes LLC|       0.0|\n",
            "|           Munoz Ltd|       1.0|\n",
            "|     Mcdonald-Cooper|       0.0|\n",
            "|Ryan, Mcdonald an...|       0.0|\n",
            "|Schmidt, Johnston...|       0.0|\n",
            "|    Figueroa-Maynard|       1.0|\n",
            "|        Stark-Clarke|       0.0|\n",
            "|Edwards, Webster ...|       1.0|\n",
            "|          Ross Group|       0.0|\n",
            "|Smith, Moran and ...|       0.0|\n",
            "|             Lee Inc|       0.0|\n",
            "|  Christensen-Mccann|       0.0|\n",
            "|Hatfield, Johnson...|       0.0|\n",
            "|Thompson, Shelton...|       0.0|\n",
            "|English, King and...|       0.0|\n",
            "+--------------------+----------+\n",
            "only showing top 50 rows\n",
            "\n"
          ]
        }
      ]
    },
    {
      "cell_type": "markdown",
      "metadata": {
        "id": "6ldCXl0CmH7W"
      },
      "source": [
        "> Aqui podemos ver o cliente potencial que pode deixar de adquirir os serviços da empresa."
      ]
    },
    {
      "cell_type": "code",
      "metadata": {
        "id": "StS-DrPilEer"
      },
      "source": [
        ""
      ],
      "execution_count": null,
      "outputs": []
    },
    {
      "cell_type": "code",
      "metadata": {
        "id": "_c3OcmMblEcy"
      },
      "source": [
        ""
      ],
      "execution_count": null,
      "outputs": []
    },
    {
      "cell_type": "code",
      "metadata": {
        "id": "XWOjp52MlEZd"
      },
      "source": [
        ""
      ],
      "execution_count": null,
      "outputs": []
    }
  ]
}