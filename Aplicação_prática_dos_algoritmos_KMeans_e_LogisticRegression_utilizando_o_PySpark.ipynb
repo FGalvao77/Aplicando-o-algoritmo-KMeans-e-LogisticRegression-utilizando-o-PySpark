{
  "nbformat": 4,
  "nbformat_minor": 0,
  "metadata": {
    "colab": {
      "name": "Aplicação prática dos algoritmos KMeans e LogisticRegression utilizando o PySpark.ipynb",
      "provenance": [],
      "collapsed_sections": [],
      "authorship_tag": "ABX9TyMcI1kf+iS/W+3vq+FraQBo",
      "include_colab_link": true
    },
    "kernelspec": {
      "name": "python3",
      "display_name": "Python 3"
    },
    "language_info": {
      "name": "python"
    }
  },
  "cells": [
    {
      "cell_type": "markdown",
      "metadata": {
        "id": "view-in-github",
        "colab_type": "text"
      },
      "source": [
        "<a href=\"https://colab.research.google.com/github/FGalvao77/Aplicando-os-algoritmos-KMeans-e-LogisticRegression-utilizando-o-PySpark/blob/main/Aplica%C3%A7%C3%A3o_pr%C3%A1tica_dos_algoritmos_KMeans_e_LogisticRegression_utilizando_o_PySpark.ipynb\" target=\"_parent\"><img src=\"https://colab.research.google.com/assets/colab-badge.svg\" alt=\"Open In Colab\"/></a>"
      ]
    },
    {
      "cell_type": "markdown",
      "metadata": {
        "id": "PQU5D37BmFXN"
      },
      "source": [
        "# **Aplicação prática dos algoritmos _KMeans_ e _LogisticRegression_ utilizando o `PySpark`**\n",
        "\n",
        "---\n",
        "\n"
      ]
    },
    {
      "cell_type": "markdown",
      "metadata": {
        "id": "IQgZxQefn077"
      },
      "source": [
        "Primeiro vamos configurar o ambiente do _google colab_ para utilização do `PySpark`."
      ]
    },
    {
      "cell_type": "code",
      "metadata": {
        "id": "8MKK7asDeozc"
      },
      "source": [
        "# instalando as dependências\n",
        "!apt-get install openjdk-8-jdk-headless -qq > /dev/null\n",
        "!wget -q https://archive.apache.org/dist/spark/spark-3.1.2/spark-3.1.2-bin-hadoop3.2.tgz\n",
        "!tar xf spark-3.1.2-bin-hadoop3.2.tgz\n",
        "!pip install -q findspark\n",
        "!pip install -q pyspark"
      ],
      "execution_count": 1,
      "outputs": []
    },
    {
      "cell_type": "code",
      "metadata": {
        "id": "pGhxpgslfJMm"
      },
      "source": [
        "# configurando as variáveis de ambiente\n",
        "import os\n",
        "\n",
        "os.environ['JAVA_HOME'] = '/usr/lib/jvm/java-8-openjdk-amd64'\n",
        "os.environ['SPARK_HOME'] = '/content/spark-3.1.2-bin-hadoop3.2'\n",
        "\n",
        "# tornando o pyspark \"importável\"\n",
        "import findspark\n",
        "findspark.init()"
      ],
      "execution_count": 2,
      "outputs": []
    },
    {
      "cell_type": "code",
      "metadata": {
        "colab": {
          "base_uri": "https://localhost:8080/"
        },
        "id": "kApKSqPjgdYL",
        "outputId": "c46aa736-1b33-4a8d-c429-381960b281ec"
      },
      "source": [
        "# vamos ver se os diretórios/dependências necessita de atualizações\n",
        "!apt-get update"
      ],
      "execution_count": 3,
      "outputs": [
        {
          "output_type": "stream",
          "name": "stdout",
          "text": [
            "\r0% [Working]\r            \rHit:1 https://cloud.r-project.org/bin/linux/ubuntu bionic-cran40/ InRelease\n",
            "\r0% [Connecting to archive.ubuntu.com (91.189.88.152)] [Waiting for headers] [Wa\r0% [1 InRelease gpgv 3,626 B] [Connecting to archive.ubuntu.com (91.189.88.152)\r                                                                               \rIgn:2 https://developer.download.nvidia.com/compute/cuda/repos/ubuntu1804/x86_64  InRelease\n",
            "\r0% [1 InRelease gpgv 3,626 B] [Waiting for headers] [Waiting for headers] [Wait\r                                                                               \rHit:3 http://ppa.launchpad.net/c2d4u.team/c2d4u4.0+/ubuntu bionic InRelease\n",
            "Hit:4 http://security.ubuntu.com/ubuntu bionic-security InRelease\n",
            "Hit:5 http://archive.ubuntu.com/ubuntu bionic InRelease\n",
            "Hit:6 http://archive.ubuntu.com/ubuntu bionic-updates InRelease\n",
            "Ign:7 https://developer.download.nvidia.com/compute/machine-learning/repos/ubuntu1804/x86_64  InRelease\n",
            "Hit:8 http://ppa.launchpad.net/cran/libgit2/ubuntu bionic InRelease\n",
            "Hit:9 https://developer.download.nvidia.com/compute/cuda/repos/ubuntu1804/x86_64  Release\n",
            "Hit:10 https://developer.download.nvidia.com/compute/machine-learning/repos/ubuntu1804/x86_64  Release\n",
            "Hit:11 http://archive.ubuntu.com/ubuntu bionic-backports InRelease\n",
            "Hit:12 http://ppa.launchpad.net/deadsnakes/ppa/ubuntu bionic InRelease\n",
            "Hit:13 http://ppa.launchpad.net/graphics-drivers/ppa/ubuntu bionic InRelease\n",
            "Reading package lists... Done\n"
          ]
        }
      ]
    },
    {
      "cell_type": "code",
      "metadata": {
        "colab": {
          "base_uri": "https://localhost:8080/"
        },
        "id": "N5ZfWhrGgl-v",
        "outputId": "d3b22911-6f09-427b-f659-1cae52304e6f"
      },
      "source": [
        "# atualizando os diretórios/dependências\n",
        "!apt upgrade"
      ],
      "execution_count": 4,
      "outputs": [
        {
          "output_type": "stream",
          "name": "stdout",
          "text": [
            "Reading package lists... Done\n",
            "Building dependency tree       \n",
            "Reading state information... Done\n",
            "Calculating upgrade... Done\n",
            "The following packages have been kept back:\n",
            "  libcudnn8 libcudnn8-dev libnccl-dev libnccl2\n",
            "0 upgraded, 0 newly installed, 0 to remove and 4 not upgraded.\n"
          ]
        }
      ]
    },
    {
      "cell_type": "code",
      "metadata": {
        "colab": {
          "base_uri": "https://localhost:8080/"
        },
        "id": "KjK-A-hSgmfz",
        "outputId": "2573de3f-0bd3-4fd1-9117-aac580daa7fb"
      },
      "source": [
        "# removendo aplicações obsoletas\n",
        "!apt autoremove"
      ],
      "execution_count": 5,
      "outputs": [
        {
          "output_type": "stream",
          "name": "stdout",
          "text": [
            "Reading package lists... Done\n",
            "Building dependency tree       \n",
            "Reading state information... Done\n",
            "0 upgraded, 0 newly installed, 0 to remove and 4 not upgraded.\n"
          ]
        }
      ]
    },
    {
      "cell_type": "code",
      "metadata": {
        "id": "TVcm-naZmBFj"
      },
      "source": [
        "# instalando o PySpark\n",
        "# !pip install pyspark"
      ],
      "execution_count": 6,
      "outputs": []
    },
    {
      "cell_type": "markdown",
      "metadata": {
        "id": "w9Z4dxQLoHky"
      },
      "source": [
        "**Inicializando a sessão do Spark**\n",
        "\n",
        "Segundo passao, precisamos inicializar a sessão do Spark."
      ]
    },
    {
      "cell_type": "code",
      "metadata": {
        "id": "Pc1rxvBPmaOL"
      },
      "source": [
        "# importando a biblioteca para iniciar a sessão spark\n",
        "from pyspark.sql import SparkSession"
      ],
      "execution_count": 7,
      "outputs": []
    },
    {
      "cell_type": "code",
      "metadata": {
        "id": "0LeuexnTmaLN"
      },
      "source": [
        "# iniciando a sessão spark\n",
        "spark = SparkSession.builder\\\n",
        "    .appName('PySpark MLlib - KMeans | LogisticRegression')\\\n",
        "    .getOrCreate()"
      ],
      "execution_count": 8,
      "outputs": []
    },
    {
      "cell_type": "code",
      "metadata": {
        "colab": {
          "base_uri": "https://localhost:8080/",
          "height": 219
        },
        "id": "HhxpsMKQmaH8",
        "outputId": "0600d913-8571-4709-cb79-7c8d9d3e17a0"
      },
      "source": [
        "# visualizando a sessão instanciada\n",
        "spark"
      ],
      "execution_count": 9,
      "outputs": [
        {
          "output_type": "execute_result",
          "data": {
            "text/html": [
              "\n",
              "            <div>\n",
              "                <p><b>SparkSession - in-memory</b></p>\n",
              "                \n",
              "        <div>\n",
              "            <p><b>SparkContext</b></p>\n",
              "\n",
              "            <p><a href=\"http://792659246b9c:4040\">Spark UI</a></p>\n",
              "\n",
              "            <dl>\n",
              "              <dt>Version</dt>\n",
              "                <dd><code>v3.1.2</code></dd>\n",
              "              <dt>Master</dt>\n",
              "                <dd><code>local[*]</code></dd>\n",
              "              <dt>AppName</dt>\n",
              "                <dd><code>PySpark MLlib - KMeans | LogisticRegression</code></dd>\n",
              "            </dl>\n",
              "        </div>\n",
              "        \n",
              "            </div>\n",
              "        "
            ],
            "text/plain": [
              "<pyspark.sql.session.SparkSession at 0x7ff21e26fa10>"
            ]
          },
          "metadata": {},
          "execution_count": 9
        }
      ]
    },
    {
      "cell_type": "markdown",
      "metadata": {
        "id": "Bv9DrypY1Zsi"
      },
      "source": [
        "## **KMeans**"
      ]
    },
    {
      "cell_type": "markdown",
      "metadata": {
        "id": "GzlflV3VuRnH"
      },
      "source": [
        "**Encontrando Hackers com PySpark MLlib**\n",
        "\n",
        "Um sistema da empresa foi hackeado e muitos dados foram roubados. Felizmente, os metadados de cada sessão usada pelos hackers para se conectar foram gravados e estão disponíveis para nós. Existem 3 possíveis hackers, ou até mais.\n",
        "\n",
        "Uma prática comum entre os hackers é a compensação do trabalho. Isso significa que os hackers fazem aproximadamente a mesma quantidade de hacks. \n",
        "\n",
        "- **Descrição do problema:**\n",
        "\n",
        " Encontrar o número de hackers que invadiu o sistema. Então, vamos usar o _clustering_ para descobrir o número de hackers."
      ]
    },
    {
      "cell_type": "markdown",
      "metadata": {
        "id": "Xddjgd-m11B4"
      },
      "source": [
        "**Carregando o conjunto de dados**\n",
        "\n",
        "Primeiro importaremos o conjunto de dados e para em seguida, utilizando o método `spark.read.csv` para realizarmos a leitura do mesmo. "
      ]
    },
    {
      "cell_type": "code",
      "metadata": {
        "colab": {
          "base_uri": "https://localhost:8080/"
        },
        "id": "o-XGAoEymaBy",
        "outputId": "ff324cb3-3ca0-4af6-ded0-539560441df2"
      },
      "source": [
        "# importando o conjunto de dados\n",
        "!wget 'https://raw.githubusercontent.com/farhanafayez/PySpark-K-means-Clustering-ML/master/hack_data.csv'"
      ],
      "execution_count": 10,
      "outputs": [
        {
          "output_type": "stream",
          "name": "stdout",
          "text": [
            "--2021-12-04 00:25:19--  https://raw.githubusercontent.com/farhanafayez/PySpark-K-means-Clustering-ML/master/hack_data.csv\n",
            "Resolving raw.githubusercontent.com (raw.githubusercontent.com)... 185.199.109.133, 185.199.108.133, 185.199.110.133, ...\n",
            "Connecting to raw.githubusercontent.com (raw.githubusercontent.com)|185.199.109.133|:443... connected.\n",
            "HTTP request sent, awaiting response... 200 OK\n",
            "Length: 14268 (14K) [text/plain]\n",
            "Saving to: ‘hack_data.csv.1’\n",
            "\n",
            "\rhack_data.csv.1       0%[                    ]       0  --.-KB/s               \rhack_data.csv.1     100%[===================>]  13.93K  --.-KB/s    in 0s      \n",
            "\n",
            "2021-12-04 00:25:19 (70.8 MB/s) - ‘hack_data.csv.1’ saved [14268/14268]\n",
            "\n"
          ]
        }
      ]
    },
    {
      "cell_type": "code",
      "metadata": {
        "colab": {
          "base_uri": "https://localhost:8080/"
        },
        "id": "_ZaMeJI0W96d",
        "outputId": "6f00fa2c-b3d5-4afb-a1e3-fc863bcbb8dd"
      },
      "source": [
        "# visualizando o conjunto de dados\n",
        "!head hack_data.csv"
      ],
      "execution_count": 11,
      "outputs": [
        {
          "output_type": "stream",
          "name": "stdout",
          "text": [
            "Session_Connection_Time,Bytes Transferred,Kali_Trace_Used,Servers_Corrupted,Pages_Corrupted,Location,WPM_Typing_Speed\n",
            "8.0,391.09,1,2.96,7.0,Slovenia,72.37\n",
            "20.0,720.99,0,3.04,9.0,British Virgin Islands,69.08\n",
            "31.0,356.32,1,3.71,8.0,Tokelau,70.58\n",
            "2.0,228.08,1,2.48,8.0,Bolivia,70.8\n",
            "20.0,408.5,0,3.57,8.0,Iraq,71.28\n",
            "1.0,390.69,1,2.79,9.0,Marshall Islands,71.57\n",
            "18.0,342.97,1,5.1,7.0,Georgia,72.32\n",
            "22.0,101.61,1,3.03,7.0,Timor-Leste,72.03\n",
            "15.0,275.53,1,3.53,8.0,Palestinian Territory,70.17\n"
          ]
        }
      ]
    },
    {
      "cell_type": "code",
      "metadata": {
        "id": "niugca3RmZ_M"
      },
      "source": [
        "# carregando o conjunto de dados e instanciando no objeto \"df\"\n",
        "df = spark.read.csv('/content/hack_data.csv', \n",
        "                    header = True, \n",
        "                    inferSchema = True)"
      ],
      "execution_count": 12,
      "outputs": []
    },
    {
      "cell_type": "markdown",
      "metadata": {
        "id": "OMKxKp4rp_0N"
      },
      "source": [
        "**Esquema dos dados recuperados**\n",
        "\n",
        "Vamos dar uma olhada no esquema de dados para entender melhor com o que estamos lidando."
      ]
    },
    {
      "cell_type": "code",
      "metadata": {
        "colab": {
          "base_uri": "https://localhost:8080/"
        },
        "id": "LF5QmVFkmZ9K",
        "outputId": "d961b1ef-cd51-438e-fe03-4034419ea54e"
      },
      "source": [
        "# visualizando o tipo de dado de cada atributo\n",
        "df.printSchema()"
      ],
      "execution_count": 13,
      "outputs": [
        {
          "output_type": "stream",
          "name": "stdout",
          "text": [
            "root\n",
            " |-- Session_Connection_Time: double (nullable = true)\n",
            " |-- Bytes Transferred: double (nullable = true)\n",
            " |-- Kali_Trace_Used: integer (nullable = true)\n",
            " |-- Servers_Corrupted: double (nullable = true)\n",
            " |-- Pages_Corrupted: double (nullable = true)\n",
            " |-- Location: string (nullable = true)\n",
            " |-- WPM_Typing_Speed: double (nullable = true)\n",
            "\n"
          ]
        }
      ]
    },
    {
      "cell_type": "code",
      "metadata": {
        "colab": {
          "base_uri": "https://localhost:8080/"
        },
        "id": "NqZ_GqC7XYgr",
        "outputId": "51d4879b-1cd8-492e-d4a6-5a7842a383ba"
      },
      "source": [
        "# quantidade de observações presente no conjunto de dados\n",
        "df.count()"
      ],
      "execution_count": 14,
      "outputs": [
        {
          "output_type": "execute_result",
          "data": {
            "text/plain": [
              "334"
            ]
          },
          "metadata": {},
          "execution_count": 14
        }
      ]
    },
    {
      "cell_type": "code",
      "metadata": {
        "colab": {
          "base_uri": "https://localhost:8080/"
        },
        "id": "t4SZMOzcX09d",
        "outputId": "509535f5-d736-4469-84b8-2e8fe62e9535"
      },
      "source": [
        "# visualizando as 5 primeiras linhas\n",
        "df.head(5)"
      ],
      "execution_count": 15,
      "outputs": [
        {
          "output_type": "execute_result",
          "data": {
            "text/plain": [
              "[Row(Session_Connection_Time=8.0, Bytes Transferred=391.09, Kali_Trace_Used=1, Servers_Corrupted=2.96, Pages_Corrupted=7.0, Location='Slovenia', WPM_Typing_Speed=72.37),\n",
              " Row(Session_Connection_Time=20.0, Bytes Transferred=720.99, Kali_Trace_Used=0, Servers_Corrupted=3.04, Pages_Corrupted=9.0, Location='British Virgin Islands', WPM_Typing_Speed=69.08),\n",
              " Row(Session_Connection_Time=31.0, Bytes Transferred=356.32, Kali_Trace_Used=1, Servers_Corrupted=3.71, Pages_Corrupted=8.0, Location='Tokelau', WPM_Typing_Speed=70.58),\n",
              " Row(Session_Connection_Time=2.0, Bytes Transferred=228.08, Kali_Trace_Used=1, Servers_Corrupted=2.48, Pages_Corrupted=8.0, Location='Bolivia', WPM_Typing_Speed=70.8),\n",
              " Row(Session_Connection_Time=20.0, Bytes Transferred=408.5, Kali_Trace_Used=0, Servers_Corrupted=3.57, Pages_Corrupted=8.0, Location='Iraq', WPM_Typing_Speed=71.28)]"
            ]
          },
          "metadata": {},
          "execution_count": 15
        }
      ]
    },
    {
      "cell_type": "code",
      "metadata": {
        "colab": {
          "base_uri": "https://localhost:8080/"
        },
        "id": "IiCcYoJSXxMb",
        "outputId": "b6ddff76-558b-45fa-89fa-11017e55d651"
      },
      "source": [
        "# visualizando as 5 primeiras linhas de forma estrutura como tabela\n",
        "df.show(5)"
      ],
      "execution_count": 16,
      "outputs": [
        {
          "output_type": "stream",
          "name": "stdout",
          "text": [
            "+-----------------------+-----------------+---------------+-----------------+---------------+--------------------+----------------+\n",
            "|Session_Connection_Time|Bytes Transferred|Kali_Trace_Used|Servers_Corrupted|Pages_Corrupted|            Location|WPM_Typing_Speed|\n",
            "+-----------------------+-----------------+---------------+-----------------+---------------+--------------------+----------------+\n",
            "|                    8.0|           391.09|              1|             2.96|            7.0|            Slovenia|           72.37|\n",
            "|                   20.0|           720.99|              0|             3.04|            9.0|British Virgin Is...|           69.08|\n",
            "|                   31.0|           356.32|              1|             3.71|            8.0|             Tokelau|           70.58|\n",
            "|                    2.0|           228.08|              1|             2.48|            8.0|             Bolivia|            70.8|\n",
            "|                   20.0|            408.5|              0|             3.57|            8.0|                Iraq|           71.28|\n",
            "+-----------------------+-----------------+---------------+-----------------+---------------+--------------------+----------------+\n",
            "only showing top 5 rows\n",
            "\n"
          ]
        }
      ]
    },
    {
      "cell_type": "code",
      "metadata": {
        "colab": {
          "base_uri": "https://localhost:8080/"
        },
        "id": "8kvjtqS5ysHl",
        "outputId": "28e9320e-3b82-4b9b-d245-e0792994849d"
      },
      "source": [
        "# estatística descritiva do conjunto de dados\n",
        "df.describe().show()"
      ],
      "execution_count": 17,
      "outputs": [
        {
          "output_type": "stream",
          "name": "stdout",
          "text": [
            "+-------+-----------------------+------------------+------------------+-----------------+------------------+-----------+------------------+\n",
            "|summary|Session_Connection_Time| Bytes Transferred|   Kali_Trace_Used|Servers_Corrupted|   Pages_Corrupted|   Location|  WPM_Typing_Speed|\n",
            "+-------+-----------------------+------------------+------------------+-----------------+------------------+-----------+------------------+\n",
            "|  count|                    334|               334|               334|              334|               334|        334|               334|\n",
            "|   mean|     30.008982035928145| 607.2452694610777|0.5119760479041916|5.258502994011977|10.838323353293413|       null|57.342395209580864|\n",
            "| stddev|     14.088200614636158|286.33593163576757|0.5006065264451406| 2.30190693339697|  3.06352633036022|       null| 13.41106336843464|\n",
            "|    min|                    1.0|              10.0|                 0|              1.0|               6.0|Afghanistan|              40.0|\n",
            "|    max|                   60.0|            1330.5|                 1|             10.0|              15.0|   Zimbabwe|              75.0|\n",
            "+-------+-----------------------+------------------+------------------+-----------------+------------------+-----------+------------------+\n",
            "\n"
          ]
        }
      ]
    },
    {
      "cell_type": "code",
      "metadata": {
        "colab": {
          "base_uri": "https://localhost:8080/"
        },
        "id": "YfYvheDszSmF",
        "outputId": "c954462f-d8bf-401d-f7d4-efa678bd74d3"
      },
      "source": [
        "# estatística descritiva de um atributo específico\n",
        "df.select('Bytes Transferred').describe().show()"
      ],
      "execution_count": 18,
      "outputs": [
        {
          "output_type": "stream",
          "name": "stdout",
          "text": [
            "+-------+------------------+\n",
            "|summary| Bytes Transferred|\n",
            "+-------+------------------+\n",
            "|  count|               334|\n",
            "|   mean| 607.2452694610777|\n",
            "| stddev|286.33593163576757|\n",
            "|    min|              10.0|\n",
            "|    max|            1330.5|\n",
            "+-------+------------------+\n",
            "\n"
          ]
        }
      ]
    },
    {
      "cell_type": "code",
      "metadata": {
        "colab": {
          "base_uri": "https://localhost:8080/"
        },
        "id": "HaTBm5bIzlhi",
        "outputId": "79c9073b-e8f7-40b5-b6d5-ae58c8e9f49a"
      },
      "source": [
        "# estatística descritiva de dois atributos específicos\n",
        "df.select('Bytes Transferred', 'Kali_Trace_Used').describe().show()"
      ],
      "execution_count": 19,
      "outputs": [
        {
          "output_type": "stream",
          "name": "stdout",
          "text": [
            "+-------+------------------+------------------+\n",
            "|summary| Bytes Transferred|   Kali_Trace_Used|\n",
            "+-------+------------------+------------------+\n",
            "|  count|               334|               334|\n",
            "|   mean| 607.2452694610777|0.5119760479041916|\n",
            "| stddev|286.33593163576757|0.5006065264451406|\n",
            "|    min|              10.0|                 0|\n",
            "|    max|            1330.5|                 1|\n",
            "+-------+------------------+------------------+\n",
            "\n"
          ]
        }
      ]
    },
    {
      "cell_type": "code",
      "metadata": {
        "colab": {
          "base_uri": "https://localhost:8080/",
          "height": 206
        },
        "id": "sFFNUlazYGQg",
        "outputId": "dc105930-e5aa-4d6a-cf09-4b7f24a7adb4"
      },
      "source": [
        "# estatística descritiva do conjunto de dados, utilizando a função \".toPandas()\"\n",
        "df.describe().toPandas()"
      ],
      "execution_count": 20,
      "outputs": [
        {
          "output_type": "execute_result",
          "data": {
            "text/html": [
              "<div>\n",
              "<style scoped>\n",
              "    .dataframe tbody tr th:only-of-type {\n",
              "        vertical-align: middle;\n",
              "    }\n",
              "\n",
              "    .dataframe tbody tr th {\n",
              "        vertical-align: top;\n",
              "    }\n",
              "\n",
              "    .dataframe thead th {\n",
              "        text-align: right;\n",
              "    }\n",
              "</style>\n",
              "<table border=\"1\" class=\"dataframe\">\n",
              "  <thead>\n",
              "    <tr style=\"text-align: right;\">\n",
              "      <th></th>\n",
              "      <th>summary</th>\n",
              "      <th>Session_Connection_Time</th>\n",
              "      <th>Bytes Transferred</th>\n",
              "      <th>Kali_Trace_Used</th>\n",
              "      <th>Servers_Corrupted</th>\n",
              "      <th>Pages_Corrupted</th>\n",
              "      <th>Location</th>\n",
              "      <th>WPM_Typing_Speed</th>\n",
              "    </tr>\n",
              "  </thead>\n",
              "  <tbody>\n",
              "    <tr>\n",
              "      <th>0</th>\n",
              "      <td>count</td>\n",
              "      <td>334</td>\n",
              "      <td>334</td>\n",
              "      <td>334</td>\n",
              "      <td>334</td>\n",
              "      <td>334</td>\n",
              "      <td>334</td>\n",
              "      <td>334</td>\n",
              "    </tr>\n",
              "    <tr>\n",
              "      <th>1</th>\n",
              "      <td>mean</td>\n",
              "      <td>30.008982035928145</td>\n",
              "      <td>607.2452694610777</td>\n",
              "      <td>0.5119760479041916</td>\n",
              "      <td>5.258502994011977</td>\n",
              "      <td>10.838323353293413</td>\n",
              "      <td>None</td>\n",
              "      <td>57.342395209580864</td>\n",
              "    </tr>\n",
              "    <tr>\n",
              "      <th>2</th>\n",
              "      <td>stddev</td>\n",
              "      <td>14.088200614636158</td>\n",
              "      <td>286.33593163576757</td>\n",
              "      <td>0.5006065264451406</td>\n",
              "      <td>2.30190693339697</td>\n",
              "      <td>3.06352633036022</td>\n",
              "      <td>None</td>\n",
              "      <td>13.41106336843464</td>\n",
              "    </tr>\n",
              "    <tr>\n",
              "      <th>3</th>\n",
              "      <td>min</td>\n",
              "      <td>1.0</td>\n",
              "      <td>10.0</td>\n",
              "      <td>0</td>\n",
              "      <td>1.0</td>\n",
              "      <td>6.0</td>\n",
              "      <td>Afghanistan</td>\n",
              "      <td>40.0</td>\n",
              "    </tr>\n",
              "    <tr>\n",
              "      <th>4</th>\n",
              "      <td>max</td>\n",
              "      <td>60.0</td>\n",
              "      <td>1330.5</td>\n",
              "      <td>1</td>\n",
              "      <td>10.0</td>\n",
              "      <td>15.0</td>\n",
              "      <td>Zimbabwe</td>\n",
              "      <td>75.0</td>\n",
              "    </tr>\n",
              "  </tbody>\n",
              "</table>\n",
              "</div>"
            ],
            "text/plain": [
              "  summary Session_Connection_Time  ...     Location    WPM_Typing_Speed\n",
              "0   count                     334  ...          334                 334\n",
              "1    mean      30.008982035928145  ...         None  57.342395209580864\n",
              "2  stddev      14.088200614636158  ...         None   13.41106336843464\n",
              "3     min                     1.0  ...  Afghanistan                40.0\n",
              "4     max                    60.0  ...     Zimbabwe                75.0\n",
              "\n",
              "[5 rows x 8 columns]"
            ]
          },
          "metadata": {},
          "execution_count": 20
        }
      ]
    },
    {
      "cell_type": "code",
      "metadata": {
        "colab": {
          "base_uri": "https://localhost:8080/",
          "height": 206
        },
        "id": "WBPYKc5gYGNr",
        "outputId": "b0ea1c7b-deed-4190-923e-e1b2947499ba"
      },
      "source": [
        "# estatística descritiva de um atributo específico\n",
        "df.select('Session_Connection_Time').describe().toPandas()"
      ],
      "execution_count": 21,
      "outputs": [
        {
          "output_type": "execute_result",
          "data": {
            "text/html": [
              "<div>\n",
              "<style scoped>\n",
              "    .dataframe tbody tr th:only-of-type {\n",
              "        vertical-align: middle;\n",
              "    }\n",
              "\n",
              "    .dataframe tbody tr th {\n",
              "        vertical-align: top;\n",
              "    }\n",
              "\n",
              "    .dataframe thead th {\n",
              "        text-align: right;\n",
              "    }\n",
              "</style>\n",
              "<table border=\"1\" class=\"dataframe\">\n",
              "  <thead>\n",
              "    <tr style=\"text-align: right;\">\n",
              "      <th></th>\n",
              "      <th>summary</th>\n",
              "      <th>Session_Connection_Time</th>\n",
              "    </tr>\n",
              "  </thead>\n",
              "  <tbody>\n",
              "    <tr>\n",
              "      <th>0</th>\n",
              "      <td>count</td>\n",
              "      <td>334</td>\n",
              "    </tr>\n",
              "    <tr>\n",
              "      <th>1</th>\n",
              "      <td>mean</td>\n",
              "      <td>30.008982035928145</td>\n",
              "    </tr>\n",
              "    <tr>\n",
              "      <th>2</th>\n",
              "      <td>stddev</td>\n",
              "      <td>14.088200614636158</td>\n",
              "    </tr>\n",
              "    <tr>\n",
              "      <th>3</th>\n",
              "      <td>min</td>\n",
              "      <td>1.0</td>\n",
              "    </tr>\n",
              "    <tr>\n",
              "      <th>4</th>\n",
              "      <td>max</td>\n",
              "      <td>60.0</td>\n",
              "    </tr>\n",
              "  </tbody>\n",
              "</table>\n",
              "</div>"
            ],
            "text/plain": [
              "  summary Session_Connection_Time\n",
              "0   count                     334\n",
              "1    mean      30.008982035928145\n",
              "2  stddev      14.088200614636158\n",
              "3     min                     1.0\n",
              "4     max                    60.0"
            ]
          },
          "metadata": {},
          "execution_count": 21
        }
      ]
    },
    {
      "cell_type": "code",
      "metadata": {
        "colab": {
          "base_uri": "https://localhost:8080/",
          "height": 143
        },
        "id": "2RXbQTGsYGK5",
        "outputId": "7bddda19-cca9-4c5b-f902-5dfe7bc435a0"
      },
      "source": [
        "# estatística descritiva de dois atributos específicos\n",
        "df.select('Session_Connection_Time', 'Pages_Corrupted')\\\n",
        "    .describe().toPandas().T"
      ],
      "execution_count": 22,
      "outputs": [
        {
          "output_type": "execute_result",
          "data": {
            "text/html": [
              "<div>\n",
              "<style scoped>\n",
              "    .dataframe tbody tr th:only-of-type {\n",
              "        vertical-align: middle;\n",
              "    }\n",
              "\n",
              "    .dataframe tbody tr th {\n",
              "        vertical-align: top;\n",
              "    }\n",
              "\n",
              "    .dataframe thead th {\n",
              "        text-align: right;\n",
              "    }\n",
              "</style>\n",
              "<table border=\"1\" class=\"dataframe\">\n",
              "  <thead>\n",
              "    <tr style=\"text-align: right;\">\n",
              "      <th></th>\n",
              "      <th>0</th>\n",
              "      <th>1</th>\n",
              "      <th>2</th>\n",
              "      <th>3</th>\n",
              "      <th>4</th>\n",
              "    </tr>\n",
              "  </thead>\n",
              "  <tbody>\n",
              "    <tr>\n",
              "      <th>summary</th>\n",
              "      <td>count</td>\n",
              "      <td>mean</td>\n",
              "      <td>stddev</td>\n",
              "      <td>min</td>\n",
              "      <td>max</td>\n",
              "    </tr>\n",
              "    <tr>\n",
              "      <th>Session_Connection_Time</th>\n",
              "      <td>334</td>\n",
              "      <td>30.008982035928145</td>\n",
              "      <td>14.088200614636158</td>\n",
              "      <td>1.0</td>\n",
              "      <td>60.0</td>\n",
              "    </tr>\n",
              "    <tr>\n",
              "      <th>Pages_Corrupted</th>\n",
              "      <td>334</td>\n",
              "      <td>10.838323353293413</td>\n",
              "      <td>3.06352633036022</td>\n",
              "      <td>6.0</td>\n",
              "      <td>15.0</td>\n",
              "    </tr>\n",
              "  </tbody>\n",
              "</table>\n",
              "</div>"
            ],
            "text/plain": [
              "                             0                   1  ...    3     4\n",
              "summary                  count                mean  ...  min   max\n",
              "Session_Connection_Time    334  30.008982035928145  ...  1.0  60.0\n",
              "Pages_Corrupted            334  10.838323353293413  ...  6.0  15.0\n",
              "\n",
              "[3 rows x 5 columns]"
            ]
          },
          "metadata": {},
          "execution_count": 22
        }
      ]
    },
    {
      "cell_type": "markdown",
      "metadata": {
        "id": "EIy0svTsqTlW"
      },
      "source": [
        "**Importando o `VectorAssembler` e criando os recursos necessários para aplicação do modelo**\n",
        "\n",
        "Devemos transformar os dados do tipo numérico usando a função `VectorAssembler` em uma única coluna onde cada linha do DataFrame contém um vetor de recurso. Para criar nossos clusters, precisamos selecionar colunas com base nas quais criaremos nossa coluna de recursos. São elas:\n",
        "\n",
        "- Session_Connection_Time\n",
        "- Bytes transferidos\n",
        "- Kali_Trace_Used\n",
        "- Servers_Corrupted\n",
        "- Pages_Corrupted\n",
        "- WPM_Typing_Speed"
      ]
    },
    {
      "cell_type": "code",
      "metadata": {
        "id": "TxEBuP7bmZ6K"
      },
      "source": [
        "# importando os algoritmos \"Vectors\" e \"VectorAssembler\"\n",
        "from pyspark.ml.linalg import Vectors\n",
        "from pyspark.ml.feature import VectorAssembler"
      ],
      "execution_count": 23,
      "outputs": []
    },
    {
      "cell_type": "code",
      "metadata": {
        "colab": {
          "base_uri": "https://localhost:8080/"
        },
        "id": "gYNvFMBtmZ3T",
        "outputId": "685ff38c-45c1-4306-d9f6-4cc89845f41e"
      },
      "source": [
        "# visualizando o nome dos atributos\n",
        "df.columns"
      ],
      "execution_count": 24,
      "outputs": [
        {
          "output_type": "execute_result",
          "data": {
            "text/plain": [
              "['Session_Connection_Time',\n",
              " 'Bytes Transferred',\n",
              " 'Kali_Trace_Used',\n",
              " 'Servers_Corrupted',\n",
              " 'Pages_Corrupted',\n",
              " 'Location',\n",
              " 'WPM_Typing_Speed']"
            ]
          },
          "metadata": {},
          "execution_count": 24
        }
      ]
    },
    {
      "cell_type": "code",
      "metadata": {
        "id": "JSYQt9KTmZ0i"
      },
      "source": [
        "# instanciando os atributos de interesse\n",
        "feat_cols = ['Session_Connection_Time',\n",
        "             'Bytes Transferred',\n",
        "             'Kali_Trace_Used',\n",
        "             'Servers_Corrupted',\n",
        "             'Pages_Corrupted',\n",
        "             'WPM_Typing_Speed']"
      ],
      "execution_count": 25,
      "outputs": []
    },
    {
      "cell_type": "code",
      "metadata": {
        "id": "WpaHJOdamZx6"
      },
      "source": [
        "# aplicando a transformação das instâncias das colunas de interesse\n",
        "vec_assembler = VectorAssembler(inputCols = feat_cols, \n",
        "                                outputCol = 'features')\n",
        "\n",
        "# instanciando o resultado em um dataframe\n",
        "final_df = vec_assembler.transform(df)"
      ],
      "execution_count": 26,
      "outputs": []
    },
    {
      "cell_type": "code",
      "metadata": {
        "colab": {
          "base_uri": "https://localhost:8080/"
        },
        "id": "impmrwRFmZu7",
        "outputId": "ef038ab0-1992-4f33-f0c7-07060de93809"
      },
      "source": [
        "# visualizando as 5 primeiras linhas do objeto dataframe criado\n",
        "final_df.show(5)"
      ],
      "execution_count": 27,
      "outputs": [
        {
          "output_type": "stream",
          "name": "stdout",
          "text": [
            "+-----------------------+-----------------+---------------+-----------------+---------------+--------------------+----------------+--------------------+\n",
            "|Session_Connection_Time|Bytes Transferred|Kali_Trace_Used|Servers_Corrupted|Pages_Corrupted|            Location|WPM_Typing_Speed|            features|\n",
            "+-----------------------+-----------------+---------------+-----------------+---------------+--------------------+----------------+--------------------+\n",
            "|                    8.0|           391.09|              1|             2.96|            7.0|            Slovenia|           72.37|[8.0,391.09,1.0,2...|\n",
            "|                   20.0|           720.99|              0|             3.04|            9.0|British Virgin Is...|           69.08|[20.0,720.99,0.0,...|\n",
            "|                   31.0|           356.32|              1|             3.71|            8.0|             Tokelau|           70.58|[31.0,356.32,1.0,...|\n",
            "|                    2.0|           228.08|              1|             2.48|            8.0|             Bolivia|            70.8|[2.0,228.08,1.0,2...|\n",
            "|                   20.0|            408.5|              0|             3.57|            8.0|                Iraq|           71.28|[20.0,408.5,0.0,3...|\n",
            "+-----------------------+-----------------+---------------+-----------------+---------------+--------------------+----------------+--------------------+\n",
            "only showing top 5 rows\n",
            "\n"
          ]
        }
      ]
    },
    {
      "cell_type": "markdown",
      "metadata": {
        "id": "KYuRQmXytJke"
      },
      "source": [
        "**Importando a biblioteca `StandardScaler`**\n",
        "\n",
        "A centralização e o escalonamento acontecem independentemente em cada recurso, computando as estatísticas relevantes nas amostras do conjunto de treinamento. A _média_ e o _desvio padrão_ são então armazenados para serem usados ​​em dados posteriores usando o método de transformação.\n",
        "\n",
        "A padronização de um conjunto de dados é um requisito comum para muitos estimadores de aprendizado de máquina, pois eles podem se comportar mal se o recurso individual não se parecer mais ou menos com dados normalmente distribuídos."
      ]
    },
    {
      "cell_type": "code",
      "metadata": {
        "id": "9zwcWeacmZsE"
      },
      "source": [
        "# importando a biblioteca para escalonamento dos dados\n",
        "from pyspark.ml.feature import StandardScaler"
      ],
      "execution_count": 28,
      "outputs": []
    },
    {
      "cell_type": "code",
      "metadata": {
        "id": "HabxwUkumZpC"
      },
      "source": [
        "# instanciando o algoritmo no objeto \"scaler\" e passando como argumentos:\n",
        "# de entrada o atributo \"features\" e de saída o \"scaled_feats\"\n",
        "scaler = StandardScaler(inputCol = 'features', \n",
        "                        outputCol = 'scaled_feats', \n",
        "                        withStd = True,               # desvio padrão \n",
        "                        withMean = False)             # média"
      ],
      "execution_count": 29,
      "outputs": []
    },
    {
      "cell_type": "markdown",
      "metadata": {
        "id": "Eb3p7Eeit4Dv"
      },
      "source": [
        "**Estatísticas de resumo de computação**\n",
        "\n",
        "Vamos calcular as estatísticas de resumo ajustando o StandardScaler. Em seguida, normalize cada recurso para ter um desvio padrão da unidade."
      ]
    },
    {
      "cell_type": "code",
      "metadata": {
        "id": "hk7WwSMZtHuu"
      },
      "source": [
        "# treinado o modelo para escalonar os dados do objeto \"final_df\"\n",
        "scaler_model = scaler.fit(final_df)\n",
        "\n",
        "# o resultado final armazenaremos no objeto \"cluster_final_data\"\n",
        "cluster_final_data = scaler_model.transform(final_df)"
      ],
      "execution_count": 30,
      "outputs": []
    },
    {
      "cell_type": "code",
      "metadata": {
        "colab": {
          "base_uri": "https://localhost:8080/"
        },
        "id": "wzdBkW5cxS4z",
        "outputId": "c8075eb1-1f63-48ab-8fe3-4c9036f868e2"
      },
      "source": [
        "# visualizando as  primeiras linhas do objeto criado acima\n",
        "cluster_final_data.show(3)"
      ],
      "execution_count": 31,
      "outputs": [
        {
          "output_type": "stream",
          "name": "stdout",
          "text": [
            "+-----------------------+-----------------+---------------+-----------------+---------------+--------------------+----------------+--------------------+--------------------+\n",
            "|Session_Connection_Time|Bytes Transferred|Kali_Trace_Used|Servers_Corrupted|Pages_Corrupted|            Location|WPM_Typing_Speed|            features|        scaled_feats|\n",
            "+-----------------------+-----------------+---------------+-----------------+---------------+--------------------+----------------+--------------------+--------------------+\n",
            "|                    8.0|           391.09|              1|             2.96|            7.0|            Slovenia|           72.37|[8.0,391.09,1.0,2...|[0.56785108466505...|\n",
            "|                   20.0|           720.99|              0|             3.04|            9.0|British Virgin Is...|           69.08|[20.0,720.99,0.0,...|[1.41962771166263...|\n",
            "|                   31.0|           356.32|              1|             3.71|            8.0|             Tokelau|           70.58|[31.0,356.32,1.0,...|[2.20042295307707...|\n",
            "+-----------------------+-----------------+---------------+-----------------+---------------+--------------------+----------------+--------------------+--------------------+\n",
            "only showing top 3 rows\n",
            "\n"
          ]
        }
      ]
    },
    {
      "cell_type": "markdown",
      "metadata": {
        "id": "1XOOcdBsuF_v"
      },
      "source": [
        "**Construindo o modelo KMeans e calculando a Silhueta com distância euclidiana quadrada**\n",
        "\n",
        "Precisamos primeiro construir nosso modelo. O número de clusters desejados é então passado para o algoritmo. Em seguida, calculamos a Silhueta com distância euclidiana quadrada. \n",
        "\n",
        "Usamos os valores derivados deles para descobrir se temos 2 ou 3 hackers."
      ]
    },
    {
      "cell_type": "markdown",
      "metadata": {
        "id": "5T0nfvjP3APM"
      },
      "source": [
        "**Importando o algortimo `KMeans`**\n"
      ]
    },
    {
      "cell_type": "code",
      "metadata": {
        "id": "iHjqlP25azje"
      },
      "source": [
        "# importando o algoritmo KMeans\n",
        "from pyspark.ml.clustering import KMeans"
      ],
      "execution_count": 32,
      "outputs": []
    },
    {
      "cell_type": "code",
      "metadata": {
        "id": "qyVrLmD1a2KO"
      },
      "source": [
        "# importando o algoritmo para visualização do score do modelo\n",
        "from pyspark.ml.evaluation import ClusteringEvaluator"
      ],
      "execution_count": 33,
      "outputs": []
    },
    {
      "cell_type": "code",
      "metadata": {
        "id": "QqjGyj2ya2IJ"
      },
      "source": [
        "# configurando o objeto avaliador\n",
        "eval = ClusteringEvaluator(predictionCol = 'prediction', \n",
        "                           featuresCol = 'scaled_feats', \n",
        "                           metricName = 'silhouette', \n",
        "                           distanceMeasure = 'squaredEuclidean')"
      ],
      "execution_count": 34,
      "outputs": []
    },
    {
      "cell_type": "code",
      "metadata": {
        "colab": {
          "base_uri": "https://localhost:8080/"
        },
        "id": "uYvauBbna2F-",
        "outputId": "94115204-1e4a-41ce-c221-d3cc775e47ae"
      },
      "source": [
        "# aplicando o modelo e visualiando o score para cada número de clusters\n",
        "silhouette_score = []\n",
        "\n",
        "print('''\n",
        "Sihouette scores - KMeans Clustering\n",
        "++++++++++++++++++++++++++++++++++++\n",
        "\\n\\tModel\\tScore\\t\n",
        "\\t=====\\t=====\\t''')\n",
        "\n",
        "for k in range(2, 11):\n",
        "    model_kmeans = KMeans(featuresCol='scaled_feats', k=k)\n",
        "    model_fit = model_kmeans.fit(cluster_final_data)\n",
        "    output = model_fit.transform(cluster_final_data)\n",
        "    score = eval.evaluate(output)\n",
        "    silhouette_score.append(score)\n",
        "    print(f'\\tK = {k}\\t{round(score, 2)}\\t')"
      ],
      "execution_count": 35,
      "outputs": [
        {
          "output_type": "stream",
          "name": "stdout",
          "text": [
            "\n",
            "Sihouette scores - KMeans Clustering\n",
            "++++++++++++++++++++++++++++++++++++\n",
            "\n",
            "\tModel\tScore\t\n",
            "\t=====\t=====\t\n",
            "\tK = 2\t0.82\t\n",
            "\tK = 3\t0.76\t\n",
            "\tK = 4\t0.72\t\n",
            "\tK = 5\t0.63\t\n",
            "\tK = 6\t0.52\t\n",
            "\tK = 7\t0.57\t\n",
            "\tK = 8\t0.5\t\n",
            "\tK = 9\t0.45\t\n",
            "\tK = 10\t0.39\t\n"
          ]
        }
      ]
    },
    {
      "cell_type": "code",
      "metadata": {
        "id": "cAkQipRua2ED"
      },
      "source": [
        "# biblioteca para visualização gráfica\n",
        "import matplotlib.pyplot as plt"
      ],
      "execution_count": 36,
      "outputs": []
    },
    {
      "cell_type": "code",
      "metadata": {
        "colab": {
          "base_uri": "https://localhost:8080/",
          "height": 334
        },
        "id": "uUwW1OmBa2CR",
        "outputId": "0fd2f682-2bdf-4287-cd6b-8d262182e26c"
      },
      "source": [
        "# visualizando graficamente o score em realação a quantidade de clusters\n",
        "fig, ax = plt.subplots(1, 1, figsize = [9, 5])\n",
        "ax.plot(range(2, 11), silhouette_score)\n",
        "ax.set_xlabel('K')\n",
        "ax.set_ylabel('Score');"
      ],
      "execution_count": 37,
      "outputs": [
        {
          "output_type": "display_data",
          "data": {
            "image/png": "[encoded data removed]",
            "text/plain": [
              "<Figure size 648x360 with 1 Axes>"
            ]
          },
          "metadata": {
            "needs_background": "light"
          }
        }
      ]
    },
    {
      "cell_type": "markdown",
      "metadata": {
        "id": "brA8A5jb7W8t"
      },
      "source": [
        "**Verificação final do número de hackers**\n",
        "\n",
        "Vamos descobrir quantos hackers estiveram envolvidos com base no número de hacks feitos."
      ]
    },
    {
      "cell_type": "code",
      "metadata": {
        "colab": {
          "base_uri": "https://localhost:8080/"
        },
        "id": "OnQwoUX26scp",
        "outputId": "49899e38-e170-43cf-945c-29a95b46b2ab"
      },
      "source": [
        "# modelo com 3 clusters\n",
        "model_kmeans3 = KMeans(featuresCol='scaled_feats', k=3)\n",
        "model_k3 = model_kmeans3.fit(cluster_final_data)\n",
        "model_k3.transform(cluster_final_data).groupBy('prediction').count().show()"
      ],
      "execution_count": 38,
      "outputs": [
        {
          "output_type": "stream",
          "name": "stdout",
          "text": [
            "+----------+-----+\n",
            "|prediction|count|\n",
            "+----------+-----+\n",
            "|         1|  167|\n",
            "|         2|   79|\n",
            "|         0|   88|\n",
            "+----------+-----+\n",
            "\n"
          ]
        }
      ]
    },
    {
      "cell_type": "code",
      "metadata": {
        "colab": {
          "base_uri": "https://localhost:8080/"
        },
        "id": "LWKGoPbf7qAW",
        "outputId": "9085af1b-9dd3-4d30-d744-954223bf755f"
      },
      "source": [
        "# modelo com 2 clusters\n",
        "model_kmeans2 = KMeans(featuresCol='scaled_feats', k=2)\n",
        "model_k2 = model_kmeans2.fit(cluster_final_data)\n",
        "model_k2.transform(cluster_final_data).groupBy('prediction').count().show()"
      ],
      "execution_count": 39,
      "outputs": [
        {
          "output_type": "stream",
          "name": "stdout",
          "text": [
            "+----------+-----+\n",
            "|prediction|count|\n",
            "+----------+-----+\n",
            "|         1|  167|\n",
            "|         0|  167|\n",
            "+----------+-----+\n",
            "\n"
          ]
        }
      ]
    },
    {
      "cell_type": "markdown",
      "metadata": {
        "id": "xdhT2oHNDopi"
      },
      "source": [
        "> Aqui podemos ver que para 3 hackers, nosso modelo produziu 167, 79 e 88 hackers. Isso não é possível porque os hackers geralmente dividem as tarefas entre eles. Em nosso modelo onde K = 2, obtemos 167 número de hacks para ambos os hackers. Portanto, havia apenas 2 hackers envolvidos."
      ]
    },
    {
      "cell_type": "code",
      "metadata": {
        "id": "tK3uv86ItHr_"
      },
      "source": [
        "# kmeans3 = KMeans(featuresCol='scaledFeatures', k=3)\n",
        "# kmeans2 = KMeans(featuresCol='scaledFeatures', k=2)"
      ],
      "execution_count": 40,
      "outputs": []
    },
    {
      "cell_type": "code",
      "metadata": {
        "colab": {
          "base_uri": "https://localhost:8080/"
        },
        "id": "Cd0MNo1hyNuG",
        "outputId": "16e1b8e6-443c-4774-f69c-59802421018a"
      },
      "source": [
        "# treinando o modelo com k=2\n",
        "kmeans = KMeans().setK(2).setSeed(1)\n",
        "model = kmeans.fit(cluster_final_data)\n",
        "\n",
        "# realizando as predições com o modelo após o seu treinamento\n",
        "predictions = model.transform(cluster_final_data)\n",
        "\n",
        "# avaliando o agrupamento  e calculando a pontuação do \"Silhouette\"\n",
        "evaluator = ClusteringEvaluator()\n",
        "\n",
        "silhouette = evaluator.evaluate(predictions)\n",
        "print('Silhouette with squared euclidean distance = ' + str(silhouette))\n",
        "\n",
        "# visualizando os resultados\n",
        "centers = model.clusterCenters()\n",
        "print('\\nCluster Centers [K=2]: ')\n",
        "for center in centers:\n",
        "    print(center)"
      ],
      "execution_count": 41,
      "outputs": [
        {
          "output_type": "stream",
          "name": "stdout",
          "text": [
            "Silhouette with squared euclidean distance = 0.8048521975748283\n",
            "\n",
            "Cluster Centers [K=2]: \n",
            "[4.00060976e+01 8.59157866e+02 5.36585366e-01 6.92634146e+00\n",
            " 1.32134146e+01 4.68612195e+01]\n",
            "[ 20.36470588 364.22370588   0.48823529   3.64952941   8.54705882\n",
            "  67.45364706]\n"
          ]
        }
      ]
    },
    {
      "cell_type": "code",
      "metadata": {
        "id": "7hRvzIYDyNU2",
        "colab": {
          "base_uri": "https://localhost:8080/"
        },
        "outputId": "46941b06-f07a-4404-b248-880386035486"
      },
      "source": [
        "# treinando o modelo com k=2\n",
        "kmeans = KMeans().setK(3).setSeed(1)\n",
        "model = kmeans.fit(cluster_final_data)\n",
        "\n",
        "# realizando as predições com o modelo após o seu treinamento\n",
        "predictions = model.transform(cluster_final_data)\n",
        "\n",
        "# avaliando o agrupamento  e calculando a pontuação do \"Silhouette\"\n",
        "evaluator = ClusteringEvaluator()\n",
        "\n",
        "silhouette = evaluator.evaluate(predictions)\n",
        "print('Silhouette with squared euclidean distance = ' + str(silhouette))\n",
        "\n",
        "# visualizando os resultados\n",
        "centers = model.clusterCenters()\n",
        "print('\\nCluster Centers [K=3]: ')\n",
        "for center in centers:\n",
        "    print(center)"
      ],
      "execution_count": 42,
      "outputs": [
        {
          "output_type": "stream",
          "name": "stdout",
          "text": [
            "Silhouette with squared euclidean distance = 0.6958546319645178\n",
            "\n",
            "Cluster Centers [K=3]: \n",
            "[2.86210526e+01 5.91309684e+02 5.47368421e-01 5.12989474e+00\n",
            " 1.04315789e+01 5.86424211e+01]\n",
            "[ 18.27192982 286.43087719   0.45614035   3.16122807   8.01754386\n",
            "  70.10263158]\n",
            "[4.1768000e+01 9.1193904e+02 5.3600000e-01 7.2689600e+00 1.3720000e+01\n",
            " 4.4717040e+01]\n"
          ]
        }
      ]
    },
    {
      "cell_type": "code",
      "metadata": {
        "id": "4iBJsIj1ADIF"
      },
      "source": [
        "# kmeans_k2 = KMeans().setK(2).setSeed(1)\n",
        "# model_k2 = kmeans_k2.fit(cluster_final_data.select('features'))\n",
        "# predictions = model_k2.transform(cluster_final_data.select('features'))\n",
        "\n",
        "# evaluator = ClusteringEvaluator()\n",
        "# silhouette = evaluator.evaluate(predictions)\n",
        "# print('Silhouette with squared euclidean distance = ' + str(silhouette))\n",
        "\n",
        "# centers = model.clusterCenters()\n",
        "# print('\\nCluster Centers [K=2]: ')\n",
        "\n",
        "# for center in centers:\n",
        "#     print(center)"
      ],
      "execution_count": 43,
      "outputs": []
    },
    {
      "cell_type": "code",
      "metadata": {
        "id": "HfjTZ0fh_hNa"
      },
      "source": [
        "# kmeans_k3 = KMeans().setK(3).setSeed(1)\n",
        "# model_k3 = kmeans_k3.fit(cluster_final_data.select('features'))\n",
        "# predictions = model_k3.transform(cluster_final_data.select('features'))\n",
        "\n",
        "# evaluator = ClusteringEvaluator()\n",
        "# silhouette = evaluator.evaluate(predictions)\n",
        "# print('Silhouette with squared euclidean distance = ' + str(silhouette))\n",
        "\n",
        "# centers = model.clusterCenters()\n",
        "# print('\\nCluster Centers [K=3]: ')\n",
        "\n",
        "# for center in centers:\n",
        "#     print(center)"
      ],
      "execution_count": 44,
      "outputs": []
    },
    {
      "cell_type": "markdown",
      "metadata": {
        "id": "-pLV_NnvEPZe"
      },
      "source": [
        "## **LogisticRegression**"
      ]
    },
    {
      "cell_type": "markdown",
      "metadata": {
        "id": "5NhQB-HvEXgW"
      },
      "source": [
        "**Previsão de rotatividade do cliente com PySpark MLlib**\n",
        "\n",
        "A _previsão do churn_ é um grande negócio. Ele minimiza a deserção do cliente ao prever quais clientes provavelmente cancelarão a assinatura de um serviço. Embora originalmente usado no setor de telecomunicações, tornou-se uma prática comum em bancos, ISPs, seguradoras e outros segmentos.\n",
        "\n",
        "O processo de previsão é fortemente orientado por dados e frequentemente utiliza técnicas avançadas de aprendizado de máquina. Aqui, veremos quais tipos de dados de cliente são normalmente usados, faremos algumas análises preliminares dos dados e geraremos modelos de previsão de rotatividade - tudo com o `PySpark` e suas estruturas de aprendizado de máquina."
      ]
    },
    {
      "cell_type": "markdown",
      "metadata": {
        "id": "7gCCu9QIFKri"
      },
      "source": [
        "- **Descricão do problema:**\n",
        "\n",
        " Uma agência de marketing tem muitos clientes que usam seus serviços para produzir anúncios para os sites de clientes/consumidores. Eles perceberam que há uma grande rotatividade de clientes. \n",
        " \n",
        " Eles basicamente atribuem gerentes de conta de forma aleatória agora, mas querem que você crie um modelo de aprendizado de máquina que ajudará a prever quais clientes abandonarão (pararão de comprar seu serviço) para que possam atribuir corretamente os clientes com maior risco a dispensar um gerente de conta. \n",
        " \n",
        " Felizmente, eles têm alguns dados históricos."
      ]
    },
    {
      "cell_type": "markdown",
      "metadata": {
        "id": "dAf12R94GmVn"
      },
      "source": [
        "**Importando os dados de treinamento e teste**\n",
        "\n",
        "Importando os dados de treinamento e os dados de teste (dados de entrada para fins de teste)."
      ]
    },
    {
      "cell_type": "code",
      "metadata": {
        "id": "yZ8wSlkftHdK",
        "colab": {
          "base_uri": "https://localhost:8080/"
        },
        "outputId": "2601aaac-e762-43aa-bb82-62059ecb3b35"
      },
      "source": [
        "# !wget 'https://raw.githubusercontent.com/treselle-systems/customer_churn_analysis/master/WA_Fn-UseC_-Telco-Customer-Churn.csv'\n",
        "# !wget 'https://raw.githubusercontent.com/albayraktaroglu/Datasets/master/churn.csv'\n",
        "!wget 'https://raw.githubusercontent.com/FGalvao77/datasets/main/customer_churn.csv'"
      ],
      "execution_count": 45,
      "outputs": [
        {
          "output_type": "stream",
          "name": "stdout",
          "text": [
            "--2021-12-04 00:26:09--  https://raw.githubusercontent.com/FGalvao77/datasets/main/customer_churn.csv\n",
            "Resolving raw.githubusercontent.com (raw.githubusercontent.com)... 185.199.109.133, 185.199.110.133, 185.199.111.133, ...\n",
            "Connecting to raw.githubusercontent.com (raw.githubusercontent.com)|185.199.109.133|:443... connected.\n",
            "HTTP request sent, awaiting response... 200 OK\n",
            "Length: 115479 (113K) [text/plain]\n",
            "Saving to: ‘customer_churn.csv.4’\n",
            "\n",
            "customer_churn.csv. 100%[===================>] 112.77K  --.-KB/s    in 0.02s   \n",
            "\n",
            "2021-12-04 00:26:09 (6.97 MB/s) - ‘customer_churn.csv.4’ saved [115479/115479]\n",
            "\n"
          ]
        }
      ]
    },
    {
      "cell_type": "code",
      "metadata": {
        "id": "lCtpC42TtHa2",
        "colab": {
          "base_uri": "https://localhost:8080/"
        },
        "outputId": "b434d6c6-d093-4c1e-f3b0-932d47fe8352"
      },
      "source": [
        "# visualizando o conjunto de dados\n",
        "# !head WA_Fn-UseC_-Telco-Customer-Churn.csv\n",
        "# !head churn.csv\n",
        "!head customer_churn.csv"
      ],
      "execution_count": 46,
      "outputs": [
        {
          "output_type": "stream",
          "name": "stdout",
          "text": [
            "Names,Age,Total_Purchase,Account_Manager,Years,Num_Sites,Onboard_date,Location,Company,Churn\n",
            "Cameron Williams,42.0,11066.8,0,7.22,8.0,2013-08-30 07:00:40,\"10265 Elizabeth Mission Barkerburgh, AK 89518\",Harvey LLC,1\n",
            "Kevin Mueller,41.0,11916.22,0,6.5,11.0,2013-08-13 00:38:46,\"6157 Frank Gardens Suite 019 Carloshaven, RI 17756\",Wilson PLC,1\n",
            "Eric Lozano,38.0,12884.75,0,6.67,12.0,2016-06-29 06:20:07,\"1331 Keith Court Alyssahaven, DE 90114\",\"Miller, Johnson and Wallace\",1\n",
            "Phillip White,42.0,8010.76,0,6.71,10.0,2014-04-22 12:43:12,\"13120 Daniel Mount Angelabury, WY 30645-4695\",Smith Inc,1\n",
            "Cynthia Norton,37.0,9191.58,0,5.56,9.0,2016-01-19 15:31:15,\"765 Tricia Row Karenshire, MH 71730\",Love-Jones,1\n",
            "Jessica Williams,48.0,10356.02,0,5.12,8.0,2009-03-03 23:13:37,\"6187 Olson Mountains East Vincentborough, PR 74359\",Kelly-Warren,1\n",
            "Eric Butler,44.0,11331.58,1,5.23,11.0,2016-12-05 03:35:43,\"4846 Savannah Road West Justin, IA 87713-3460\",Reynolds-Sheppard,1\n",
            "Zachary Walsh,32.0,9885.12,1,6.92,9.0,2006-03-09 14:50:20,\"25271 Roy Expressway Suite 147 Brownport, FM 59852-6150\",Singh-Cole,1\n",
            "Ashlee Carr,43.0,14062.6,1,5.46,11.0,2011-09-29 05:47:23,\"3725 Caroline Stravenue South Christineview, MA 82059\",Lopez PLC,1\n"
          ]
        }
      ]
    },
    {
      "cell_type": "code",
      "metadata": {
        "id": "OgBAN9E9Ipxr"
      },
      "source": [
        "# PATH = '/content/WA_Fn-UseC_-Telco-Customer-Churn.csv'\n",
        "# PATH = '/content/churn.csv'\n",
        "PATH = '/content/customer_churn.csv'"
      ],
      "execution_count": 47,
      "outputs": []
    },
    {
      "cell_type": "code",
      "metadata": {
        "id": "Yj9O0wsFtHYO"
      },
      "source": [
        "# carregando o conjunto de dados e instanciando no objeto \"df\"\n",
        "df = spark.read.csv(PATH, \n",
        "                    header = True, \n",
        "                    inferSchema = True)"
      ],
      "execution_count": 48,
      "outputs": []
    },
    {
      "cell_type": "markdown",
      "metadata": {
        "id": "e2X8MTEqfhHR"
      },
      "source": [
        "**Esquema de Dados**"
      ]
    },
    {
      "cell_type": "code",
      "metadata": {
        "id": "-5f2yFr7tHSm",
        "colab": {
          "base_uri": "https://localhost:8080/"
        },
        "outputId": "bf0c811e-6340-4af2-b00d-a16623adcb9c"
      },
      "source": [
        "# visualizando o tipo de dado em cada atributo\n",
        "df.printSchema()"
      ],
      "execution_count": 49,
      "outputs": [
        {
          "output_type": "stream",
          "name": "stdout",
          "text": [
            "root\n",
            " |-- Names: string (nullable = true)\n",
            " |-- Age: double (nullable = true)\n",
            " |-- Total_Purchase: double (nullable = true)\n",
            " |-- Account_Manager: integer (nullable = true)\n",
            " |-- Years: double (nullable = true)\n",
            " |-- Num_Sites: double (nullable = true)\n",
            " |-- Onboard_date: string (nullable = true)\n",
            " |-- Location: string (nullable = true)\n",
            " |-- Company: string (nullable = true)\n",
            " |-- Churn: integer (nullable = true)\n",
            "\n"
          ]
        }
      ]
    },
    {
      "cell_type": "markdown",
      "metadata": {
        "id": "0J-yF9bIkzVi"
      },
      "source": [
        "> O atributo `Churn` é a nossa variável alvo."
      ]
    },
    {
      "cell_type": "code",
      "metadata": {
        "colab": {
          "base_uri": "https://localhost:8080/"
        },
        "id": "X_EjV2XpIyBX",
        "outputId": "95ee606b-2421-490d-c374-5848ed7b4888"
      },
      "source": [
        "# visualizando as 5 primeiras linhas do conjunto de dados\n",
        "df.show(5)"
      ],
      "execution_count": 50,
      "outputs": [
        {
          "output_type": "stream",
          "name": "stdout",
          "text": [
            "+----------------+----+--------------+---------------+-----+---------+-------------------+--------------------+--------------------+-----+\n",
            "|           Names| Age|Total_Purchase|Account_Manager|Years|Num_Sites|       Onboard_date|            Location|             Company|Churn|\n",
            "+----------------+----+--------------+---------------+-----+---------+-------------------+--------------------+--------------------+-----+\n",
            "|Cameron Williams|42.0|       11066.8|              0| 7.22|      8.0|2013-08-30 07:00:40|10265 Elizabeth M...|          Harvey LLC|    1|\n",
            "|   Kevin Mueller|41.0|      11916.22|              0|  6.5|     11.0|2013-08-13 00:38:46|6157 Frank Garden...|          Wilson PLC|    1|\n",
            "|     Eric Lozano|38.0|      12884.75|              0| 6.67|     12.0|2016-06-29 06:20:07|1331 Keith Court ...|Miller, Johnson a...|    1|\n",
            "|   Phillip White|42.0|       8010.76|              0| 6.71|     10.0|2014-04-22 12:43:12|13120 Daniel Moun...|           Smith Inc|    1|\n",
            "|  Cynthia Norton|37.0|       9191.58|              0| 5.56|      9.0|2016-01-19 15:31:15|765 Tricia Row Ka...|          Love-Jones|    1|\n",
            "+----------------+----+--------------+---------------+-----+---------+-------------------+--------------------+--------------------+-----+\n",
            "only showing top 5 rows\n",
            "\n"
          ]
        }
      ]
    },
    {
      "cell_type": "code",
      "metadata": {
        "colab": {
          "base_uri": "https://localhost:8080/"
        },
        "id": "H4aNAfjAIx_n",
        "outputId": "de7c073a-6fe0-4648-a445-4b91a9211cdf"
      },
      "source": [
        "# contabilizando a quantidade observações presente no conjunto de dados\n",
        "df.count()"
      ],
      "execution_count": 51,
      "outputs": [
        {
          "output_type": "execute_result",
          "data": {
            "text/plain": [
              "900"
            ]
          },
          "metadata": {},
          "execution_count": 51
        }
      ]
    },
    {
      "cell_type": "code",
      "metadata": {
        "id": "qleeddTwWkQM"
      },
      "source": [
        "# dividindo o conjunto de dados em dados para modelagem e dados para teste\n",
        "data_modeling, test_data = df.randomSplit([0.7,0.3]) "
      ],
      "execution_count": 52,
      "outputs": []
    },
    {
      "cell_type": "code",
      "metadata": {
        "colab": {
          "base_uri": "https://localhost:8080/"
        },
        "id": "O3BR5tzLWkNV",
        "outputId": "532a6f9f-842e-4cdb-bd3c-dda549993bb0"
      },
      "source": [
        "# visualizando a quantidade de instâncias em cada novo objeto\n",
        "data_modeling.count(), test_data.count()"
      ],
      "execution_count": 53,
      "outputs": [
        {
          "output_type": "execute_result",
          "data": {
            "text/plain": [
              "(640, 260)"
            ]
          },
          "metadata": {},
          "execution_count": 53
        }
      ]
    },
    {
      "cell_type": "code",
      "metadata": {
        "colab": {
          "base_uri": "https://localhost:8080/"
        },
        "id": "dqbNqYa8WkKL",
        "outputId": "b52f0d87-6edf-409a-d682-5021411399ae"
      },
      "source": [
        "# visualizando as 5 primeiras linhas dos dados para modelagem\n",
        "data_modeling.show(5)"
      ],
      "execution_count": 54,
      "outputs": [
        {
          "output_type": "stream",
          "name": "stdout",
          "text": [
            "+----------------+----+--------------+---------------+-----+---------+-------------------+--------------------+--------------------+-----+\n",
            "|           Names| Age|Total_Purchase|Account_Manager|Years|Num_Sites|       Onboard_date|            Location|             Company|Churn|\n",
            "+----------------+----+--------------+---------------+-----+---------+-------------------+--------------------+--------------------+-----+\n",
            "|      Aaron King|46.0|       7504.79|              0| 5.98|      8.0|2007-05-13 20:42:11|38346 Smith Prair...|       Hernandez PLC|    0|\n",
            "|     Aaron Meyer|45.0|       9598.03|              0|  5.0|      7.0|2010-07-17 03:30:38|35821 Bailey Skyw...|Steele, Bates and...|    0|\n",
            "|      Aaron West|55.0|      10056.55|              0| 4.98|      8.0|2006-09-01 06:11:47|071 Schmidt Locks...|Cruz, Russell and...|    0|\n",
            "|Abigail Gonzalez|55.0|       8243.28|              0| 3.54|      6.0|2014-01-09 19:52:37|325 Lawrence Cros...|          Nelson PLC|    0|\n",
            "|      Adam Gomez|48.0|       6495.01|              1| 5.57|     12.0|2013-02-06 05:15:06|2889 Coffey Parks...|      Thompson Group|    1|\n",
            "+----------------+----+--------------+---------------+-----+---------+-------------------+--------------------+--------------------+-----+\n",
            "only showing top 5 rows\n",
            "\n"
          ]
        }
      ]
    },
    {
      "cell_type": "code",
      "metadata": {
        "colab": {
          "base_uri": "https://localhost:8080/"
        },
        "id": "O-nPsVQ4WkBk",
        "outputId": "bd5b4356-2498-4ef4-e786-5b0ca7ac0c16"
      },
      "source": [
        "# visualizando as 5 primeiras linhas dos dados para teste\n",
        "test_data.show(5)"
      ],
      "execution_count": 55,
      "outputs": [
        {
          "output_type": "stream",
          "name": "stdout",
          "text": [
            "+----------------+----+--------------+---------------+-----+---------+-------------------+--------------------+--------------------+-----+\n",
            "|           Names| Age|Total_Purchase|Account_Manager|Years|Num_Sites|       Onboard_date|            Location|             Company|Churn|\n",
            "+----------------+----+--------------+---------------+-----+---------+-------------------+--------------------+--------------------+-----+\n",
            "|Abigail Jennings|36.0|      12309.23|              1| 4.76|      9.0|2012-03-11 17:10:26|USS Mcgrath FPO A...|Simpson, Byrd and...|    0|\n",
            "|     Adam Harris|44.0|       9815.03|              1|  4.9|      9.0|2016-05-29 06:00:09|40488 Michael For...|Smith, Oconnor an...|    0|\n",
            "|      Adam Moore|41.0|      12659.88|              0| 4.55|      4.0|2010-01-22 19:08:48|339 Jeffrey River...|Little, White and...|    0|\n",
            "|   Adriana James|36.0|      10448.09|              0| 4.13|      8.0|2016-04-09 09:02:14|USNV Ferguson FPO...|Doyle, Butler and...|    0|\n",
            "|       Alan Gray|29.0|       9617.59|              0| 5.49|      8.0|2013-02-19 03:23:16|9278 Jenna Ways A...|         Mendoza Inc|    0|\n",
            "+----------------+----+--------------+---------------+-----+---------+-------------------+--------------------+--------------------+-----+\n",
            "only showing top 5 rows\n",
            "\n"
          ]
        }
      ]
    },
    {
      "cell_type": "code",
      "metadata": {
        "colab": {
          "base_uri": "https://localhost:8080/"
        },
        "id": "MeUuQoGFXXBh",
        "outputId": "95c6f98b-f905-49d6-a31a-c4a8350fc54e"
      },
      "source": [
        "# visualizando o tipo de dado em cada atributo dos dados para modelagem\n",
        "data_modeling.printSchema()"
      ],
      "execution_count": 56,
      "outputs": [
        {
          "output_type": "stream",
          "name": "stdout",
          "text": [
            "root\n",
            " |-- Names: string (nullable = true)\n",
            " |-- Age: double (nullable = true)\n",
            " |-- Total_Purchase: double (nullable = true)\n",
            " |-- Account_Manager: integer (nullable = true)\n",
            " |-- Years: double (nullable = true)\n",
            " |-- Num_Sites: double (nullable = true)\n",
            " |-- Onboard_date: string (nullable = true)\n",
            " |-- Location: string (nullable = true)\n",
            " |-- Company: string (nullable = true)\n",
            " |-- Churn: integer (nullable = true)\n",
            "\n"
          ]
        }
      ]
    },
    {
      "cell_type": "markdown",
      "metadata": {
        "id": "Sbv0KRzplAry"
      },
      "source": [
        "**Usando o `Vector` e o `VectorAssembler`**"
      ]
    },
    {
      "cell_type": "code",
      "metadata": {
        "id": "hsbQNPwBc53d"
      },
      "source": [
        "# importando as bibliotecas\n",
        "from pyspark.ml.linalg import Vectors\n",
        "from pyspark.ml.feature import VectorAssembler\n",
        "\n",
        "# instanciando o objeto e seus argumentos:\n",
        "# atributos de entrada e saída\n",
        "assembler = VectorAssembler(inputCols = ['Age','Total_Purchase','Account_Manager','Years','Num_Sites'],\n",
        "                            outputCol = 'features')\n",
        "\n",
        "# instanciando o resultado no objeto \"output_data\"\n",
        "output_data = assembler.transform(data_modeling)"
      ],
      "execution_count": 57,
      "outputs": []
    },
    {
      "cell_type": "code",
      "metadata": {
        "colab": {
          "base_uri": "https://localhost:8080/"
        },
        "id": "cW-DltVhc5yq",
        "outputId": "baf43801-a6ad-4180-87cc-cdc4bcbe5bfd"
      },
      "source": [
        "# visualizando as 3 primeiras linhas \n",
        "output_data.show(3)"
      ],
      "execution_count": 58,
      "outputs": [
        {
          "output_type": "stream",
          "name": "stdout",
          "text": [
            "+-----------+----+--------------+---------------+-----+---------+-------------------+--------------------+--------------------+-----+--------------------+\n",
            "|      Names| Age|Total_Purchase|Account_Manager|Years|Num_Sites|       Onboard_date|            Location|             Company|Churn|            features|\n",
            "+-----------+----+--------------+---------------+-----+---------+-------------------+--------------------+--------------------+-----+--------------------+\n",
            "| Aaron King|46.0|       7504.79|              0| 5.98|      8.0|2007-05-13 20:42:11|38346 Smith Prair...|       Hernandez PLC|    0|[46.0,7504.79,0.0...|\n",
            "|Aaron Meyer|45.0|       9598.03|              0|  5.0|      7.0|2010-07-17 03:30:38|35821 Bailey Skyw...|Steele, Bates and...|    0|[45.0,9598.03,0.0...|\n",
            "| Aaron West|55.0|      10056.55|              0| 4.98|      8.0|2006-09-01 06:11:47|071 Schmidt Locks...|Cruz, Russell and...|    0|[55.0,10056.55,0....|\n",
            "+-----------+----+--------------+---------------+-----+---------+-------------------+--------------------+--------------------+-----+--------------------+\n",
            "only showing top 3 rows\n",
            "\n"
          ]
        }
      ]
    },
    {
      "cell_type": "code",
      "metadata": {
        "colab": {
          "base_uri": "https://localhost:8080/"
        },
        "id": "5fwwwXC6c5v3",
        "outputId": "a2703779-89e7-47ca-df2e-66574a646325"
      },
      "source": [
        "# visualizando o tipo de dado em cada atributo\n",
        "output_data.printSchema()"
      ],
      "execution_count": 59,
      "outputs": [
        {
          "output_type": "stream",
          "name": "stdout",
          "text": [
            "root\n",
            " |-- Names: string (nullable = true)\n",
            " |-- Age: double (nullable = true)\n",
            " |-- Total_Purchase: double (nullable = true)\n",
            " |-- Account_Manager: integer (nullable = true)\n",
            " |-- Years: double (nullable = true)\n",
            " |-- Num_Sites: double (nullable = true)\n",
            " |-- Onboard_date: string (nullable = true)\n",
            " |-- Location: string (nullable = true)\n",
            " |-- Company: string (nullable = true)\n",
            " |-- Churn: integer (nullable = true)\n",
            " |-- features: vector (nullable = true)\n",
            "\n"
          ]
        }
      ]
    },
    {
      "cell_type": "markdown",
      "metadata": {
        "id": "F1OCHZIylOdb"
      },
      "source": [
        "> Como podemos observar, temos um novo atributo, `features` que será a base da modelo de classificação."
      ]
    },
    {
      "cell_type": "markdown",
      "metadata": {
        "id": "5lep0w0vlje8"
      },
      "source": [
        "**Usando Regressão Logística nos dados**"
      ]
    },
    {
      "cell_type": "code",
      "metadata": {
        "id": "F_HxTssDeG8p"
      },
      "source": [
        "# importando a biblioteca\n",
        "from pyspark.ml.classification import LogisticRegression"
      ],
      "execution_count": 60,
      "outputs": []
    },
    {
      "cell_type": "code",
      "metadata": {
        "colab": {
          "base_uri": "https://localhost:8080/"
        },
        "id": "CCHYBj_Jc5sT",
        "outputId": "25bb492a-6bb3-4192-ce13-6d042258094e"
      },
      "source": [
        "# criando dados finais com apenas 2 colunas\n",
        "final_data = output_data.select('features','churn')    \n",
        "\n",
        "# divisão dos dados em treino e teste\n",
        "train_data, val_data = final_data.randomSplit([0.7,0.3])          \n",
        "\n",
        "# criando o modelo\n",
        "model_lr = LogisticRegression(labelCol = 'churn')           \n",
        "\n",
        "# treinando o modelo com os dados de treino\n",
        "model = model_lr.fit(train_data)        \n",
        " \n",
        " # resumo das previsões sobre os dados de treinamento\n",
        "summary=model.summary\n",
        "summary.predictions.describe().show()"
      ],
      "execution_count": 61,
      "outputs": [
        {
          "output_type": "stream",
          "name": "stdout",
          "text": [
            "+-------+-------------------+-------------------+\n",
            "|summary|              churn|         prediction|\n",
            "+-------+-------------------+-------------------+\n",
            "|  count|                448|                448|\n",
            "|   mean|0.18303571428571427|0.13839285714285715|\n",
            "| stddev| 0.3871281037899569| 0.3456978897828559|\n",
            "|    min|                0.0|                0.0|\n",
            "|    max|                1.0|                1.0|\n",
            "+-------+-------------------+-------------------+\n",
            "\n"
          ]
        }
      ]
    },
    {
      "cell_type": "markdown",
      "metadata": {
        "id": "_dxlTkoPlpr1"
      },
      "source": [
        "**Importando o BinaryClassificationEvaluator**\n",
        "\n",
        "\n",
        "A avaliação de classificadores binários compara dois métodos de atribuição de um atributo binário, um dos quais geralmente é um método padrão e o outro está sendo investigado. Existem muitas métricas que podem ser usadas para medir o desempenho de um classificador ou preditor; campos diferentes têm preferências diferentes para métricas específicas devido a objetivos diferentes."
      ]
    },
    {
      "cell_type": "code",
      "metadata": {
        "id": "HwvtSopAc5py"
      },
      "source": [
        "# importando a biblioteca\n",
        "from pyspark.ml.evaluation import BinaryClassificationEvaluator\n",
        "\n",
        "# realizando as predições com o modelo com os dados de validação\n",
        "predictions = model.evaluate(val_data)"
      ],
      "execution_count": 62,
      "outputs": []
    },
    {
      "cell_type": "code",
      "metadata": {
        "colab": {
          "base_uri": "https://localhost:8080/"
        },
        "id": "SR_MphaFc5mU",
        "outputId": "e225c9ae-f11a-4870-c72d-3b25da94447c"
      },
      "source": [
        "# visualizando as classes\n",
        "predictions.labels"
      ],
      "execution_count": 63,
      "outputs": [
        {
          "output_type": "execute_result",
          "data": {
            "text/plain": [
              "[0.0, 1.0]"
            ]
          },
          "metadata": {},
          "execution_count": 63
        }
      ]
    },
    {
      "cell_type": "markdown",
      "metadata": {
        "id": "STAk36WGl1yn"
      },
      "source": [
        "A seguir, criaremos um avaliador e usaremos o avaliador de classificação binária para prever a rotatividade."
      ]
    },
    {
      "cell_type": "code",
      "metadata": {
        "id": "5sq1OGnhc5je"
      },
      "source": [
        "# instanciando o avaliador\n",
        "evaluator = BinaryClassificationEvaluator(rawPredictionCol = 'prediction',\n",
        "                                          labelCol = 'churn')\n",
        "\n",
        "# aplicando o avaliador nas predições\n",
        "evaluator.evaluate(predictions.predictions)\n",
        " \n",
        "# instanciando o modelo\n",
        "model1 = LogisticRegression(labelCol = 'churn')\n",
        "\n",
        "# realizando o treinamento com os dados \"final_data\"\n",
        "model1 = model1.fit(final_data)\n",
        "\n",
        "# realizando as transformações nos dados de teste\n",
        "test_final = assembler.transform(test_data)"
      ],
      "execution_count": 64,
      "outputs": []
    },
    {
      "cell_type": "markdown",
      "metadata": {
        "id": "ZlL3XdAzl6lF"
      },
      "source": [
        "**Resultados da descoberta**\n",
        "\n",
        "Agora vamos usar o modelo para avaliar os dados de teste (test_data)."
      ]
    },
    {
      "cell_type": "code",
      "metadata": {
        "colab": {
          "base_uri": "https://localhost:8080/"
        },
        "id": "dwoKdC4Ec5gD",
        "outputId": "2fe28410-2425-44ea-994e-1b95e3562bb4"
      },
      "source": [
        "# aplicando o \"model1\" nos dados de teste após sua transformação\n",
        "results = model1.transform(test_final)\n",
        "\n",
        "# visualizando o resultado das predições\n",
        "results.select('Company','prediction').show(50)"
      ],
      "execution_count": 69,
      "outputs": [
        {
          "output_type": "stream",
          "name": "stdout",
          "text": [
            "+--------------------+----------+\n",
            "|             Company|prediction|\n",
            "+--------------------+----------+\n",
            "|Simpson, Byrd and...|       0.0|\n",
            "|Smith, Oconnor an...|       0.0|\n",
            "|Little, White and...|       0.0|\n",
            "|Doyle, Butler and...|       0.0|\n",
            "|         Mendoza Inc|       0.0|\n",
            "|Mann, Roberts and...|       0.0|\n",
            "|      Jones and Sons|       0.0|\n",
            "|   Campbell and Sons|       0.0|\n",
            "|Green, Jackson an...|       0.0|\n",
            "|Jordan, Beasley a...|       0.0|\n",
            "|Davis, Mccormick ...|       0.0|\n",
            "|Nelson, Ray and J...|       0.0|\n",
            "|          Parker PLC|       0.0|\n",
            "|Johnson, Fields a...|       0.0|\n",
            "|Barron, Tapia and...|       0.0|\n",
            "|Conner, Brown and...|       0.0|\n",
            "|      Woodward-Bruce|       0.0|\n",
            "|      Miller-Ramirez|       0.0|\n",
            "|       Miranda-Sloan|       0.0|\n",
            "|Brown, Johnson an...|       0.0|\n",
            "|        Knight-Price|       0.0|\n",
            "|   Williamson-Walker|       0.0|\n",
            "|Jones, Reyes and ...|       0.0|\n",
            "|Benitez, Durham a...|       0.0|\n",
            "|Johnson, Ingram a...|       0.0|\n",
            "|          Brooks Inc|       0.0|\n",
            "|Fisher, Moore and...|       0.0|\n",
            "|          Wilson LLC|       0.0|\n",
            "|    Sanchez-Cardenas|       0.0|\n",
            "|           Ramos PLC|       0.0|\n",
            "|          Forbes LLC|       0.0|\n",
            "|         Rosales Inc|       0.0|\n",
            "|           Avery Inc|       0.0|\n",
            "|Lee, Valencia and...|       0.0|\n",
            "|       Johnson Group|       0.0|\n",
            "|Martinez, Ochoa a...|       0.0|\n",
            "|       Alexander LLC|       0.0|\n",
            "|          Dixon-Love|       0.0|\n",
            "|           Hood-Webb|       0.0|\n",
            "|    Figueroa-Maynard|       1.0|\n",
            "|Edwards, Webster ...|       1.0|\n",
            "|          Weaver Inc|       0.0|\n",
            "|          Tucker Inc|       0.0|\n",
            "|     Bishop and Sons|       0.0|\n",
            "|Thomas, Marks and...|       0.0|\n",
            "|       Smith-Carroll|       0.0|\n",
            "|     Vargas and Sons|       0.0|\n",
            "|  Christensen-Mccann|       0.0|\n",
            "|Hill, Roberts and...|       0.0|\n",
            "|           Evans LLC|       0.0|\n",
            "+--------------------+----------+\n",
            "only showing top 50 rows\n",
            "\n"
          ]
        }
      ]
    },
    {
      "cell_type": "markdown",
      "metadata": {
        "id": "6ldCXl0CmH7W"
      },
      "source": [
        "> Aqui podemos ver o cliente potencial que pode deixar a de adquirir os serviços da empresa."
      ]
    },
    {
      "cell_type": "code",
      "metadata": {
        "id": "XJYTo25Oc5de"
      },
      "source": [
        ""
      ],
      "execution_count": 65,
      "outputs": []
    },
    {
      "cell_type": "code",
      "metadata": {
        "id": "e0xjzbrwc5aA"
      },
      "source": [
        ""
      ],
      "execution_count": 65,
      "outputs": []
    },
    {
      "cell_type": "code",
      "metadata": {
        "id": "zanSoO4Khni_"
      },
      "source": [
        ""
      ],
      "execution_count": 65,
      "outputs": []
    }
  ]
}